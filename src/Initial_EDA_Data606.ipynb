{
  "nbformat": 4,
  "nbformat_minor": 0,
  "metadata": {
    "colab": {
      "provenance": []
    },
    "kernelspec": {
      "name": "python3",
      "display_name": "Python 3"
    },
    "language_info": {
      "name": "python"
    }
  },
  "cells": [
    {
      "cell_type": "markdown",
      "source": [
        "## DATA 606 Capstone in Data Science\n",
        "### Project Title: Lung Cancer Detection\n",
        "### Author: Swapan Gupta Chollati(RJ29255)"
      ],
      "metadata": {
        "id": "Nc8mxa4g02_t"
      }
    },
    {
      "cell_type": "markdown",
      "source": [
        "- Dataset is downloaded from: https://www.kaggle.com/code/sripadkarthik/lung-cancer-prediction-using-ml-and-dl/data and uploaded to Github repository in a folder \"data\" created for the project. \n"
      ],
      "metadata": {
        "id": "xwT4QHS80TUV"
      }
    },
    {
      "cell_type": "code",
      "execution_count": 14,
      "metadata": {
        "id": "u3QmGskSJ3_z"
      },
      "outputs": [],
      "source": [
        "import pandas as pd\n",
        "import plotly.express as px"
      ]
    },
    {
      "cell_type": "code",
      "source": [
        "df= pd.read_csv(\"https://raw.githubusercontent.com/SwapanGupt/SwapanGupta_Data606/main/data/LungCancer%20Dataset.csv\")"
      ],
      "metadata": {
        "id": "KaXtBlGdJ6s3"
      },
      "execution_count": 10,
      "outputs": []
    },
    {
      "cell_type": "code",
      "source": [
        "df.head()"
      ],
      "metadata": {
        "colab": {
          "base_uri": "https://localhost:8080/",
          "height": 351
        },
        "id": "P9_AuhFtLKyd",
        "outputId": "ead1ba3b-9586-4771-fd23-878629c88f46"
      },
      "execution_count": 11,
      "outputs": [
        {
          "output_type": "execute_result",
          "data": {
            "text/plain": [
              "   index Patient Id  Age  Gender  Air Pollution  Alcohol use  Dust Allergy  \\\n",
              "0      0         P1   33       1              2            4             5   \n",
              "1      1        P10   17       1              3            1             5   \n",
              "2      2       P100   35       1              4            5             6   \n",
              "3      3      P1000   37       1              7            7             7   \n",
              "4      4       P101   46       1              6            8             7   \n",
              "\n",
              "   OccuPational Hazards  Genetic Risk  chronic Lung Disease  ...  Fatigue  \\\n",
              "0                     4             3                     2  ...        3   \n",
              "1                     3             4                     2  ...        1   \n",
              "2                     5             5                     4  ...        8   \n",
              "3                     7             6                     7  ...        4   \n",
              "4                     7             7                     6  ...        3   \n",
              "\n",
              "   Weight Loss  Shortness of Breath  Wheezing  Swallowing Difficulty  \\\n",
              "0            4                    2         2                      3   \n",
              "1            3                    7         8                      6   \n",
              "2            7                    9         2                      1   \n",
              "3            2                    3         1                      4   \n",
              "4            2                    4         1                      4   \n",
              "\n",
              "   Clubbing of Finger Nails  Frequent Cold  Dry Cough  Snoring   Level  \n",
              "0                         1              2          3        4     Low  \n",
              "1                         2              1          7        2  Medium  \n",
              "2                         4              6          7        2    High  \n",
              "3                         5              6          7        5    High  \n",
              "4                         2              4          2        3    High  \n",
              "\n",
              "[5 rows x 26 columns]"
            ],
            "text/html": [
              "\n",
              "  <div id=\"df-c58cabd9-e50c-4066-a1b4-5ff275291b2c\">\n",
              "    <div class=\"colab-df-container\">\n",
              "      <div>\n",
              "<style scoped>\n",
              "    .dataframe tbody tr th:only-of-type {\n",
              "        vertical-align: middle;\n",
              "    }\n",
              "\n",
              "    .dataframe tbody tr th {\n",
              "        vertical-align: top;\n",
              "    }\n",
              "\n",
              "    .dataframe thead th {\n",
              "        text-align: right;\n",
              "    }\n",
              "</style>\n",
              "<table border=\"1\" class=\"dataframe\">\n",
              "  <thead>\n",
              "    <tr style=\"text-align: right;\">\n",
              "      <th></th>\n",
              "      <th>index</th>\n",
              "      <th>Patient Id</th>\n",
              "      <th>Age</th>\n",
              "      <th>Gender</th>\n",
              "      <th>Air Pollution</th>\n",
              "      <th>Alcohol use</th>\n",
              "      <th>Dust Allergy</th>\n",
              "      <th>OccuPational Hazards</th>\n",
              "      <th>Genetic Risk</th>\n",
              "      <th>chronic Lung Disease</th>\n",
              "      <th>...</th>\n",
              "      <th>Fatigue</th>\n",
              "      <th>Weight Loss</th>\n",
              "      <th>Shortness of Breath</th>\n",
              "      <th>Wheezing</th>\n",
              "      <th>Swallowing Difficulty</th>\n",
              "      <th>Clubbing of Finger Nails</th>\n",
              "      <th>Frequent Cold</th>\n",
              "      <th>Dry Cough</th>\n",
              "      <th>Snoring</th>\n",
              "      <th>Level</th>\n",
              "    </tr>\n",
              "  </thead>\n",
              "  <tbody>\n",
              "    <tr>\n",
              "      <th>0</th>\n",
              "      <td>0</td>\n",
              "      <td>P1</td>\n",
              "      <td>33</td>\n",
              "      <td>1</td>\n",
              "      <td>2</td>\n",
              "      <td>4</td>\n",
              "      <td>5</td>\n",
              "      <td>4</td>\n",
              "      <td>3</td>\n",
              "      <td>2</td>\n",
              "      <td>...</td>\n",
              "      <td>3</td>\n",
              "      <td>4</td>\n",
              "      <td>2</td>\n",
              "      <td>2</td>\n",
              "      <td>3</td>\n",
              "      <td>1</td>\n",
              "      <td>2</td>\n",
              "      <td>3</td>\n",
              "      <td>4</td>\n",
              "      <td>Low</td>\n",
              "    </tr>\n",
              "    <tr>\n",
              "      <th>1</th>\n",
              "      <td>1</td>\n",
              "      <td>P10</td>\n",
              "      <td>17</td>\n",
              "      <td>1</td>\n",
              "      <td>3</td>\n",
              "      <td>1</td>\n",
              "      <td>5</td>\n",
              "      <td>3</td>\n",
              "      <td>4</td>\n",
              "      <td>2</td>\n",
              "      <td>...</td>\n",
              "      <td>1</td>\n",
              "      <td>3</td>\n",
              "      <td>7</td>\n",
              "      <td>8</td>\n",
              "      <td>6</td>\n",
              "      <td>2</td>\n",
              "      <td>1</td>\n",
              "      <td>7</td>\n",
              "      <td>2</td>\n",
              "      <td>Medium</td>\n",
              "    </tr>\n",
              "    <tr>\n",
              "      <th>2</th>\n",
              "      <td>2</td>\n",
              "      <td>P100</td>\n",
              "      <td>35</td>\n",
              "      <td>1</td>\n",
              "      <td>4</td>\n",
              "      <td>5</td>\n",
              "      <td>6</td>\n",
              "      <td>5</td>\n",
              "      <td>5</td>\n",
              "      <td>4</td>\n",
              "      <td>...</td>\n",
              "      <td>8</td>\n",
              "      <td>7</td>\n",
              "      <td>9</td>\n",
              "      <td>2</td>\n",
              "      <td>1</td>\n",
              "      <td>4</td>\n",
              "      <td>6</td>\n",
              "      <td>7</td>\n",
              "      <td>2</td>\n",
              "      <td>High</td>\n",
              "    </tr>\n",
              "    <tr>\n",
              "      <th>3</th>\n",
              "      <td>3</td>\n",
              "      <td>P1000</td>\n",
              "      <td>37</td>\n",
              "      <td>1</td>\n",
              "      <td>7</td>\n",
              "      <td>7</td>\n",
              "      <td>7</td>\n",
              "      <td>7</td>\n",
              "      <td>6</td>\n",
              "      <td>7</td>\n",
              "      <td>...</td>\n",
              "      <td>4</td>\n",
              "      <td>2</td>\n",
              "      <td>3</td>\n",
              "      <td>1</td>\n",
              "      <td>4</td>\n",
              "      <td>5</td>\n",
              "      <td>6</td>\n",
              "      <td>7</td>\n",
              "      <td>5</td>\n",
              "      <td>High</td>\n",
              "    </tr>\n",
              "    <tr>\n",
              "      <th>4</th>\n",
              "      <td>4</td>\n",
              "      <td>P101</td>\n",
              "      <td>46</td>\n",
              "      <td>1</td>\n",
              "      <td>6</td>\n",
              "      <td>8</td>\n",
              "      <td>7</td>\n",
              "      <td>7</td>\n",
              "      <td>7</td>\n",
              "      <td>6</td>\n",
              "      <td>...</td>\n",
              "      <td>3</td>\n",
              "      <td>2</td>\n",
              "      <td>4</td>\n",
              "      <td>1</td>\n",
              "      <td>4</td>\n",
              "      <td>2</td>\n",
              "      <td>4</td>\n",
              "      <td>2</td>\n",
              "      <td>3</td>\n",
              "      <td>High</td>\n",
              "    </tr>\n",
              "  </tbody>\n",
              "</table>\n",
              "<p>5 rows × 26 columns</p>\n",
              "</div>\n",
              "      <button class=\"colab-df-convert\" onclick=\"convertToInteractive('df-c58cabd9-e50c-4066-a1b4-5ff275291b2c')\"\n",
              "              title=\"Convert this dataframe to an interactive table.\"\n",
              "              style=\"display:none;\">\n",
              "        \n",
              "  <svg xmlns=\"http://www.w3.org/2000/svg\" height=\"24px\"viewBox=\"0 0 24 24\"\n",
              "       width=\"24px\">\n",
              "    <path d=\"M0 0h24v24H0V0z\" fill=\"none\"/>\n",
              "    <path d=\"M18.56 5.44l.94 2.06.94-2.06 2.06-.94-2.06-.94-.94-2.06-.94 2.06-2.06.94zm-11 1L8.5 8.5l.94-2.06 2.06-.94-2.06-.94L8.5 2.5l-.94 2.06-2.06.94zm10 10l.94 2.06.94-2.06 2.06-.94-2.06-.94-.94-2.06-.94 2.06-2.06.94z\"/><path d=\"M17.41 7.96l-1.37-1.37c-.4-.4-.92-.59-1.43-.59-.52 0-1.04.2-1.43.59L10.3 9.45l-7.72 7.72c-.78.78-.78 2.05 0 2.83L4 21.41c.39.39.9.59 1.41.59.51 0 1.02-.2 1.41-.59l7.78-7.78 2.81-2.81c.8-.78.8-2.07 0-2.86zM5.41 20L4 18.59l7.72-7.72 1.47 1.35L5.41 20z\"/>\n",
              "  </svg>\n",
              "      </button>\n",
              "      \n",
              "  <style>\n",
              "    .colab-df-container {\n",
              "      display:flex;\n",
              "      flex-wrap:wrap;\n",
              "      gap: 12px;\n",
              "    }\n",
              "\n",
              "    .colab-df-convert {\n",
              "      background-color: #E8F0FE;\n",
              "      border: none;\n",
              "      border-radius: 50%;\n",
              "      cursor: pointer;\n",
              "      display: none;\n",
              "      fill: #1967D2;\n",
              "      height: 32px;\n",
              "      padding: 0 0 0 0;\n",
              "      width: 32px;\n",
              "    }\n",
              "\n",
              "    .colab-df-convert:hover {\n",
              "      background-color: #E2EBFA;\n",
              "      box-shadow: 0px 1px 2px rgba(60, 64, 67, 0.3), 0px 1px 3px 1px rgba(60, 64, 67, 0.15);\n",
              "      fill: #174EA6;\n",
              "    }\n",
              "\n",
              "    [theme=dark] .colab-df-convert {\n",
              "      background-color: #3B4455;\n",
              "      fill: #D2E3FC;\n",
              "    }\n",
              "\n",
              "    [theme=dark] .colab-df-convert:hover {\n",
              "      background-color: #434B5C;\n",
              "      box-shadow: 0px 1px 3px 1px rgba(0, 0, 0, 0.15);\n",
              "      filter: drop-shadow(0px 1px 2px rgba(0, 0, 0, 0.3));\n",
              "      fill: #FFFFFF;\n",
              "    }\n",
              "  </style>\n",
              "\n",
              "      <script>\n",
              "        const buttonEl =\n",
              "          document.querySelector('#df-c58cabd9-e50c-4066-a1b4-5ff275291b2c button.colab-df-convert');\n",
              "        buttonEl.style.display =\n",
              "          google.colab.kernel.accessAllowed ? 'block' : 'none';\n",
              "\n",
              "        async function convertToInteractive(key) {\n",
              "          const element = document.querySelector('#df-c58cabd9-e50c-4066-a1b4-5ff275291b2c');\n",
              "          const dataTable =\n",
              "            await google.colab.kernel.invokeFunction('convertToInteractive',\n",
              "                                                     [key], {});\n",
              "          if (!dataTable) return;\n",
              "\n",
              "          const docLinkHtml = 'Like what you see? Visit the ' +\n",
              "            '<a target=\"_blank\" href=https://colab.research.google.com/notebooks/data_table.ipynb>data table notebook</a>'\n",
              "            + ' to learn more about interactive tables.';\n",
              "          element.innerHTML = '';\n",
              "          dataTable['output_type'] = 'display_data';\n",
              "          await google.colab.output.renderOutput(dataTable, element);\n",
              "          const docLink = document.createElement('div');\n",
              "          docLink.innerHTML = docLinkHtml;\n",
              "          element.appendChild(docLink);\n",
              "        }\n",
              "      </script>\n",
              "    </div>\n",
              "  </div>\n",
              "  "
            ]
          },
          "metadata": {},
          "execution_count": 11
        }
      ]
    },
    {
      "cell_type": "code",
      "source": [
        "rows=df.shape[0]\n",
        "print(\"rows:\",rows)"
      ],
      "metadata": {
        "colab": {
          "base_uri": "https://localhost:8080/"
        },
        "id": "SLqhoRmdLZ8O",
        "outputId": "a17258f4-46ea-494e-e6cf-c2dc96a45d42"
      },
      "execution_count": 12,
      "outputs": [
        {
          "output_type": "stream",
          "name": "stdout",
          "text": [
            "rows: 1000\n"
          ]
        }
      ]
    },
    {
      "cell_type": "code",
      "source": [
        "columns=df.shape[1]\n",
        "print(\"columns:\",columns)"
      ],
      "metadata": {
        "colab": {
          "base_uri": "https://localhost:8080/"
        },
        "id": "RhEz3YwWLuFj",
        "outputId": "021f4268-9818-4e14-d70b-ce97e6d4eb37"
      },
      "execution_count": 13,
      "outputs": [
        {
          "output_type": "stream",
          "name": "stdout",
          "text": [
            "columns: 26\n"
          ]
        }
      ]
    },
    {
      "cell_type": "code",
      "source": [
        "fig = px.pie(\n",
        "    df,\n",
        "    values='Gender', \n",
        "    names='Level',\n",
        "    title='Pie Chart',\n",
        "    \n",
        ")\n",
        "fig.update_traces(textposition='inside', textinfo='percent+label')\n",
        "fig.show()\n",
        "     "
      ],
      "metadata": {
        "colab": {
          "base_uri": "https://localhost:8080/",
          "height": 542
        },
        "id": "XoaLJ48sxEzH",
        "outputId": "0622b07e-f595-4d47-b3c5-9dfa12f1fa7c"
      },
      "execution_count": 27,
      "outputs": [
        {
          "output_type": "display_data",
          "data": {
            "text/html": [
              "<html>\n",
              "<head><meta charset=\"utf-8\" /></head>\n",
              "<body>\n",
              "    <div>            <script src=\"https://cdnjs.cloudflare.com/ajax/libs/mathjax/2.7.5/MathJax.js?config=TeX-AMS-MML_SVG\"></script><script type=\"text/javascript\">if (window.MathJax) {MathJax.Hub.Config({SVG: {font: \"STIX-Web\"}});}</script>                <script type=\"text/javascript\">window.PlotlyConfig = {MathJaxConfig: 'local'};</script>\n",
              "        <script src=\"https://cdn.plot.ly/plotly-2.8.3.min.js\"></script>                <div id=\"3f07955c-324b-4bdd-900e-82deefa33582\" class=\"plotly-graph-div\" style=\"height:525px; width:100%;\"></div>            <script type=\"text/javascript\">                                    window.PLOTLYENV=window.PLOTLYENV || {};                                    if (document.getElementById(\"3f07955c-324b-4bdd-900e-82deefa33582\")) {                    Plotly.newPlot(                        \"3f07955c-324b-4bdd-900e-82deefa33582\",                        [{\"domain\":{\"x\":[0.0,1.0],\"y\":[0.0,1.0]},\"hovertemplate\":\"Level=%{label}<br>Gender=%{value}<extra></extra>\",\"labels\":[\"Low\",\"Medium\",\"High\",\"High\",\"High\",\"High\",\"Low\",\"Low\",\"Medium\",\"Medium\",\"High\",\"High\",\"Medium\",\"High\",\"Low\",\"Medium\",\"Medium\",\"High\",\"High\",\"Medium\",\"High\",\"High\",\"High\",\"High\",\"High\",\"Medium\",\"Medium\",\"Medium\",\"High\",\"Medium\",\"High\",\"High\",\"Medium\",\"Low\",\"Low\",\"Medium\",\"Low\",\"Low\",\"Low\",\"Low\",\"Low\",\"Low\",\"Low\",\"Low\",\"Low\",\"Low\",\"High\",\"Low\",\"Low\",\"Low\",\"Low\",\"Low\",\"Low\",\"Low\",\"Low\",\"Low\",\"Low\",\"High\",\"Low\",\"Low\",\"Low\",\"Low\",\"Low\",\"Medium\",\"Medium\",\"Medium\",\"Medium\",\"Medium\",\"High\",\"Medium\",\"Medium\",\"Medium\",\"Medium\",\"Medium\",\"Medium\",\"Medium\",\"Medium\",\"Medium\",\"Medium\",\"High\",\"Medium\",\"Medium\",\"Medium\",\"Medium\",\"Medium\",\"Medium\",\"Medium\",\"High\",\"High\",\"High\",\"Medium\",\"High\",\"High\",\"High\",\"High\",\"High\",\"High\",\"High\",\"High\",\"High\",\"High\",\"Medium\",\"High\",\"High\",\"High\",\"High\",\"High\",\"High\",\"High\",\"High\",\"High\",\"High\",\"Low\",\"Medium\",\"High\",\"High\",\"High\",\"Low\",\"Low\",\"Medium\",\"Medium\",\"High\",\"High\",\"Medium\",\"High\",\"Low\",\"Medium\",\"Medium\",\"High\",\"High\",\"Medium\",\"High\",\"High\",\"High\",\"High\",\"Medium\",\"Medium\",\"Medium\",\"Medium\",\"High\",\"Medium\",\"High\",\"High\",\"Medium\",\"Low\",\"Low\",\"High\",\"Low\",\"Low\",\"Low\",\"Low\",\"Low\",\"Low\",\"Low\",\"Low\",\"Low\",\"Low\",\"High\",\"Low\",\"Low\",\"Low\",\"Low\",\"Low\",\"Low\",\"Low\",\"Low\",\"Low\",\"Low\",\"Medium\",\"Low\",\"Low\",\"Low\",\"Low\",\"Low\",\"Medium\",\"Medium\",\"Medium\",\"Medium\",\"Medium\",\"Low\",\"Medium\",\"Medium\",\"Medium\",\"Medium\",\"Medium\",\"Medium\",\"Medium\",\"Medium\",\"Medium\",\"Medium\",\"Low\",\"Medium\",\"Medium\",\"Medium\",\"Medium\",\"Medium\",\"Medium\",\"Medium\",\"High\",\"High\",\"High\",\"Low\",\"High\",\"High\",\"High\",\"High\",\"High\",\"High\",\"High\",\"High\",\"High\",\"High\",\"Low\",\"High\",\"High\",\"High\",\"High\",\"High\",\"High\",\"High\",\"High\",\"High\",\"High\",\"Medium\",\"Low\",\"High\",\"High\",\"High\",\"Low\",\"Low\",\"Medium\",\"Medium\",\"High\",\"High\",\"Medium\",\"Low\",\"Low\",\"Medium\",\"Medium\",\"High\",\"High\",\"Medium\",\"High\",\"High\",\"High\",\"High\",\"Low\",\"Medium\",\"Medium\",\"Medium\",\"High\",\"Medium\",\"High\",\"High\",\"Medium\",\"Low\",\"Low\",\"Low\",\"Low\",\"Low\",\"Low\",\"Low\",\"Low\",\"Low\",\"Low\",\"Low\",\"Low\",\"Low\",\"Low\",\"Low\",\"Low\",\"Low\",\"Low\",\"Low\",\"Low\",\"Low\",\"Low\",\"Low\",\"Low\",\"Low\",\"Low\",\"Low\",\"Low\",\"Low\",\"Low\",\"Medium\",\"Medium\",\"Medium\",\"Medium\",\"Medium\",\"Low\",\"Medium\",\"Medium\",\"Medium\",\"Medium\",\"Medium\",\"Medium\",\"Medium\",\"Medium\",\"Medium\",\"Medium\",\"Low\",\"Medium\",\"Medium\",\"Medium\",\"Medium\",\"Medium\",\"Medium\",\"Medium\",\"High\",\"High\",\"High\",\"Low\",\"High\",\"High\",\"High\",\"High\",\"High\",\"High\",\"High\",\"High\",\"High\",\"High\",\"Low\",\"High\",\"High\",\"High\",\"High\",\"High\",\"High\",\"High\",\"High\",\"High\",\"High\",\"Medium\",\"Low\",\"High\",\"High\",\"High\",\"Low\",\"Low\",\"Medium\",\"Medium\",\"High\",\"High\",\"Medium\",\"Low\",\"Low\",\"Medium\",\"Medium\",\"High\",\"High\",\"Medium\",\"High\",\"High\",\"High\",\"High\",\"Low\",\"Medium\",\"Medium\",\"Medium\",\"High\",\"Medium\",\"High\",\"High\",\"Medium\",\"Low\",\"Low\",\"Low\",\"Low\",\"Low\",\"Low\",\"Low\",\"Low\",\"Low\",\"Low\",\"Low\",\"Low\",\"Low\",\"Low\",\"Low\",\"Low\",\"Low\",\"Low\",\"Low\",\"Low\",\"Low\",\"Low\",\"Low\",\"Low\",\"Low\",\"Low\",\"Low\",\"Low\",\"Low\",\"Low\",\"Medium\",\"Medium\",\"Medium\",\"Medium\",\"Medium\",\"Low\",\"Medium\",\"Medium\",\"Medium\",\"Medium\",\"Medium\",\"Medium\",\"Medium\",\"Medium\",\"Medium\",\"Medium\",\"Low\",\"Medium\",\"Medium\",\"Medium\",\"Medium\",\"Medium\",\"Medium\",\"Medium\",\"High\",\"High\",\"High\",\"Low\",\"High\",\"High\",\"High\",\"High\",\"High\",\"High\",\"High\",\"High\",\"High\",\"High\",\"Low\",\"High\",\"High\",\"High\",\"High\",\"High\",\"High\",\"High\",\"High\",\"High\",\"High\",\"High\",\"Low\",\"High\",\"High\",\"High\",\"Low\",\"Low\",\"Medium\",\"Medium\",\"High\",\"High\",\"Medium\",\"Low\",\"Low\",\"Medium\",\"Medium\",\"High\",\"High\",\"Medium\",\"High\",\"High\",\"High\",\"High\",\"Low\",\"Medium\",\"Medium\",\"Medium\",\"High\",\"Medium\",\"High\",\"High\",\"Medium\",\"Low\",\"Low\",\"Medium\",\"Low\",\"Low\",\"Low\",\"Low\",\"Low\",\"Low\",\"Low\",\"Low\",\"Low\",\"Low\",\"Medium\",\"Low\",\"Low\",\"Low\",\"Low\",\"Low\",\"Low\",\"Low\",\"Low\",\"Low\",\"Low\",\"Medium\",\"Low\",\"Low\",\"Low\",\"Low\",\"Low\",\"Medium\",\"Medium\",\"Medium\",\"Medium\",\"Medium\",\"Medium\",\"Medium\",\"Medium\",\"Medium\",\"Medium\",\"Medium\",\"Medium\",\"Medium\",\"Medium\",\"Medium\",\"Medium\",\"Medium\",\"Medium\",\"Medium\",\"Medium\",\"Medium\",\"Medium\",\"Medium\",\"Medium\",\"High\",\"High\",\"High\",\"Medium\",\"High\",\"High\",\"High\",\"High\",\"High\",\"High\",\"High\",\"High\",\"High\",\"High\",\"Medium\",\"High\",\"High\",\"High\",\"High\",\"High\",\"High\",\"High\",\"High\",\"High\",\"High\",\"High\",\"Medium\",\"High\",\"High\",\"High\",\"Low\",\"Low\",\"Medium\",\"Medium\",\"High\",\"High\",\"Medium\",\"Medium\",\"Low\",\"Medium\",\"Medium\",\"High\",\"High\",\"Medium\",\"High\",\"High\",\"High\",\"High\",\"Medium\",\"Medium\",\"Medium\",\"Medium\",\"High\",\"Medium\",\"High\",\"High\",\"Medium\",\"Low\",\"Low\",\"Medium\",\"Low\",\"Low\",\"Low\",\"Low\",\"Low\",\"Low\",\"Low\",\"Low\",\"Low\",\"Low\",\"Medium\",\"Low\",\"Low\",\"Low\",\"Low\",\"Low\",\"Low\",\"Low\",\"Low\",\"Low\",\"Low\",\"Medium\",\"Low\",\"Low\",\"Low\",\"Low\",\"Low\",\"Medium\",\"Medium\",\"Medium\",\"Medium\",\"Medium\",\"Medium\",\"Medium\",\"Medium\",\"Medium\",\"Medium\",\"Medium\",\"Medium\",\"Medium\",\"Medium\",\"Medium\",\"Medium\",\"Medium\",\"Medium\",\"Medium\",\"Medium\",\"Medium\",\"Medium\",\"Medium\",\"Medium\",\"High\",\"High\",\"High\",\"Medium\",\"High\",\"High\",\"High\",\"High\",\"High\",\"High\",\"High\",\"High\",\"High\",\"High\",\"Medium\",\"High\",\"High\",\"High\",\"High\",\"High\",\"High\",\"High\",\"High\",\"High\",\"High\",\"Medium\",\"Medium\",\"High\",\"High\",\"High\",\"Low\",\"Low\",\"Medium\",\"Medium\",\"High\",\"High\",\"Medium\",\"Medium\",\"Low\",\"Medium\",\"Medium\",\"High\",\"High\",\"Medium\",\"High\",\"High\",\"High\",\"High\",\"Medium\",\"Medium\",\"Medium\",\"Medium\",\"High\",\"Medium\",\"High\",\"High\",\"Medium\",\"Low\",\"Low\",\"Medium\",\"Low\",\"Low\",\"Low\",\"Low\",\"Low\",\"Low\",\"Low\",\"Low\",\"Low\",\"Low\",\"Medium\",\"Low\",\"Low\",\"Low\",\"Low\",\"Low\",\"Low\",\"Low\",\"Low\",\"Low\",\"Low\",\"High\",\"Low\",\"Low\",\"Low\",\"Low\",\"Low\",\"Medium\",\"Medium\",\"Medium\",\"Medium\",\"Medium\",\"High\",\"Medium\",\"Medium\",\"Medium\",\"Medium\",\"Medium\",\"Medium\",\"Medium\",\"Medium\",\"Medium\",\"Medium\",\"High\",\"Medium\",\"Medium\",\"Medium\",\"Medium\",\"Medium\",\"Medium\",\"Medium\",\"High\",\"High\",\"High\",\"High\",\"High\",\"High\",\"High\",\"High\",\"High\",\"High\",\"High\",\"High\",\"High\",\"High\",\"High\",\"High\",\"High\",\"High\",\"High\",\"High\",\"High\",\"High\",\"High\",\"High\",\"High\",\"Low\",\"High\",\"High\",\"High\",\"High\",\"Low\",\"Low\",\"Medium\",\"Medium\",\"High\",\"High\",\"Medium\",\"High\",\"Low\",\"Medium\",\"Medium\",\"High\",\"High\",\"Medium\",\"High\",\"High\",\"High\",\"High\",\"High\",\"Medium\",\"Medium\",\"Medium\",\"High\",\"Medium\",\"High\",\"High\",\"Medium\",\"Low\",\"Low\",\"High\",\"Low\",\"Low\",\"Low\",\"Low\",\"Low\",\"Low\",\"Low\",\"Low\",\"Low\",\"Low\",\"High\",\"Low\",\"Low\",\"Low\",\"Low\",\"Low\",\"Low\",\"Low\",\"Low\",\"Low\",\"Low\",\"High\",\"Low\",\"Low\",\"Low\",\"Low\",\"Low\",\"Medium\",\"Medium\",\"Medium\",\"Medium\",\"Medium\",\"High\",\"Medium\",\"Medium\",\"Medium\",\"Medium\",\"Medium\",\"Medium\",\"Medium\",\"Medium\",\"Medium\",\"Medium\",\"High\",\"Medium\",\"Medium\",\"Medium\",\"Medium\",\"Medium\",\"Medium\",\"Medium\",\"High\",\"High\",\"High\",\"High\",\"High\",\"High\",\"High\",\"High\",\"High\",\"High\",\"High\",\"High\",\"High\",\"High\",\"High\",\"High\",\"High\",\"High\",\"High\",\"High\",\"High\",\"High\",\"High\",\"High\",\"High\",\"Medium\",\"High\",\"High\",\"High\",\"High\",\"Low\",\"Low\",\"Medium\",\"Medium\",\"High\",\"High\",\"Medium\",\"High\",\"Low\",\"Medium\",\"Medium\",\"High\",\"High\",\"Medium\",\"High\",\"High\",\"High\",\"High\",\"High\",\"Medium\",\"Medium\",\"Medium\",\"High\",\"Medium\",\"High\",\"High\",\"Medium\",\"Low\",\"Low\",\"High\",\"Low\",\"Low\",\"Low\",\"Low\",\"Low\",\"Low\",\"Low\",\"Low\",\"Low\",\"Low\",\"High\",\"Low\",\"Low\",\"Low\",\"Low\",\"Low\",\"Low\",\"Low\",\"Low\",\"Low\",\"Low\",\"High\",\"Low\",\"Low\",\"Low\",\"Low\",\"Low\",\"Medium\",\"Medium\",\"Medium\",\"Medium\",\"Medium\",\"High\",\"Medium\",\"Medium\",\"Medium\",\"Medium\",\"Medium\",\"Medium\",\"Medium\",\"Medium\",\"Medium\",\"Medium\",\"High\",\"Medium\",\"Medium\",\"Medium\",\"Medium\",\"Medium\",\"Medium\",\"Medium\",\"High\",\"Low\",\"Low\",\"High\",\"Low\",\"High\",\"High\",\"High\",\"Medium\",\"Medium\",\"High\",\"High\",\"High\",\"High\",\"High\",\"High\",\"High\",\"High\",\"High\",\"High\",\"High\",\"High\",\"High\",\"High\",\"High\"],\"legendgroup\":\"\",\"name\":\"\",\"showlegend\":true,\"values\":[1,1,1,1,1,1,2,2,2,1,1,2,2,1,2,1,1,1,1,1,1,2,1,2,1,1,2,1,1,2,2,1,2,1,2,1,2,1,1,2,2,2,1,2,1,1,1,1,2,2,2,2,2,2,2,2,2,2,2,2,2,2,1,2,1,1,2,2,1,2,1,1,2,1,1,1,1,1,2,2,2,1,2,2,2,2,1,1,1,1,1,1,2,2,1,1,1,1,1,2,2,2,1,1,2,2,1,1,2,2,2,1,2,1,2,1,2,1,2,2,2,1,1,1,1,2,1,1,1,1,1,1,2,1,2,2,1,2,1,1,2,2,1,2,1,2,2,2,1,1,2,1,1,1,2,2,1,1,1,2,2,2,2,2,2,2,2,1,2,1,1,1,1,1,2,2,1,1,1,1,1,1,1,2,1,1,1,1,2,2,2,2,1,2,2,2,2,1,1,1,1,2,1,2,1,1,1,1,1,1,2,2,1,1,1,2,2,1,1,2,2,2,1,1,1,2,1,1,1,2,1,1,1,1,1,2,2,1,1,1,1,1,1,2,1,2,1,1,2,1,1,2,2,1,2,1,2,1,2,1,1,2,1,1,1,2,2,1,1,1,2,2,2,2,2,2,2,2,1,2,1,1,1,1,1,2,2,1,1,1,2,1,1,1,2,1,1,1,1,2,2,1,2,1,2,2,2,2,1,1,1,1,1,1,2,1,1,1,1,1,1,2,2,2,1,1,2,2,1,1,2,2,2,1,1,2,2,1,1,1,2,1,1,1,1,1,2,2,1,1,1,1,1,1,2,1,2,2,1,2,1,1,2,2,1,2,1,2,2,2,1,1,1,1,1,1,2,2,1,2,1,2,2,2,2,2,2,2,2,1,2,1,1,1,1,1,2,2,1,1,1,2,2,1,1,2,1,1,1,1,2,2,1,2,1,2,2,2,1,1,1,1,1,1,1,1,1,1,1,1,1,1,1,1,1,1,1,1,1,1,1,1,1,1,1,1,1,2,1,1,1,2,2,2,2,1,1,1,2,1,1,1,1,1,1,1,1,1,1,1,1,1,1,1,1,1,2,1,2,2,2,1,1,2,1,1,1,2,2,1,2,1,2,2,2,2,1,1,2,2,1,1,1,1,1,1,1,2,2,1,1,1,1,1,1,1,2,1,1,1,1,2,2,1,2,1,2,2,2,2,1,1,1,1,1,1,2,1,1,1,1,1,1,2,2,1,1,1,2,2,1,1,2,2,2,1,1,1,2,1,1,1,2,1,1,1,1,1,2,2,1,1,1,1,1,1,2,1,2,1,1,2,1,1,2,2,1,2,1,2,1,2,1,1,2,1,1,1,2,2,1,1,1,2,2,2,2,2,2,2,2,1,1,1,1,1,1,1,2,2,1,1,1,2,1,1,1,2,1,1,1,1,2,2,2,2,1,2,2,2,2,1,1,1,1,2,1,2,1,1,1,1,1,1,2,2,1,1,1,2,2,1,1,2,2,2,1,1,2,2,1,1,1,2,1,1,1,1,1,2,2,1,1,1,1,1,1,2,1,2,2,1,2,1,1,2,2,1,2,1,2,2,2,1,1,2,1,1,1,2,2,1,1,1,2,2,2,2,2,2,2,2,1,1,1,1,1,1,1,2,2,1,1,1,1,1,1,1,2,1,1,1,1,2,2,1,2,1,2,2,2,2,1,1,1,1,1,1,2,1,1,1,1,1,1,2,2,2,1,1,2,2,1,1,2,2,2,1,2,1,2,1,1,1,2,1,1,1,1,1,1,2,1,1,1,1,1,1,2,1,2,1,1,2,1,1,2,2,1,2,1,2,1,2,1,1,2,1,1,1,2,2,1,1,1,2,2,2,2,2,2,2,2,1,1,1,1,1,1,1,2,2,1,1,1,2,1,1,1,2,1,1,1,1,2,2,2,2,1,2,2,2,2,1,1,1,1,1,1,2,1,1,1,1,1,1,2,2,1,1,1,2,2,1,1,2,2,2,1,1,2,2,1,2,1,2,1,1,1,1,1,2,2,1,1,1,1,1,1,2,1,2,1,1,2,1,1,2,2,1,2,1,2,1,2,1,1,2,1,1,1,2,2,1,2,1,2,2,2,2,2,2,2,2,1,2,1,1,1,1,1,2,2,1,1,1,2,1,1,1,2,1,1,1,1,2,2,1,2,1,2,2,2,2,1,1,1,1,2,1,2,1,1,1,1,1,1,2,2,1,1,1,2,2,1,1,2,2,2,1],\"type\":\"pie\",\"textinfo\":\"percent+label\",\"textposition\":\"inside\"}],                        {\"template\":{\"data\":{\"bar\":[{\"error_x\":{\"color\":\"#2a3f5f\"},\"error_y\":{\"color\":\"#2a3f5f\"},\"marker\":{\"line\":{\"color\":\"#E5ECF6\",\"width\":0.5},\"pattern\":{\"fillmode\":\"overlay\",\"size\":10,\"solidity\":0.2}},\"type\":\"bar\"}],\"barpolar\":[{\"marker\":{\"line\":{\"color\":\"#E5ECF6\",\"width\":0.5},\"pattern\":{\"fillmode\":\"overlay\",\"size\":10,\"solidity\":0.2}},\"type\":\"barpolar\"}],\"carpet\":[{\"aaxis\":{\"endlinecolor\":\"#2a3f5f\",\"gridcolor\":\"white\",\"linecolor\":\"white\",\"minorgridcolor\":\"white\",\"startlinecolor\":\"#2a3f5f\"},\"baxis\":{\"endlinecolor\":\"#2a3f5f\",\"gridcolor\":\"white\",\"linecolor\":\"white\",\"minorgridcolor\":\"white\",\"startlinecolor\":\"#2a3f5f\"},\"type\":\"carpet\"}],\"choropleth\":[{\"colorbar\":{\"outlinewidth\":0,\"ticks\":\"\"},\"type\":\"choropleth\"}],\"contour\":[{\"colorbar\":{\"outlinewidth\":0,\"ticks\":\"\"},\"colorscale\":[[0.0,\"#0d0887\"],[0.1111111111111111,\"#46039f\"],[0.2222222222222222,\"#7201a8\"],[0.3333333333333333,\"#9c179e\"],[0.4444444444444444,\"#bd3786\"],[0.5555555555555556,\"#d8576b\"],[0.6666666666666666,\"#ed7953\"],[0.7777777777777778,\"#fb9f3a\"],[0.8888888888888888,\"#fdca26\"],[1.0,\"#f0f921\"]],\"type\":\"contour\"}],\"contourcarpet\":[{\"colorbar\":{\"outlinewidth\":0,\"ticks\":\"\"},\"type\":\"contourcarpet\"}],\"heatmap\":[{\"colorbar\":{\"outlinewidth\":0,\"ticks\":\"\"},\"colorscale\":[[0.0,\"#0d0887\"],[0.1111111111111111,\"#46039f\"],[0.2222222222222222,\"#7201a8\"],[0.3333333333333333,\"#9c179e\"],[0.4444444444444444,\"#bd3786\"],[0.5555555555555556,\"#d8576b\"],[0.6666666666666666,\"#ed7953\"],[0.7777777777777778,\"#fb9f3a\"],[0.8888888888888888,\"#fdca26\"],[1.0,\"#f0f921\"]],\"type\":\"heatmap\"}],\"heatmapgl\":[{\"colorbar\":{\"outlinewidth\":0,\"ticks\":\"\"},\"colorscale\":[[0.0,\"#0d0887\"],[0.1111111111111111,\"#46039f\"],[0.2222222222222222,\"#7201a8\"],[0.3333333333333333,\"#9c179e\"],[0.4444444444444444,\"#bd3786\"],[0.5555555555555556,\"#d8576b\"],[0.6666666666666666,\"#ed7953\"],[0.7777777777777778,\"#fb9f3a\"],[0.8888888888888888,\"#fdca26\"],[1.0,\"#f0f921\"]],\"type\":\"heatmapgl\"}],\"histogram\":[{\"marker\":{\"pattern\":{\"fillmode\":\"overlay\",\"size\":10,\"solidity\":0.2}},\"type\":\"histogram\"}],\"histogram2d\":[{\"colorbar\":{\"outlinewidth\":0,\"ticks\":\"\"},\"colorscale\":[[0.0,\"#0d0887\"],[0.1111111111111111,\"#46039f\"],[0.2222222222222222,\"#7201a8\"],[0.3333333333333333,\"#9c179e\"],[0.4444444444444444,\"#bd3786\"],[0.5555555555555556,\"#d8576b\"],[0.6666666666666666,\"#ed7953\"],[0.7777777777777778,\"#fb9f3a\"],[0.8888888888888888,\"#fdca26\"],[1.0,\"#f0f921\"]],\"type\":\"histogram2d\"}],\"histogram2dcontour\":[{\"colorbar\":{\"outlinewidth\":0,\"ticks\":\"\"},\"colorscale\":[[0.0,\"#0d0887\"],[0.1111111111111111,\"#46039f\"],[0.2222222222222222,\"#7201a8\"],[0.3333333333333333,\"#9c179e\"],[0.4444444444444444,\"#bd3786\"],[0.5555555555555556,\"#d8576b\"],[0.6666666666666666,\"#ed7953\"],[0.7777777777777778,\"#fb9f3a\"],[0.8888888888888888,\"#fdca26\"],[1.0,\"#f0f921\"]],\"type\":\"histogram2dcontour\"}],\"mesh3d\":[{\"colorbar\":{\"outlinewidth\":0,\"ticks\":\"\"},\"type\":\"mesh3d\"}],\"parcoords\":[{\"line\":{\"colorbar\":{\"outlinewidth\":0,\"ticks\":\"\"}},\"type\":\"parcoords\"}],\"pie\":[{\"automargin\":true,\"type\":\"pie\"}],\"scatter\":[{\"marker\":{\"colorbar\":{\"outlinewidth\":0,\"ticks\":\"\"}},\"type\":\"scatter\"}],\"scatter3d\":[{\"line\":{\"colorbar\":{\"outlinewidth\":0,\"ticks\":\"\"}},\"marker\":{\"colorbar\":{\"outlinewidth\":0,\"ticks\":\"\"}},\"type\":\"scatter3d\"}],\"scattercarpet\":[{\"marker\":{\"colorbar\":{\"outlinewidth\":0,\"ticks\":\"\"}},\"type\":\"scattercarpet\"}],\"scattergeo\":[{\"marker\":{\"colorbar\":{\"outlinewidth\":0,\"ticks\":\"\"}},\"type\":\"scattergeo\"}],\"scattergl\":[{\"marker\":{\"colorbar\":{\"outlinewidth\":0,\"ticks\":\"\"}},\"type\":\"scattergl\"}],\"scattermapbox\":[{\"marker\":{\"colorbar\":{\"outlinewidth\":0,\"ticks\":\"\"}},\"type\":\"scattermapbox\"}],\"scatterpolar\":[{\"marker\":{\"colorbar\":{\"outlinewidth\":0,\"ticks\":\"\"}},\"type\":\"scatterpolar\"}],\"scatterpolargl\":[{\"marker\":{\"colorbar\":{\"outlinewidth\":0,\"ticks\":\"\"}},\"type\":\"scatterpolargl\"}],\"scatterternary\":[{\"marker\":{\"colorbar\":{\"outlinewidth\":0,\"ticks\":\"\"}},\"type\":\"scatterternary\"}],\"surface\":[{\"colorbar\":{\"outlinewidth\":0,\"ticks\":\"\"},\"colorscale\":[[0.0,\"#0d0887\"],[0.1111111111111111,\"#46039f\"],[0.2222222222222222,\"#7201a8\"],[0.3333333333333333,\"#9c179e\"],[0.4444444444444444,\"#bd3786\"],[0.5555555555555556,\"#d8576b\"],[0.6666666666666666,\"#ed7953\"],[0.7777777777777778,\"#fb9f3a\"],[0.8888888888888888,\"#fdca26\"],[1.0,\"#f0f921\"]],\"type\":\"surface\"}],\"table\":[{\"cells\":{\"fill\":{\"color\":\"#EBF0F8\"},\"line\":{\"color\":\"white\"}},\"header\":{\"fill\":{\"color\":\"#C8D4E3\"},\"line\":{\"color\":\"white\"}},\"type\":\"table\"}]},\"layout\":{\"annotationdefaults\":{\"arrowcolor\":\"#2a3f5f\",\"arrowhead\":0,\"arrowwidth\":1},\"autotypenumbers\":\"strict\",\"coloraxis\":{\"colorbar\":{\"outlinewidth\":0,\"ticks\":\"\"}},\"colorscale\":{\"diverging\":[[0,\"#8e0152\"],[0.1,\"#c51b7d\"],[0.2,\"#de77ae\"],[0.3,\"#f1b6da\"],[0.4,\"#fde0ef\"],[0.5,\"#f7f7f7\"],[0.6,\"#e6f5d0\"],[0.7,\"#b8e186\"],[0.8,\"#7fbc41\"],[0.9,\"#4d9221\"],[1,\"#276419\"]],\"sequential\":[[0.0,\"#0d0887\"],[0.1111111111111111,\"#46039f\"],[0.2222222222222222,\"#7201a8\"],[0.3333333333333333,\"#9c179e\"],[0.4444444444444444,\"#bd3786\"],[0.5555555555555556,\"#d8576b\"],[0.6666666666666666,\"#ed7953\"],[0.7777777777777778,\"#fb9f3a\"],[0.8888888888888888,\"#fdca26\"],[1.0,\"#f0f921\"]],\"sequentialminus\":[[0.0,\"#0d0887\"],[0.1111111111111111,\"#46039f\"],[0.2222222222222222,\"#7201a8\"],[0.3333333333333333,\"#9c179e\"],[0.4444444444444444,\"#bd3786\"],[0.5555555555555556,\"#d8576b\"],[0.6666666666666666,\"#ed7953\"],[0.7777777777777778,\"#fb9f3a\"],[0.8888888888888888,\"#fdca26\"],[1.0,\"#f0f921\"]]},\"colorway\":[\"#636efa\",\"#EF553B\",\"#00cc96\",\"#ab63fa\",\"#FFA15A\",\"#19d3f3\",\"#FF6692\",\"#B6E880\",\"#FF97FF\",\"#FECB52\"],\"font\":{\"color\":\"#2a3f5f\"},\"geo\":{\"bgcolor\":\"white\",\"lakecolor\":\"white\",\"landcolor\":\"#E5ECF6\",\"showlakes\":true,\"showland\":true,\"subunitcolor\":\"white\"},\"hoverlabel\":{\"align\":\"left\"},\"hovermode\":\"closest\",\"mapbox\":{\"style\":\"light\"},\"paper_bgcolor\":\"white\",\"plot_bgcolor\":\"#E5ECF6\",\"polar\":{\"angularaxis\":{\"gridcolor\":\"white\",\"linecolor\":\"white\",\"ticks\":\"\"},\"bgcolor\":\"#E5ECF6\",\"radialaxis\":{\"gridcolor\":\"white\",\"linecolor\":\"white\",\"ticks\":\"\"}},\"scene\":{\"xaxis\":{\"backgroundcolor\":\"#E5ECF6\",\"gridcolor\":\"white\",\"gridwidth\":2,\"linecolor\":\"white\",\"showbackground\":true,\"ticks\":\"\",\"zerolinecolor\":\"white\"},\"yaxis\":{\"backgroundcolor\":\"#E5ECF6\",\"gridcolor\":\"white\",\"gridwidth\":2,\"linecolor\":\"white\",\"showbackground\":true,\"ticks\":\"\",\"zerolinecolor\":\"white\"},\"zaxis\":{\"backgroundcolor\":\"#E5ECF6\",\"gridcolor\":\"white\",\"gridwidth\":2,\"linecolor\":\"white\",\"showbackground\":true,\"ticks\":\"\",\"zerolinecolor\":\"white\"}},\"shapedefaults\":{\"line\":{\"color\":\"#2a3f5f\"}},\"ternary\":{\"aaxis\":{\"gridcolor\":\"white\",\"linecolor\":\"white\",\"ticks\":\"\"},\"baxis\":{\"gridcolor\":\"white\",\"linecolor\":\"white\",\"ticks\":\"\"},\"bgcolor\":\"#E5ECF6\",\"caxis\":{\"gridcolor\":\"white\",\"linecolor\":\"white\",\"ticks\":\"\"}},\"title\":{\"x\":0.05},\"xaxis\":{\"automargin\":true,\"gridcolor\":\"white\",\"linecolor\":\"white\",\"ticks\":\"\",\"title\":{\"standoff\":15},\"zerolinecolor\":\"white\",\"zerolinewidth\":2},\"yaxis\":{\"automargin\":true,\"gridcolor\":\"white\",\"linecolor\":\"white\",\"ticks\":\"\",\"title\":{\"standoff\":15},\"zerolinecolor\":\"white\",\"zerolinewidth\":2}}},\"legend\":{\"tracegroupgap\":0},\"title\":{\"text\":\"Pie Chart\"}},                        {\"responsive\": true}                    ).then(function(){\n",
              "                            \n",
              "var gd = document.getElementById('3f07955c-324b-4bdd-900e-82deefa33582');\n",
              "var x = new MutationObserver(function (mutations, observer) {{\n",
              "        var display = window.getComputedStyle(gd).display;\n",
              "        if (!display || display === 'none') {{\n",
              "            console.log([gd, 'removed!']);\n",
              "            Plotly.purge(gd);\n",
              "            observer.disconnect();\n",
              "        }}\n",
              "}});\n",
              "\n",
              "// Listen for the removal of the full notebook cells\n",
              "var notebookContainer = gd.closest('#notebook-container');\n",
              "if (notebookContainer) {{\n",
              "    x.observe(notebookContainer, {childList: true});\n",
              "}}\n",
              "\n",
              "// Listen for the clearing of the current output cell\n",
              "var outputEl = gd.closest('.output');\n",
              "if (outputEl) {{\n",
              "    x.observe(outputEl, {childList: true});\n",
              "}}\n",
              "\n",
              "                        })                };                            </script>        </div>\n",
              "</body>\n",
              "</html>"
            ]
          },
          "metadata": {}
        }
      ]
    },
    {
      "cell_type": "code",
      "source": [
        "fig = px.bar(\n",
        "    df,\n",
        "    x=\"Genetic Risk\",\n",
        "    y=\"Level\",\n",
        "    title=\"Effect of Genetic risk \",\n",
        "    color='Level',\n",
        "    \n",
        ")\n",
        "fig.show()"
      ],
      "metadata": {
        "colab": {
          "base_uri": "https://localhost:8080/",
          "height": 542
        },
        "id": "b6QWE9DdL1un",
        "outputId": "968343aa-92bb-4ebe-f4c6-59667deccf4a"
      },
      "execution_count": 28,
      "outputs": [
        {
          "output_type": "display_data",
          "data": {
            "text/html": [
              "<html>\n",
              "<head><meta charset=\"utf-8\" /></head>\n",
              "<body>\n",
              "    <div>            <script src=\"https://cdnjs.cloudflare.com/ajax/libs/mathjax/2.7.5/MathJax.js?config=TeX-AMS-MML_SVG\"></script><script type=\"text/javascript\">if (window.MathJax) {MathJax.Hub.Config({SVG: {font: \"STIX-Web\"}});}</script>                <script type=\"text/javascript\">window.PlotlyConfig = {MathJaxConfig: 'local'};</script>\n",
              "        <script src=\"https://cdn.plot.ly/plotly-2.8.3.min.js\"></script>                <div id=\"b0fceac8-bd3a-4884-a5bf-5f9c481f99ae\" class=\"plotly-graph-div\" style=\"height:525px; width:100%;\"></div>            <script type=\"text/javascript\">                                    window.PLOTLYENV=window.PLOTLYENV || {};                                    if (document.getElementById(\"b0fceac8-bd3a-4884-a5bf-5f9c481f99ae\")) {                    Plotly.newPlot(                        \"b0fceac8-bd3a-4884-a5bf-5f9c481f99ae\",                        [{\"alignmentgroup\":\"True\",\"hovertemplate\":\"Level=%{y}<br>Genetic Risk=%{x}<extra></extra>\",\"legendgroup\":\"Low\",\"marker\":{\"color\":\"#636efa\",\"pattern\":{\"shape\":\"\"}},\"name\":\"Low\",\"offsetgroup\":\"Low\",\"orientation\":\"h\",\"showlegend\":true,\"textposition\":\"auto\",\"x\":[3,3,2,3,3,2,3,6,7,6,2,3,1,4,3,4,2,2,3,2,2,1,2,2,2,3,3,1,2,1,2,2,3,2,3,3,2,3,6,7,6,2,3,1,4,3,4,2,2,3,2,2,1,2,2,2,3,3,1,2,1,2,3,2,3,6,7,3,2,6,3,2,3,2,3,3,6,7,6,2,3,1,4,3,4,1,2,2,3,2,2,1,2,2,2,3,4,3,1,2,1,2,3,4,2,2,3,3,2,2,3,2,3,2,1,3,6,7,6,2,3,1,4,3,4,2,2,2,3,2,2,1,2,2,2,3,2,3,1,2,1,2,2,3,3,1,2,3,2,1,3,2,3,2,3,6,7,6,2,3,1,4,3,4,2,2,3,2,2,1,2,2,2,3,3,1,2,1,2,3,2,3,3,2,3,6,7,6,2,3,1,4,3,4,2,2,3,2,2,1,2,2,2,3,3,1,2,1,2,3,2,3,3,2,3,6,7,6,2,3,1,4,3,4,2,2,3,2,2,1,2,2,2,3,3,1,2,1,2,3,3,2,3,3,2,3,6,7,6,2,3,1,4,3,4,2,2,3,2,2,1,2,2,2,3,3,1,2,1,2,3,2,3,3,2,3,6,7,6,2,3,1,4,3,4,2,2,3,2,2,1,2,2,2,3,3,1,2,1,2,3,2,3],\"xaxis\":\"x\",\"y\":[\"Low\",\"Low\",\"Low\",\"Low\",\"Low\",\"Low\",\"Low\",\"Low\",\"Low\",\"Low\",\"Low\",\"Low\",\"Low\",\"Low\",\"Low\",\"Low\",\"Low\",\"Low\",\"Low\",\"Low\",\"Low\",\"Low\",\"Low\",\"Low\",\"Low\",\"Low\",\"Low\",\"Low\",\"Low\",\"Low\",\"Low\",\"Low\",\"Low\",\"Low\",\"Low\",\"Low\",\"Low\",\"Low\",\"Low\",\"Low\",\"Low\",\"Low\",\"Low\",\"Low\",\"Low\",\"Low\",\"Low\",\"Low\",\"Low\",\"Low\",\"Low\",\"Low\",\"Low\",\"Low\",\"Low\",\"Low\",\"Low\",\"Low\",\"Low\",\"Low\",\"Low\",\"Low\",\"Low\",\"Low\",\"Low\",\"Low\",\"Low\",\"Low\",\"Low\",\"Low\",\"Low\",\"Low\",\"Low\",\"Low\",\"Low\",\"Low\",\"Low\",\"Low\",\"Low\",\"Low\",\"Low\",\"Low\",\"Low\",\"Low\",\"Low\",\"Low\",\"Low\",\"Low\",\"Low\",\"Low\",\"Low\",\"Low\",\"Low\",\"Low\",\"Low\",\"Low\",\"Low\",\"Low\",\"Low\",\"Low\",\"Low\",\"Low\",\"Low\",\"Low\",\"Low\",\"Low\",\"Low\",\"Low\",\"Low\",\"Low\",\"Low\",\"Low\",\"Low\",\"Low\",\"Low\",\"Low\",\"Low\",\"Low\",\"Low\",\"Low\",\"Low\",\"Low\",\"Low\",\"Low\",\"Low\",\"Low\",\"Low\",\"Low\",\"Low\",\"Low\",\"Low\",\"Low\",\"Low\",\"Low\",\"Low\",\"Low\",\"Low\",\"Low\",\"Low\",\"Low\",\"Low\",\"Low\",\"Low\",\"Low\",\"Low\",\"Low\",\"Low\",\"Low\",\"Low\",\"Low\",\"Low\",\"Low\",\"Low\",\"Low\",\"Low\",\"Low\",\"Low\",\"Low\",\"Low\",\"Low\",\"Low\",\"Low\",\"Low\",\"Low\",\"Low\",\"Low\",\"Low\",\"Low\",\"Low\",\"Low\",\"Low\",\"Low\",\"Low\",\"Low\",\"Low\",\"Low\",\"Low\",\"Low\",\"Low\",\"Low\",\"Low\",\"Low\",\"Low\",\"Low\",\"Low\",\"Low\",\"Low\",\"Low\",\"Low\",\"Low\",\"Low\",\"Low\",\"Low\",\"Low\",\"Low\",\"Low\",\"Low\",\"Low\",\"Low\",\"Low\",\"Low\",\"Low\",\"Low\",\"Low\",\"Low\",\"Low\",\"Low\",\"Low\",\"Low\",\"Low\",\"Low\",\"Low\",\"Low\",\"Low\",\"Low\",\"Low\",\"Low\",\"Low\",\"Low\",\"Low\",\"Low\",\"Low\",\"Low\",\"Low\",\"Low\",\"Low\",\"Low\",\"Low\",\"Low\",\"Low\",\"Low\",\"Low\",\"Low\",\"Low\",\"Low\",\"Low\",\"Low\",\"Low\",\"Low\",\"Low\",\"Low\",\"Low\",\"Low\",\"Low\",\"Low\",\"Low\",\"Low\",\"Low\",\"Low\",\"Low\",\"Low\",\"Low\",\"Low\",\"Low\",\"Low\",\"Low\",\"Low\",\"Low\",\"Low\",\"Low\",\"Low\",\"Low\",\"Low\",\"Low\",\"Low\",\"Low\",\"Low\",\"Low\",\"Low\",\"Low\",\"Low\",\"Low\",\"Low\",\"Low\",\"Low\",\"Low\",\"Low\",\"Low\",\"Low\",\"Low\",\"Low\",\"Low\",\"Low\",\"Low\",\"Low\",\"Low\",\"Low\",\"Low\",\"Low\",\"Low\",\"Low\",\"Low\",\"Low\",\"Low\",\"Low\",\"Low\",\"Low\",\"Low\",\"Low\",\"Low\",\"Low\",\"Low\",\"Low\"],\"yaxis\":\"y\",\"type\":\"bar\"},{\"alignmentgroup\":\"True\",\"hovertemplate\":\"Level=%{y}<br>Genetic Risk=%{x}<extra></extra>\",\"legendgroup\":\"Medium\",\"marker\":{\"color\":\"#EF553B\",\"pattern\":{\"shape\":\"\"}},\"name\":\"Medium\",\"offsetgroup\":\"Medium\",\"orientation\":\"h\",\"showlegend\":true,\"textposition\":\"auto\",\"x\":[4,6,4,5,6,4,5,7,2,3,3,7,5,2,7,2,3,7,3,2,7,2,3,7,2,3,7,3,2,7,7,2,3,2,7,7,2,3,6,4,5,6,4,5,3,7,2,3,3,7,7,2,7,2,3,7,3,2,7,2,3,7,2,3,7,3,2,7,7,2,3,2,7,6,6,4,5,6,4,5,7,2,3,3,7,2,7,2,3,7,3,2,7,2,3,7,2,3,7,3,2,7,7,2,3,2,7,4,6,4,5,6,4,5,7,2,3,3,7,2,7,2,3,7,3,2,7,2,3,7,2,3,7,3,2,7,7,2,3,2,7,6,4,5,6,4,5,7,2,3,3,7,2,7,2,2,7,2,3,7,3,3,2,7,2,3,7,2,3,7,3,7,2,7,7,2,3,2,7,3,2,7,6,4,5,2,6,4,5,3,7,2,3,3,7,7,2,3,2,7,2,3,7,7,3,2,7,2,3,7,2,3,7,3,3,2,7,7,2,3,2,7,2,7,5,7,6,4,5,2,6,4,5,3,7,2,3,3,7,2,7,2,7,2,3,7,3,2,7,2,3,7,2,3,7,3,2,7,7,2,3,2,7,6,4,5,6,4,5,7,2,3,3,7,2,7,2,3,7,3,2,7,2,3,7,2,3,7,3,2,7,7,2,3,2,7,6,6,4,5,6,4,5,7,2,3,3,7,2,7,2,3,7,3,2,7,2,3,7,2,3,7,3,2,7,7,2,3,2,7,3,2],\"xaxis\":\"x\",\"y\":[\"Medium\",\"Medium\",\"Medium\",\"Medium\",\"Medium\",\"Medium\",\"Medium\",\"Medium\",\"Medium\",\"Medium\",\"Medium\",\"Medium\",\"Medium\",\"Medium\",\"Medium\",\"Medium\",\"Medium\",\"Medium\",\"Medium\",\"Medium\",\"Medium\",\"Medium\",\"Medium\",\"Medium\",\"Medium\",\"Medium\",\"Medium\",\"Medium\",\"Medium\",\"Medium\",\"Medium\",\"Medium\",\"Medium\",\"Medium\",\"Medium\",\"Medium\",\"Medium\",\"Medium\",\"Medium\",\"Medium\",\"Medium\",\"Medium\",\"Medium\",\"Medium\",\"Medium\",\"Medium\",\"Medium\",\"Medium\",\"Medium\",\"Medium\",\"Medium\",\"Medium\",\"Medium\",\"Medium\",\"Medium\",\"Medium\",\"Medium\",\"Medium\",\"Medium\",\"Medium\",\"Medium\",\"Medium\",\"Medium\",\"Medium\",\"Medium\",\"Medium\",\"Medium\",\"Medium\",\"Medium\",\"Medium\",\"Medium\",\"Medium\",\"Medium\",\"Medium\",\"Medium\",\"Medium\",\"Medium\",\"Medium\",\"Medium\",\"Medium\",\"Medium\",\"Medium\",\"Medium\",\"Medium\",\"Medium\",\"Medium\",\"Medium\",\"Medium\",\"Medium\",\"Medium\",\"Medium\",\"Medium\",\"Medium\",\"Medium\",\"Medium\",\"Medium\",\"Medium\",\"Medium\",\"Medium\",\"Medium\",\"Medium\",\"Medium\",\"Medium\",\"Medium\",\"Medium\",\"Medium\",\"Medium\",\"Medium\",\"Medium\",\"Medium\",\"Medium\",\"Medium\",\"Medium\",\"Medium\",\"Medium\",\"Medium\",\"Medium\",\"Medium\",\"Medium\",\"Medium\",\"Medium\",\"Medium\",\"Medium\",\"Medium\",\"Medium\",\"Medium\",\"Medium\",\"Medium\",\"Medium\",\"Medium\",\"Medium\",\"Medium\",\"Medium\",\"Medium\",\"Medium\",\"Medium\",\"Medium\",\"Medium\",\"Medium\",\"Medium\",\"Medium\",\"Medium\",\"Medium\",\"Medium\",\"Medium\",\"Medium\",\"Medium\",\"Medium\",\"Medium\",\"Medium\",\"Medium\",\"Medium\",\"Medium\",\"Medium\",\"Medium\",\"Medium\",\"Medium\",\"Medium\",\"Medium\",\"Medium\",\"Medium\",\"Medium\",\"Medium\",\"Medium\",\"Medium\",\"Medium\",\"Medium\",\"Medium\",\"Medium\",\"Medium\",\"Medium\",\"Medium\",\"Medium\",\"Medium\",\"Medium\",\"Medium\",\"Medium\",\"Medium\",\"Medium\",\"Medium\",\"Medium\",\"Medium\",\"Medium\",\"Medium\",\"Medium\",\"Medium\",\"Medium\",\"Medium\",\"Medium\",\"Medium\",\"Medium\",\"Medium\",\"Medium\",\"Medium\",\"Medium\",\"Medium\",\"Medium\",\"Medium\",\"Medium\",\"Medium\",\"Medium\",\"Medium\",\"Medium\",\"Medium\",\"Medium\",\"Medium\",\"Medium\",\"Medium\",\"Medium\",\"Medium\",\"Medium\",\"Medium\",\"Medium\",\"Medium\",\"Medium\",\"Medium\",\"Medium\",\"Medium\",\"Medium\",\"Medium\",\"Medium\",\"Medium\",\"Medium\",\"Medium\",\"Medium\",\"Medium\",\"Medium\",\"Medium\",\"Medium\",\"Medium\",\"Medium\",\"Medium\",\"Medium\",\"Medium\",\"Medium\",\"Medium\",\"Medium\",\"Medium\",\"Medium\",\"Medium\",\"Medium\",\"Medium\",\"Medium\",\"Medium\",\"Medium\",\"Medium\",\"Medium\",\"Medium\",\"Medium\",\"Medium\",\"Medium\",\"Medium\",\"Medium\",\"Medium\",\"Medium\",\"Medium\",\"Medium\",\"Medium\",\"Medium\",\"Medium\",\"Medium\",\"Medium\",\"Medium\",\"Medium\",\"Medium\",\"Medium\",\"Medium\",\"Medium\",\"Medium\",\"Medium\",\"Medium\",\"Medium\",\"Medium\",\"Medium\",\"Medium\",\"Medium\",\"Medium\",\"Medium\",\"Medium\",\"Medium\",\"Medium\",\"Medium\",\"Medium\",\"Medium\",\"Medium\",\"Medium\",\"Medium\",\"Medium\",\"Medium\",\"Medium\",\"Medium\",\"Medium\",\"Medium\",\"Medium\",\"Medium\",\"Medium\",\"Medium\",\"Medium\",\"Medium\",\"Medium\",\"Medium\",\"Medium\",\"Medium\",\"Medium\",\"Medium\",\"Medium\",\"Medium\",\"Medium\",\"Medium\",\"Medium\",\"Medium\",\"Medium\",\"Medium\",\"Medium\",\"Medium\",\"Medium\",\"Medium\",\"Medium\",\"Medium\",\"Medium\",\"Medium\",\"Medium\",\"Medium\",\"Medium\",\"Medium\",\"Medium\",\"Medium\",\"Medium\",\"Medium\",\"Medium\",\"Medium\",\"Medium\"],\"yaxis\":\"y\",\"type\":\"bar\"},{\"alignmentgroup\":\"True\",\"hovertemplate\":\"Level=%{y}<br>Genetic Risk=%{x}<extra></extra>\",\"legendgroup\":\"High\",\"marker\":{\"color\":\"#00cc96\",\"pattern\":{\"shape\":\"\"}},\"name\":\"High\",\"offsetgroup\":\"High\",\"orientation\":\"h\",\"showlegend\":true,\"textposition\":\"auto\",\"x\":[5,6,7,5,7,7,6,6,7,6,5,7,7,7,7,6,5,6,5,7,7,7,7,7,6,5,7,7,6,7,7,7,5,7,5,7,7,6,7,7,7,5,7,5,7,6,5,7,7,7,6,7,6,5,7,7,7,6,5,6,5,7,7,7,6,5,7,7,6,7,7,7,5,7,5,7,7,6,7,7,7,5,7,5,7,6,5,7,7,6,7,6,5,7,7,7,6,5,7,7,7,6,5,7,7,6,7,7,7,5,7,5,7,7,6,7,7,7,5,7,5,7,6,5,7,7,6,7,6,5,7,7,7,6,5,7,7,7,6,5,7,7,6,7,7,7,5,7,5,7,7,6,7,7,7,5,7,5,7,7,6,5,7,7,6,7,6,5,7,7,7,6,5,7,7,7,6,5,7,7,6,7,7,7,5,7,5,7,7,6,7,7,7,5,7,5,7,7,6,5,7,7,6,7,6,5,7,7,7,6,5,7,7,7,6,5,7,7,6,7,7,7,5,7,5,7,7,6,7,7,7,5,7,5,7,6,5,7,7,6,7,6,5,7,7,7,6,5,7,7,7,7,7,7,6,6,5,7,7,6,7,7,7,5,7,5,5,7,7,6,7,7,7,5,7,5,7,7,6,5,7,7,7,6,7,6,5,7,7,6,7,6,5,7,7,7,5,7,7,7,7,5,6,5,7,7,6,7,7,7,5,7,7,5,7,7,6,7,7,7,5,7,5,7,7,6,5,7,7,6,6,7,6,5,7,7,7,7,6,5,7,7,5,7,5,7,7,5,7,7,7,7,5,7,6,5,7,7,6,7,7,7,5,7,5],\"xaxis\":\"x\",\"y\":[\"High\",\"High\",\"High\",\"High\",\"High\",\"High\",\"High\",\"High\",\"High\",\"High\",\"High\",\"High\",\"High\",\"High\",\"High\",\"High\",\"High\",\"High\",\"High\",\"High\",\"High\",\"High\",\"High\",\"High\",\"High\",\"High\",\"High\",\"High\",\"High\",\"High\",\"High\",\"High\",\"High\",\"High\",\"High\",\"High\",\"High\",\"High\",\"High\",\"High\",\"High\",\"High\",\"High\",\"High\",\"High\",\"High\",\"High\",\"High\",\"High\",\"High\",\"High\",\"High\",\"High\",\"High\",\"High\",\"High\",\"High\",\"High\",\"High\",\"High\",\"High\",\"High\",\"High\",\"High\",\"High\",\"High\",\"High\",\"High\",\"High\",\"High\",\"High\",\"High\",\"High\",\"High\",\"High\",\"High\",\"High\",\"High\",\"High\",\"High\",\"High\",\"High\",\"High\",\"High\",\"High\",\"High\",\"High\",\"High\",\"High\",\"High\",\"High\",\"High\",\"High\",\"High\",\"High\",\"High\",\"High\",\"High\",\"High\",\"High\",\"High\",\"High\",\"High\",\"High\",\"High\",\"High\",\"High\",\"High\",\"High\",\"High\",\"High\",\"High\",\"High\",\"High\",\"High\",\"High\",\"High\",\"High\",\"High\",\"High\",\"High\",\"High\",\"High\",\"High\",\"High\",\"High\",\"High\",\"High\",\"High\",\"High\",\"High\",\"High\",\"High\",\"High\",\"High\",\"High\",\"High\",\"High\",\"High\",\"High\",\"High\",\"High\",\"High\",\"High\",\"High\",\"High\",\"High\",\"High\",\"High\",\"High\",\"High\",\"High\",\"High\",\"High\",\"High\",\"High\",\"High\",\"High\",\"High\",\"High\",\"High\",\"High\",\"High\",\"High\",\"High\",\"High\",\"High\",\"High\",\"High\",\"High\",\"High\",\"High\",\"High\",\"High\",\"High\",\"High\",\"High\",\"High\",\"High\",\"High\",\"High\",\"High\",\"High\",\"High\",\"High\",\"High\",\"High\",\"High\",\"High\",\"High\",\"High\",\"High\",\"High\",\"High\",\"High\",\"High\",\"High\",\"High\",\"High\",\"High\",\"High\",\"High\",\"High\",\"High\",\"High\",\"High\",\"High\",\"High\",\"High\",\"High\",\"High\",\"High\",\"High\",\"High\",\"High\",\"High\",\"High\",\"High\",\"High\",\"High\",\"High\",\"High\",\"High\",\"High\",\"High\",\"High\",\"High\",\"High\",\"High\",\"High\",\"High\",\"High\",\"High\",\"High\",\"High\",\"High\",\"High\",\"High\",\"High\",\"High\",\"High\",\"High\",\"High\",\"High\",\"High\",\"High\",\"High\",\"High\",\"High\",\"High\",\"High\",\"High\",\"High\",\"High\",\"High\",\"High\",\"High\",\"High\",\"High\",\"High\",\"High\",\"High\",\"High\",\"High\",\"High\",\"High\",\"High\",\"High\",\"High\",\"High\",\"High\",\"High\",\"High\",\"High\",\"High\",\"High\",\"High\",\"High\",\"High\",\"High\",\"High\",\"High\",\"High\",\"High\",\"High\",\"High\",\"High\",\"High\",\"High\",\"High\",\"High\",\"High\",\"High\",\"High\",\"High\",\"High\",\"High\",\"High\",\"High\",\"High\",\"High\",\"High\",\"High\",\"High\",\"High\",\"High\",\"High\",\"High\",\"High\",\"High\",\"High\",\"High\",\"High\",\"High\",\"High\",\"High\",\"High\",\"High\",\"High\",\"High\",\"High\",\"High\",\"High\",\"High\",\"High\",\"High\",\"High\",\"High\",\"High\",\"High\",\"High\",\"High\",\"High\",\"High\",\"High\",\"High\",\"High\",\"High\",\"High\",\"High\",\"High\",\"High\",\"High\",\"High\",\"High\",\"High\",\"High\",\"High\",\"High\",\"High\",\"High\",\"High\",\"High\",\"High\",\"High\",\"High\",\"High\",\"High\",\"High\",\"High\",\"High\",\"High\",\"High\",\"High\",\"High\"],\"yaxis\":\"y\",\"type\":\"bar\"}],                        {\"template\":{\"data\":{\"bar\":[{\"error_x\":{\"color\":\"#2a3f5f\"},\"error_y\":{\"color\":\"#2a3f5f\"},\"marker\":{\"line\":{\"color\":\"#E5ECF6\",\"width\":0.5},\"pattern\":{\"fillmode\":\"overlay\",\"size\":10,\"solidity\":0.2}},\"type\":\"bar\"}],\"barpolar\":[{\"marker\":{\"line\":{\"color\":\"#E5ECF6\",\"width\":0.5},\"pattern\":{\"fillmode\":\"overlay\",\"size\":10,\"solidity\":0.2}},\"type\":\"barpolar\"}],\"carpet\":[{\"aaxis\":{\"endlinecolor\":\"#2a3f5f\",\"gridcolor\":\"white\",\"linecolor\":\"white\",\"minorgridcolor\":\"white\",\"startlinecolor\":\"#2a3f5f\"},\"baxis\":{\"endlinecolor\":\"#2a3f5f\",\"gridcolor\":\"white\",\"linecolor\":\"white\",\"minorgridcolor\":\"white\",\"startlinecolor\":\"#2a3f5f\"},\"type\":\"carpet\"}],\"choropleth\":[{\"colorbar\":{\"outlinewidth\":0,\"ticks\":\"\"},\"type\":\"choropleth\"}],\"contour\":[{\"colorbar\":{\"outlinewidth\":0,\"ticks\":\"\"},\"colorscale\":[[0.0,\"#0d0887\"],[0.1111111111111111,\"#46039f\"],[0.2222222222222222,\"#7201a8\"],[0.3333333333333333,\"#9c179e\"],[0.4444444444444444,\"#bd3786\"],[0.5555555555555556,\"#d8576b\"],[0.6666666666666666,\"#ed7953\"],[0.7777777777777778,\"#fb9f3a\"],[0.8888888888888888,\"#fdca26\"],[1.0,\"#f0f921\"]],\"type\":\"contour\"}],\"contourcarpet\":[{\"colorbar\":{\"outlinewidth\":0,\"ticks\":\"\"},\"type\":\"contourcarpet\"}],\"heatmap\":[{\"colorbar\":{\"outlinewidth\":0,\"ticks\":\"\"},\"colorscale\":[[0.0,\"#0d0887\"],[0.1111111111111111,\"#46039f\"],[0.2222222222222222,\"#7201a8\"],[0.3333333333333333,\"#9c179e\"],[0.4444444444444444,\"#bd3786\"],[0.5555555555555556,\"#d8576b\"],[0.6666666666666666,\"#ed7953\"],[0.7777777777777778,\"#fb9f3a\"],[0.8888888888888888,\"#fdca26\"],[1.0,\"#f0f921\"]],\"type\":\"heatmap\"}],\"heatmapgl\":[{\"colorbar\":{\"outlinewidth\":0,\"ticks\":\"\"},\"colorscale\":[[0.0,\"#0d0887\"],[0.1111111111111111,\"#46039f\"],[0.2222222222222222,\"#7201a8\"],[0.3333333333333333,\"#9c179e\"],[0.4444444444444444,\"#bd3786\"],[0.5555555555555556,\"#d8576b\"],[0.6666666666666666,\"#ed7953\"],[0.7777777777777778,\"#fb9f3a\"],[0.8888888888888888,\"#fdca26\"],[1.0,\"#f0f921\"]],\"type\":\"heatmapgl\"}],\"histogram\":[{\"marker\":{\"pattern\":{\"fillmode\":\"overlay\",\"size\":10,\"solidity\":0.2}},\"type\":\"histogram\"}],\"histogram2d\":[{\"colorbar\":{\"outlinewidth\":0,\"ticks\":\"\"},\"colorscale\":[[0.0,\"#0d0887\"],[0.1111111111111111,\"#46039f\"],[0.2222222222222222,\"#7201a8\"],[0.3333333333333333,\"#9c179e\"],[0.4444444444444444,\"#bd3786\"],[0.5555555555555556,\"#d8576b\"],[0.6666666666666666,\"#ed7953\"],[0.7777777777777778,\"#fb9f3a\"],[0.8888888888888888,\"#fdca26\"],[1.0,\"#f0f921\"]],\"type\":\"histogram2d\"}],\"histogram2dcontour\":[{\"colorbar\":{\"outlinewidth\":0,\"ticks\":\"\"},\"colorscale\":[[0.0,\"#0d0887\"],[0.1111111111111111,\"#46039f\"],[0.2222222222222222,\"#7201a8\"],[0.3333333333333333,\"#9c179e\"],[0.4444444444444444,\"#bd3786\"],[0.5555555555555556,\"#d8576b\"],[0.6666666666666666,\"#ed7953\"],[0.7777777777777778,\"#fb9f3a\"],[0.8888888888888888,\"#fdca26\"],[1.0,\"#f0f921\"]],\"type\":\"histogram2dcontour\"}],\"mesh3d\":[{\"colorbar\":{\"outlinewidth\":0,\"ticks\":\"\"},\"type\":\"mesh3d\"}],\"parcoords\":[{\"line\":{\"colorbar\":{\"outlinewidth\":0,\"ticks\":\"\"}},\"type\":\"parcoords\"}],\"pie\":[{\"automargin\":true,\"type\":\"pie\"}],\"scatter\":[{\"marker\":{\"colorbar\":{\"outlinewidth\":0,\"ticks\":\"\"}},\"type\":\"scatter\"}],\"scatter3d\":[{\"line\":{\"colorbar\":{\"outlinewidth\":0,\"ticks\":\"\"}},\"marker\":{\"colorbar\":{\"outlinewidth\":0,\"ticks\":\"\"}},\"type\":\"scatter3d\"}],\"scattercarpet\":[{\"marker\":{\"colorbar\":{\"outlinewidth\":0,\"ticks\":\"\"}},\"type\":\"scattercarpet\"}],\"scattergeo\":[{\"marker\":{\"colorbar\":{\"outlinewidth\":0,\"ticks\":\"\"}},\"type\":\"scattergeo\"}],\"scattergl\":[{\"marker\":{\"colorbar\":{\"outlinewidth\":0,\"ticks\":\"\"}},\"type\":\"scattergl\"}],\"scattermapbox\":[{\"marker\":{\"colorbar\":{\"outlinewidth\":0,\"ticks\":\"\"}},\"type\":\"scattermapbox\"}],\"scatterpolar\":[{\"marker\":{\"colorbar\":{\"outlinewidth\":0,\"ticks\":\"\"}},\"type\":\"scatterpolar\"}],\"scatterpolargl\":[{\"marker\":{\"colorbar\":{\"outlinewidth\":0,\"ticks\":\"\"}},\"type\":\"scatterpolargl\"}],\"scatterternary\":[{\"marker\":{\"colorbar\":{\"outlinewidth\":0,\"ticks\":\"\"}},\"type\":\"scatterternary\"}],\"surface\":[{\"colorbar\":{\"outlinewidth\":0,\"ticks\":\"\"},\"colorscale\":[[0.0,\"#0d0887\"],[0.1111111111111111,\"#46039f\"],[0.2222222222222222,\"#7201a8\"],[0.3333333333333333,\"#9c179e\"],[0.4444444444444444,\"#bd3786\"],[0.5555555555555556,\"#d8576b\"],[0.6666666666666666,\"#ed7953\"],[0.7777777777777778,\"#fb9f3a\"],[0.8888888888888888,\"#fdca26\"],[1.0,\"#f0f921\"]],\"type\":\"surface\"}],\"table\":[{\"cells\":{\"fill\":{\"color\":\"#EBF0F8\"},\"line\":{\"color\":\"white\"}},\"header\":{\"fill\":{\"color\":\"#C8D4E3\"},\"line\":{\"color\":\"white\"}},\"type\":\"table\"}]},\"layout\":{\"annotationdefaults\":{\"arrowcolor\":\"#2a3f5f\",\"arrowhead\":0,\"arrowwidth\":1},\"autotypenumbers\":\"strict\",\"coloraxis\":{\"colorbar\":{\"outlinewidth\":0,\"ticks\":\"\"}},\"colorscale\":{\"diverging\":[[0,\"#8e0152\"],[0.1,\"#c51b7d\"],[0.2,\"#de77ae\"],[0.3,\"#f1b6da\"],[0.4,\"#fde0ef\"],[0.5,\"#f7f7f7\"],[0.6,\"#e6f5d0\"],[0.7,\"#b8e186\"],[0.8,\"#7fbc41\"],[0.9,\"#4d9221\"],[1,\"#276419\"]],\"sequential\":[[0.0,\"#0d0887\"],[0.1111111111111111,\"#46039f\"],[0.2222222222222222,\"#7201a8\"],[0.3333333333333333,\"#9c179e\"],[0.4444444444444444,\"#bd3786\"],[0.5555555555555556,\"#d8576b\"],[0.6666666666666666,\"#ed7953\"],[0.7777777777777778,\"#fb9f3a\"],[0.8888888888888888,\"#fdca26\"],[1.0,\"#f0f921\"]],\"sequentialminus\":[[0.0,\"#0d0887\"],[0.1111111111111111,\"#46039f\"],[0.2222222222222222,\"#7201a8\"],[0.3333333333333333,\"#9c179e\"],[0.4444444444444444,\"#bd3786\"],[0.5555555555555556,\"#d8576b\"],[0.6666666666666666,\"#ed7953\"],[0.7777777777777778,\"#fb9f3a\"],[0.8888888888888888,\"#fdca26\"],[1.0,\"#f0f921\"]]},\"colorway\":[\"#636efa\",\"#EF553B\",\"#00cc96\",\"#ab63fa\",\"#FFA15A\",\"#19d3f3\",\"#FF6692\",\"#B6E880\",\"#FF97FF\",\"#FECB52\"],\"font\":{\"color\":\"#2a3f5f\"},\"geo\":{\"bgcolor\":\"white\",\"lakecolor\":\"white\",\"landcolor\":\"#E5ECF6\",\"showlakes\":true,\"showland\":true,\"subunitcolor\":\"white\"},\"hoverlabel\":{\"align\":\"left\"},\"hovermode\":\"closest\",\"mapbox\":{\"style\":\"light\"},\"paper_bgcolor\":\"white\",\"plot_bgcolor\":\"#E5ECF6\",\"polar\":{\"angularaxis\":{\"gridcolor\":\"white\",\"linecolor\":\"white\",\"ticks\":\"\"},\"bgcolor\":\"#E5ECF6\",\"radialaxis\":{\"gridcolor\":\"white\",\"linecolor\":\"white\",\"ticks\":\"\"}},\"scene\":{\"xaxis\":{\"backgroundcolor\":\"#E5ECF6\",\"gridcolor\":\"white\",\"gridwidth\":2,\"linecolor\":\"white\",\"showbackground\":true,\"ticks\":\"\",\"zerolinecolor\":\"white\"},\"yaxis\":{\"backgroundcolor\":\"#E5ECF6\",\"gridcolor\":\"white\",\"gridwidth\":2,\"linecolor\":\"white\",\"showbackground\":true,\"ticks\":\"\",\"zerolinecolor\":\"white\"},\"zaxis\":{\"backgroundcolor\":\"#E5ECF6\",\"gridcolor\":\"white\",\"gridwidth\":2,\"linecolor\":\"white\",\"showbackground\":true,\"ticks\":\"\",\"zerolinecolor\":\"white\"}},\"shapedefaults\":{\"line\":{\"color\":\"#2a3f5f\"}},\"ternary\":{\"aaxis\":{\"gridcolor\":\"white\",\"linecolor\":\"white\",\"ticks\":\"\"},\"baxis\":{\"gridcolor\":\"white\",\"linecolor\":\"white\",\"ticks\":\"\"},\"bgcolor\":\"#E5ECF6\",\"caxis\":{\"gridcolor\":\"white\",\"linecolor\":\"white\",\"ticks\":\"\"}},\"title\":{\"x\":0.05},\"xaxis\":{\"automargin\":true,\"gridcolor\":\"white\",\"linecolor\":\"white\",\"ticks\":\"\",\"title\":{\"standoff\":15},\"zerolinecolor\":\"white\",\"zerolinewidth\":2},\"yaxis\":{\"automargin\":true,\"gridcolor\":\"white\",\"linecolor\":\"white\",\"ticks\":\"\",\"title\":{\"standoff\":15},\"zerolinecolor\":\"white\",\"zerolinewidth\":2}}},\"xaxis\":{\"anchor\":\"y\",\"domain\":[0.0,1.0],\"title\":{\"text\":\"Genetic Risk\"}},\"yaxis\":{\"anchor\":\"x\",\"domain\":[0.0,1.0],\"title\":{\"text\":\"Level\"},\"categoryorder\":\"array\",\"categoryarray\":[\"High\",\"Medium\",\"Low\"]},\"legend\":{\"title\":{\"text\":\"Level\"},\"tracegroupgap\":0},\"title\":{\"text\":\"Effect of Genetic risk \"},\"barmode\":\"relative\"},                        {\"responsive\": true}                    ).then(function(){\n",
              "                            \n",
              "var gd = document.getElementById('b0fceac8-bd3a-4884-a5bf-5f9c481f99ae');\n",
              "var x = new MutationObserver(function (mutations, observer) {{\n",
              "        var display = window.getComputedStyle(gd).display;\n",
              "        if (!display || display === 'none') {{\n",
              "            console.log([gd, 'removed!']);\n",
              "            Plotly.purge(gd);\n",
              "            observer.disconnect();\n",
              "        }}\n",
              "}});\n",
              "\n",
              "// Listen for the removal of the full notebook cells\n",
              "var notebookContainer = gd.closest('#notebook-container');\n",
              "if (notebookContainer) {{\n",
              "    x.observe(notebookContainer, {childList: true});\n",
              "}}\n",
              "\n",
              "// Listen for the clearing of the current output cell\n",
              "var outputEl = gd.closest('.output');\n",
              "if (outputEl) {{\n",
              "    x.observe(outputEl, {childList: true});\n",
              "}}\n",
              "\n",
              "                        })                };                            </script>        </div>\n",
              "</body>\n",
              "</html>"
            ]
          },
          "metadata": {}
        }
      ]
    }
  ]
}