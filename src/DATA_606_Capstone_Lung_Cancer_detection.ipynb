{
  "nbformat": 4,
  "nbformat_minor": 0,
  "metadata": {
    "colab": {
      "provenance": []
    },
    "kernelspec": {
      "name": "python3",
      "display_name": "Python 3"
    },
    "language_info": {
      "name": "python"
    }
  },
  "cells": [
    {
      "cell_type": "markdown",
      "source": [
        "## DATA 606 Capstone in Data Science\n",
        "### Project Title: Lung Cancer Detection\n",
        "### Author: Swapan Gupta Chollati(RJ29255)"
      ],
      "metadata": {
        "id": "sUahJ6bTwXkV"
      }
    },
    {
      "cell_type": "markdown",
      "source": [
        "- Dataset is downloaded from: https://www.kaggle.com/code/sripadkarthik/lung-cancer-prediction-using-ml-and-dl/data and uploaded to Github repository in a folder \"data\" created for the project. "
      ],
      "metadata": {
        "id": "j86UqIAvwbQP"
      }
    },
    {
      "cell_type": "code",
      "execution_count": null,
      "metadata": {
        "id": "pC-fJaPdxOD_"
      },
      "outputs": [],
      "source": [
        "import pandas as pd\n",
        "from matplotlib import pyplot as plt\n",
        "from sklearn.model_selection import train_test_split\n",
        "import numpy as np\n",
        "from sklearn.metrics import classification_report\n",
        "from sklearn import metrics\n",
        "import numpy as np\n",
        "import random\n",
        "import tensorflow as tf"
      ]
    },
    {
      "cell_type": "markdown",
      "source": [
        "## Reading CSV File"
      ],
      "metadata": {
        "id": "twtklUPGwgLa"
      }
    },
    {
      "cell_type": "code",
      "source": [
        "data = pd.read_csv(\"https://raw.githubusercontent.com/SwapanGupt/SwapanGupta_Data606/main/data/LungCancer%20Dataset.csv\")"
      ],
      "metadata": {
        "id": "6Y_VJPOFz54n"
      },
      "execution_count": null,
      "outputs": []
    },
    {
      "cell_type": "code",
      "source": [
        "data"
      ],
      "metadata": {
        "colab": {
          "base_uri": "https://localhost:8080/",
          "height": 519
        },
        "id": "odG7LD1S0F3S",
        "outputId": "3d184496-1d9d-4fa5-e3fc-f45fd9fc6576"
      },
      "execution_count": null,
      "outputs": [
        {
          "output_type": "execute_result",
          "data": {
            "text/plain": [
              "     index Patient Id  Age  Gender  Air Pollution  Alcohol use  Dust Allergy  \\\n",
              "0        0         P1   33       1              2            4             5   \n",
              "1        1        P10   17       1              3            1             5   \n",
              "2        2       P100   35       1              4            5             6   \n",
              "3        3      P1000   37       1              7            7             7   \n",
              "4        4       P101   46       1              6            8             7   \n",
              "..     ...        ...  ...     ...            ...          ...           ...   \n",
              "995    995       P995   44       1              6            7             7   \n",
              "996    996       P996   37       2              6            8             7   \n",
              "997    997       P997   25       2              4            5             6   \n",
              "998    998       P998   18       2              6            8             7   \n",
              "999    999       P999   47       1              6            5             6   \n",
              "\n",
              "     OccuPational Hazards  Genetic Risk  chronic Lung Disease  ...  Fatigue  \\\n",
              "0                       4             3                     2  ...        3   \n",
              "1                       3             4                     2  ...        1   \n",
              "2                       5             5                     4  ...        8   \n",
              "3                       7             6                     7  ...        4   \n",
              "4                       7             7                     6  ...        3   \n",
              "..                    ...           ...                   ...  ...      ...   \n",
              "995                     7             7                     6  ...        5   \n",
              "996                     7             7                     6  ...        9   \n",
              "997                     5             5                     4  ...        8   \n",
              "998                     7             7                     6  ...        3   \n",
              "999                     5             5                     4  ...        8   \n",
              "\n",
              "     Weight Loss  Shortness of Breath  Wheezing  Swallowing Difficulty  \\\n",
              "0              4                    2         2                      3   \n",
              "1              3                    7         8                      6   \n",
              "2              7                    9         2                      1   \n",
              "3              2                    3         1                      4   \n",
              "4              2                    4         1                      4   \n",
              "..           ...                  ...       ...                    ...   \n",
              "995            3                    2         7                      8   \n",
              "996            6                    5         7                      2   \n",
              "997            7                    9         2                      1   \n",
              "998            2                    4         1                      4   \n",
              "999            7                    9         2                      1   \n",
              "\n",
              "     Clubbing of Finger Nails  Frequent Cold  Dry Cough  Snoring   Level  \n",
              "0                           1              2          3        4     Low  \n",
              "1                           2              1          7        2  Medium  \n",
              "2                           4              6          7        2    High  \n",
              "3                           5              6          7        5    High  \n",
              "4                           2              4          2        3    High  \n",
              "..                        ...            ...        ...      ...     ...  \n",
              "995                         2              4          5        3    High  \n",
              "996                         4              3          1        4    High  \n",
              "997                         4              6          7        2    High  \n",
              "998                         2              4          2        3    High  \n",
              "999                         4              6          7        2    High  \n",
              "\n",
              "[1000 rows x 26 columns]"
            ],
            "text/html": [
              "\n",
              "  <div id=\"df-f12c0bd7-e9fb-48a9-a372-189af2893f0e\">\n",
              "    <div class=\"colab-df-container\">\n",
              "      <div>\n",
              "<style scoped>\n",
              "    .dataframe tbody tr th:only-of-type {\n",
              "        vertical-align: middle;\n",
              "    }\n",
              "\n",
              "    .dataframe tbody tr th {\n",
              "        vertical-align: top;\n",
              "    }\n",
              "\n",
              "    .dataframe thead th {\n",
              "        text-align: right;\n",
              "    }\n",
              "</style>\n",
              "<table border=\"1\" class=\"dataframe\">\n",
              "  <thead>\n",
              "    <tr style=\"text-align: right;\">\n",
              "      <th></th>\n",
              "      <th>index</th>\n",
              "      <th>Patient Id</th>\n",
              "      <th>Age</th>\n",
              "      <th>Gender</th>\n",
              "      <th>Air Pollution</th>\n",
              "      <th>Alcohol use</th>\n",
              "      <th>Dust Allergy</th>\n",
              "      <th>OccuPational Hazards</th>\n",
              "      <th>Genetic Risk</th>\n",
              "      <th>chronic Lung Disease</th>\n",
              "      <th>...</th>\n",
              "      <th>Fatigue</th>\n",
              "      <th>Weight Loss</th>\n",
              "      <th>Shortness of Breath</th>\n",
              "      <th>Wheezing</th>\n",
              "      <th>Swallowing Difficulty</th>\n",
              "      <th>Clubbing of Finger Nails</th>\n",
              "      <th>Frequent Cold</th>\n",
              "      <th>Dry Cough</th>\n",
              "      <th>Snoring</th>\n",
              "      <th>Level</th>\n",
              "    </tr>\n",
              "  </thead>\n",
              "  <tbody>\n",
              "    <tr>\n",
              "      <th>0</th>\n",
              "      <td>0</td>\n",
              "      <td>P1</td>\n",
              "      <td>33</td>\n",
              "      <td>1</td>\n",
              "      <td>2</td>\n",
              "      <td>4</td>\n",
              "      <td>5</td>\n",
              "      <td>4</td>\n",
              "      <td>3</td>\n",
              "      <td>2</td>\n",
              "      <td>...</td>\n",
              "      <td>3</td>\n",
              "      <td>4</td>\n",
              "      <td>2</td>\n",
              "      <td>2</td>\n",
              "      <td>3</td>\n",
              "      <td>1</td>\n",
              "      <td>2</td>\n",
              "      <td>3</td>\n",
              "      <td>4</td>\n",
              "      <td>Low</td>\n",
              "    </tr>\n",
              "    <tr>\n",
              "      <th>1</th>\n",
              "      <td>1</td>\n",
              "      <td>P10</td>\n",
              "      <td>17</td>\n",
              "      <td>1</td>\n",
              "      <td>3</td>\n",
              "      <td>1</td>\n",
              "      <td>5</td>\n",
              "      <td>3</td>\n",
              "      <td>4</td>\n",
              "      <td>2</td>\n",
              "      <td>...</td>\n",
              "      <td>1</td>\n",
              "      <td>3</td>\n",
              "      <td>7</td>\n",
              "      <td>8</td>\n",
              "      <td>6</td>\n",
              "      <td>2</td>\n",
              "      <td>1</td>\n",
              "      <td>7</td>\n",
              "      <td>2</td>\n",
              "      <td>Medium</td>\n",
              "    </tr>\n",
              "    <tr>\n",
              "      <th>2</th>\n",
              "      <td>2</td>\n",
              "      <td>P100</td>\n",
              "      <td>35</td>\n",
              "      <td>1</td>\n",
              "      <td>4</td>\n",
              "      <td>5</td>\n",
              "      <td>6</td>\n",
              "      <td>5</td>\n",
              "      <td>5</td>\n",
              "      <td>4</td>\n",
              "      <td>...</td>\n",
              "      <td>8</td>\n",
              "      <td>7</td>\n",
              "      <td>9</td>\n",
              "      <td>2</td>\n",
              "      <td>1</td>\n",
              "      <td>4</td>\n",
              "      <td>6</td>\n",
              "      <td>7</td>\n",
              "      <td>2</td>\n",
              "      <td>High</td>\n",
              "    </tr>\n",
              "    <tr>\n",
              "      <th>3</th>\n",
              "      <td>3</td>\n",
              "      <td>P1000</td>\n",
              "      <td>37</td>\n",
              "      <td>1</td>\n",
              "      <td>7</td>\n",
              "      <td>7</td>\n",
              "      <td>7</td>\n",
              "      <td>7</td>\n",
              "      <td>6</td>\n",
              "      <td>7</td>\n",
              "      <td>...</td>\n",
              "      <td>4</td>\n",
              "      <td>2</td>\n",
              "      <td>3</td>\n",
              "      <td>1</td>\n",
              "      <td>4</td>\n",
              "      <td>5</td>\n",
              "      <td>6</td>\n",
              "      <td>7</td>\n",
              "      <td>5</td>\n",
              "      <td>High</td>\n",
              "    </tr>\n",
              "    <tr>\n",
              "      <th>4</th>\n",
              "      <td>4</td>\n",
              "      <td>P101</td>\n",
              "      <td>46</td>\n",
              "      <td>1</td>\n",
              "      <td>6</td>\n",
              "      <td>8</td>\n",
              "      <td>7</td>\n",
              "      <td>7</td>\n",
              "      <td>7</td>\n",
              "      <td>6</td>\n",
              "      <td>...</td>\n",
              "      <td>3</td>\n",
              "      <td>2</td>\n",
              "      <td>4</td>\n",
              "      <td>1</td>\n",
              "      <td>4</td>\n",
              "      <td>2</td>\n",
              "      <td>4</td>\n",
              "      <td>2</td>\n",
              "      <td>3</td>\n",
              "      <td>High</td>\n",
              "    </tr>\n",
              "    <tr>\n",
              "      <th>...</th>\n",
              "      <td>...</td>\n",
              "      <td>...</td>\n",
              "      <td>...</td>\n",
              "      <td>...</td>\n",
              "      <td>...</td>\n",
              "      <td>...</td>\n",
              "      <td>...</td>\n",
              "      <td>...</td>\n",
              "      <td>...</td>\n",
              "      <td>...</td>\n",
              "      <td>...</td>\n",
              "      <td>...</td>\n",
              "      <td>...</td>\n",
              "      <td>...</td>\n",
              "      <td>...</td>\n",
              "      <td>...</td>\n",
              "      <td>...</td>\n",
              "      <td>...</td>\n",
              "      <td>...</td>\n",
              "      <td>...</td>\n",
              "      <td>...</td>\n",
              "    </tr>\n",
              "    <tr>\n",
              "      <th>995</th>\n",
              "      <td>995</td>\n",
              "      <td>P995</td>\n",
              "      <td>44</td>\n",
              "      <td>1</td>\n",
              "      <td>6</td>\n",
              "      <td>7</td>\n",
              "      <td>7</td>\n",
              "      <td>7</td>\n",
              "      <td>7</td>\n",
              "      <td>6</td>\n",
              "      <td>...</td>\n",
              "      <td>5</td>\n",
              "      <td>3</td>\n",
              "      <td>2</td>\n",
              "      <td>7</td>\n",
              "      <td>8</td>\n",
              "      <td>2</td>\n",
              "      <td>4</td>\n",
              "      <td>5</td>\n",
              "      <td>3</td>\n",
              "      <td>High</td>\n",
              "    </tr>\n",
              "    <tr>\n",
              "      <th>996</th>\n",
              "      <td>996</td>\n",
              "      <td>P996</td>\n",
              "      <td>37</td>\n",
              "      <td>2</td>\n",
              "      <td>6</td>\n",
              "      <td>8</td>\n",
              "      <td>7</td>\n",
              "      <td>7</td>\n",
              "      <td>7</td>\n",
              "      <td>6</td>\n",
              "      <td>...</td>\n",
              "      <td>9</td>\n",
              "      <td>6</td>\n",
              "      <td>5</td>\n",
              "      <td>7</td>\n",
              "      <td>2</td>\n",
              "      <td>4</td>\n",
              "      <td>3</td>\n",
              "      <td>1</td>\n",
              "      <td>4</td>\n",
              "      <td>High</td>\n",
              "    </tr>\n",
              "    <tr>\n",
              "      <th>997</th>\n",
              "      <td>997</td>\n",
              "      <td>P997</td>\n",
              "      <td>25</td>\n",
              "      <td>2</td>\n",
              "      <td>4</td>\n",
              "      <td>5</td>\n",
              "      <td>6</td>\n",
              "      <td>5</td>\n",
              "      <td>5</td>\n",
              "      <td>4</td>\n",
              "      <td>...</td>\n",
              "      <td>8</td>\n",
              "      <td>7</td>\n",
              "      <td>9</td>\n",
              "      <td>2</td>\n",
              "      <td>1</td>\n",
              "      <td>4</td>\n",
              "      <td>6</td>\n",
              "      <td>7</td>\n",
              "      <td>2</td>\n",
              "      <td>High</td>\n",
              "    </tr>\n",
              "    <tr>\n",
              "      <th>998</th>\n",
              "      <td>998</td>\n",
              "      <td>P998</td>\n",
              "      <td>18</td>\n",
              "      <td>2</td>\n",
              "      <td>6</td>\n",
              "      <td>8</td>\n",
              "      <td>7</td>\n",
              "      <td>7</td>\n",
              "      <td>7</td>\n",
              "      <td>6</td>\n",
              "      <td>...</td>\n",
              "      <td>3</td>\n",
              "      <td>2</td>\n",
              "      <td>4</td>\n",
              "      <td>1</td>\n",
              "      <td>4</td>\n",
              "      <td>2</td>\n",
              "      <td>4</td>\n",
              "      <td>2</td>\n",
              "      <td>3</td>\n",
              "      <td>High</td>\n",
              "    </tr>\n",
              "    <tr>\n",
              "      <th>999</th>\n",
              "      <td>999</td>\n",
              "      <td>P999</td>\n",
              "      <td>47</td>\n",
              "      <td>1</td>\n",
              "      <td>6</td>\n",
              "      <td>5</td>\n",
              "      <td>6</td>\n",
              "      <td>5</td>\n",
              "      <td>5</td>\n",
              "      <td>4</td>\n",
              "      <td>...</td>\n",
              "      <td>8</td>\n",
              "      <td>7</td>\n",
              "      <td>9</td>\n",
              "      <td>2</td>\n",
              "      <td>1</td>\n",
              "      <td>4</td>\n",
              "      <td>6</td>\n",
              "      <td>7</td>\n",
              "      <td>2</td>\n",
              "      <td>High</td>\n",
              "    </tr>\n",
              "  </tbody>\n",
              "</table>\n",
              "<p>1000 rows × 26 columns</p>\n",
              "</div>\n",
              "      <button class=\"colab-df-convert\" onclick=\"convertToInteractive('df-f12c0bd7-e9fb-48a9-a372-189af2893f0e')\"\n",
              "              title=\"Convert this dataframe to an interactive table.\"\n",
              "              style=\"display:none;\">\n",
              "        \n",
              "  <svg xmlns=\"http://www.w3.org/2000/svg\" height=\"24px\"viewBox=\"0 0 24 24\"\n",
              "       width=\"24px\">\n",
              "    <path d=\"M0 0h24v24H0V0z\" fill=\"none\"/>\n",
              "    <path d=\"M18.56 5.44l.94 2.06.94-2.06 2.06-.94-2.06-.94-.94-2.06-.94 2.06-2.06.94zm-11 1L8.5 8.5l.94-2.06 2.06-.94-2.06-.94L8.5 2.5l-.94 2.06-2.06.94zm10 10l.94 2.06.94-2.06 2.06-.94-2.06-.94-.94-2.06-.94 2.06-2.06.94z\"/><path d=\"M17.41 7.96l-1.37-1.37c-.4-.4-.92-.59-1.43-.59-.52 0-1.04.2-1.43.59L10.3 9.45l-7.72 7.72c-.78.78-.78 2.05 0 2.83L4 21.41c.39.39.9.59 1.41.59.51 0 1.02-.2 1.41-.59l7.78-7.78 2.81-2.81c.8-.78.8-2.07 0-2.86zM5.41 20L4 18.59l7.72-7.72 1.47 1.35L5.41 20z\"/>\n",
              "  </svg>\n",
              "      </button>\n",
              "      \n",
              "  <style>\n",
              "    .colab-df-container {\n",
              "      display:flex;\n",
              "      flex-wrap:wrap;\n",
              "      gap: 12px;\n",
              "    }\n",
              "\n",
              "    .colab-df-convert {\n",
              "      background-color: #E8F0FE;\n",
              "      border: none;\n",
              "      border-radius: 50%;\n",
              "      cursor: pointer;\n",
              "      display: none;\n",
              "      fill: #1967D2;\n",
              "      height: 32px;\n",
              "      padding: 0 0 0 0;\n",
              "      width: 32px;\n",
              "    }\n",
              "\n",
              "    .colab-df-convert:hover {\n",
              "      background-color: #E2EBFA;\n",
              "      box-shadow: 0px 1px 2px rgba(60, 64, 67, 0.3), 0px 1px 3px 1px rgba(60, 64, 67, 0.15);\n",
              "      fill: #174EA6;\n",
              "    }\n",
              "\n",
              "    [theme=dark] .colab-df-convert {\n",
              "      background-color: #3B4455;\n",
              "      fill: #D2E3FC;\n",
              "    }\n",
              "\n",
              "    [theme=dark] .colab-df-convert:hover {\n",
              "      background-color: #434B5C;\n",
              "      box-shadow: 0px 1px 3px 1px rgba(0, 0, 0, 0.15);\n",
              "      filter: drop-shadow(0px 1px 2px rgba(0, 0, 0, 0.3));\n",
              "      fill: #FFFFFF;\n",
              "    }\n",
              "  </style>\n",
              "\n",
              "      <script>\n",
              "        const buttonEl =\n",
              "          document.querySelector('#df-f12c0bd7-e9fb-48a9-a372-189af2893f0e button.colab-df-convert');\n",
              "        buttonEl.style.display =\n",
              "          google.colab.kernel.accessAllowed ? 'block' : 'none';\n",
              "\n",
              "        async function convertToInteractive(key) {\n",
              "          const element = document.querySelector('#df-f12c0bd7-e9fb-48a9-a372-189af2893f0e');\n",
              "          const dataTable =\n",
              "            await google.colab.kernel.invokeFunction('convertToInteractive',\n",
              "                                                     [key], {});\n",
              "          if (!dataTable) return;\n",
              "\n",
              "          const docLinkHtml = 'Like what you see? Visit the ' +\n",
              "            '<a target=\"_blank\" href=https://colab.research.google.com/notebooks/data_table.ipynb>data table notebook</a>'\n",
              "            + ' to learn more about interactive tables.';\n",
              "          element.innerHTML = '';\n",
              "          dataTable['output_type'] = 'display_data';\n",
              "          await google.colab.output.renderOutput(dataTable, element);\n",
              "          const docLink = document.createElement('div');\n",
              "          docLink.innerHTML = docLinkHtml;\n",
              "          element.appendChild(docLink);\n",
              "        }\n",
              "      </script>\n",
              "    </div>\n",
              "  </div>\n",
              "  "
            ]
          },
          "metadata": {},
          "execution_count": 3
        }
      ]
    },
    {
      "cell_type": "markdown",
      "source": [
        "## Describing Shape of Data"
      ],
      "metadata": {
        "id": "95F5Lzd4wnNh"
      }
    },
    {
      "cell_type": "code",
      "source": [
        "rows=data.shape[0]\n",
        "print(\"Number of Rows in the Dataset are:\",rows)"
      ],
      "metadata": {
        "colab": {
          "base_uri": "https://localhost:8080/"
        },
        "id": "gRSnVChcwn8Y",
        "outputId": "d3aade6c-debb-4eb3-a355-23aff8272212"
      },
      "execution_count": null,
      "outputs": [
        {
          "output_type": "stream",
          "name": "stdout",
          "text": [
            "Number of Rows in the Dataset are: 1000\n"
          ]
        }
      ]
    },
    {
      "cell_type": "code",
      "source": [
        "columns=data.shape[1]\n",
        "print(\"Number of Columns in the Dataset are:\",columns)"
      ],
      "metadata": {
        "colab": {
          "base_uri": "https://localhost:8080/"
        },
        "id": "az2Cqf6AwshP",
        "outputId": "6103d3fd-05ad-4366-ae65-ee55fe0c8634"
      },
      "execution_count": null,
      "outputs": [
        {
          "output_type": "stream",
          "name": "stdout",
          "text": [
            "Number of Columns in the Dataset are: 26\n"
          ]
        }
      ]
    },
    {
      "cell_type": "markdown",
      "source": [
        "## Describing the Columns"
      ],
      "metadata": {
        "id": "G963J5gvwvD3"
      }
    },
    {
      "cell_type": "code",
      "source": [
        "data.info()"
      ],
      "metadata": {
        "colab": {
          "base_uri": "https://localhost:8080/"
        },
        "id": "Fcy01GO7wxRT",
        "outputId": "d5450eca-950f-40be-e3ad-2d3cfa416c2b"
      },
      "execution_count": null,
      "outputs": [
        {
          "output_type": "stream",
          "name": "stdout",
          "text": [
            "<class 'pandas.core.frame.DataFrame'>\n",
            "RangeIndex: 1000 entries, 0 to 999\n",
            "Data columns (total 26 columns):\n",
            " #   Column                    Non-Null Count  Dtype \n",
            "---  ------                    --------------  ----- \n",
            " 0   index                     1000 non-null   int64 \n",
            " 1   Patient Id                1000 non-null   object\n",
            " 2   Age                       1000 non-null   int64 \n",
            " 3   Gender                    1000 non-null   int64 \n",
            " 4   Air Pollution             1000 non-null   int64 \n",
            " 5   Alcohol use               1000 non-null   int64 \n",
            " 6   Dust Allergy              1000 non-null   int64 \n",
            " 7   OccuPational Hazards      1000 non-null   int64 \n",
            " 8   Genetic Risk              1000 non-null   int64 \n",
            " 9   chronic Lung Disease      1000 non-null   int64 \n",
            " 10  Balanced Diet             1000 non-null   int64 \n",
            " 11  Obesity                   1000 non-null   int64 \n",
            " 12  Smoking                   1000 non-null   int64 \n",
            " 13  Passive Smoker            1000 non-null   int64 \n",
            " 14  Chest Pain                1000 non-null   int64 \n",
            " 15  Coughing of Blood         1000 non-null   int64 \n",
            " 16  Fatigue                   1000 non-null   int64 \n",
            " 17  Weight Loss               1000 non-null   int64 \n",
            " 18  Shortness of Breath       1000 non-null   int64 \n",
            " 19  Wheezing                  1000 non-null   int64 \n",
            " 20  Swallowing Difficulty     1000 non-null   int64 \n",
            " 21  Clubbing of Finger Nails  1000 non-null   int64 \n",
            " 22  Frequent Cold             1000 non-null   int64 \n",
            " 23  Dry Cough                 1000 non-null   int64 \n",
            " 24  Snoring                   1000 non-null   int64 \n",
            " 25  Level                     1000 non-null   object\n",
            "dtypes: int64(24), object(2)\n",
            "memory usage: 203.2+ KB\n"
          ]
        }
      ]
    },
    {
      "cell_type": "code",
      "source": [
        "X= data.iloc[:,2:-1]\n",
        "y = data.iloc[:,-1]\n",
        "train_x, test_x, train_y, test_y = train_test_split(X, y, test_size=0.3,random_state=10)"
      ],
      "metadata": {
        "id": "uMzxPcr10PwA"
      },
      "execution_count": null,
      "outputs": []
    },
    {
      "cell_type": "markdown",
      "source": [
        "## Label Distribution and EDA"
      ],
      "metadata": {
        "id": "PHzvGbFC1GqA"
      }
    },
    {
      "cell_type": "code",
      "source": [
        "l = train_y.unique()\n",
        "cts = [train_y.tolist().count(i) for i in l] \n",
        "plt.pie(cts, labels = l)\n",
        "plt.show()"
      ],
      "metadata": {
        "colab": {
          "base_uri": "https://localhost:8080/",
          "height": 406
        },
        "id": "eFzOMDc30n8h",
        "outputId": "f8c990d6-2bb4-4467-bc08-e4d637131784"
      },
      "execution_count": null,
      "outputs": [
        {
          "output_type": "display_data",
          "data": {
            "text/plain": [
              "<Figure size 640x480 with 1 Axes>"
            ],
            "image/png": "[encoded data removed]"
          },
          "metadata": {}
        }
      ]
    },
    {
      "cell_type": "markdown",
      "source": [
        "Here, the data is almost equally distriuted, This is good for using classification models."
      ],
      "metadata": {
        "id": "nIUZsiJ27gPS"
      }
    },
    {
      "cell_type": "code",
      "source": [
        "data['Age'].hist(bins=20)\n",
        "plt.title('Distribution of Patient Ages')\n",
        "plt.xlabel('Age')\n",
        "plt.ylabel('Count')\n",
        "plt.show()"
      ],
      "metadata": {
        "colab": {
          "base_uri": "https://localhost:8080/",
          "height": 472
        },
        "id": "lxfpDEp1w9B7",
        "outputId": "2020c999-a573-4221-dfaf-0df13246e3a2"
      },
      "execution_count": null,
      "outputs": [
        {
          "output_type": "display_data",
          "data": {
            "text/plain": [
              "<Figure size 640x480 with 1 Axes>"
            ],
            "image/png": "[encoded data removed]"
          },
          "metadata": {}
        }
      ]
    },
    {
      "cell_type": "code",
      "source": [
        "from sklearn.preprocessing import StandardScaler\n",
        "from sklearn.decomposition import PCA\n",
        "\n",
        "sc = StandardScaler()\n",
        "  \n",
        "train_x_scaled = sc.fit_transform(train_x)\n"
      ],
      "metadata": {
        "id": "eT5luvaW3UNK"
      },
      "execution_count": null,
      "outputs": []
    },
    {
      "cell_type": "code",
      "source": [
        "pca = PCA(n_components = 2)\n",
        "  \n",
        "train_x_reduced = pca.fit_transform(train_x_scaled)"
      ],
      "metadata": {
        "id": "bn4gLHRh4vJN"
      },
      "execution_count": null,
      "outputs": []
    },
    {
      "cell_type": "code",
      "source": [
        "plt.scatter(train_x_reduced[:,0], train_x_reduced[:,1])"
      ],
      "metadata": {
        "colab": {
          "base_uri": "https://localhost:8080/",
          "height": 447
        },
        "id": "KGw19gv14-Oj",
        "outputId": "030d44a5-18de-4395-e6ba-2e9208e4639b"
      },
      "execution_count": null,
      "outputs": [
        {
          "output_type": "execute_result",
          "data": {
            "text/plain": [
              "<matplotlib.collections.PathCollection at 0x7fc36e64a7a0>"
            ]
          },
          "metadata": {},
          "execution_count": 12
        },
        {
          "output_type": "display_data",
          "data": {
            "text/plain": [
              "<Figure size 640x480 with 1 Axes>"
            ],
            "image/png": "[encoded data removed]"
          },
          "metadata": {}
        }
      ]
    },
    {
      "cell_type": "markdown",
      "source": [
        "After PCA, we see that the patients are clearly divided into groups.\n",
        "Let su color the patients and checkout the distriution "
      ],
      "metadata": {
        "id": "gGOzbjKm5cKj"
      }
    },
    {
      "cell_type": "code",
      "source": [
        "plt.scatter(train_x_reduced[train_y== 'Low',0], train_x_reduced[train_y== 'Low',1])\n",
        "plt.scatter(train_x_reduced[train_y== 'Medium',0], train_x_reduced[train_y== 'Medium',1])\n",
        "plt.scatter(train_x_reduced[train_y== 'High',0], train_x_reduced[train_y== 'High',1])\n",
        "plt.legend(['Low', 'Medium', 'High'])\n",
        "plt.show()"
      ],
      "metadata": {
        "colab": {
          "base_uri": "https://localhost:8080/",
          "height": 430
        },
        "id": "nu079N9m5QMf",
        "outputId": "ec60c294-279a-4610-d9dd-35fbefbd0133"
      },
      "execution_count": null,
      "outputs": [
        {
          "output_type": "display_data",
          "data": {
            "text/plain": [
              "<Figure size 640x480 with 1 Axes>"
            ],
            "image/png": "[encoded data removed]"
          },
          "metadata": {}
        }
      ]
    },
    {
      "cell_type": "markdown",
      "source": [
        "Here, we can see how the patients are distriuted and also notice the decision boundary. Some medium and low risk patients are very near. However this could happen after using PCA which results in loss of information and hopefully we can achieve to set a good boundary after apply ML models on more than 2D level  "
      ],
      "metadata": {
        "id": "M4pBvKGQ619f"
      }
    },
    {
      "cell_type": "markdown",
      "source": [
        "## Preprocessing"
      ],
      "metadata": {
        "id": "MTbaGkY1lqdb"
      }
    },
    {
      "cell_type": "code",
      "source": [
        "train_x.head()"
      ],
      "metadata": {
        "id": "sXTRJgaQ8N7H",
        "colab": {
          "base_uri": "https://localhost:8080/",
          "height": 351
        },
        "outputId": "d47c3842-9f34-4a6b-e905-5108d24cbf5b"
      },
      "execution_count": null,
      "outputs": [
        {
          "output_type": "execute_result",
          "data": {
            "text/plain": [
              "     Age  Gender  Air Pollution  Alcohol use  Dust Allergy  \\\n",
              "742   23       1              3            2             4   \n",
              "676   48       1              6            7             7   \n",
              "571   17       1              3            1             5   \n",
              "99    29       2              4            5             6   \n",
              "78    46       2              1            6             7   \n",
              "\n",
              "     OccuPational Hazards  Genetic Risk  chronic Lung Disease  Balanced Diet  \\\n",
              "742                     2             3                     2              3   \n",
              "676                     7             7                     6              7   \n",
              "571                     3             4                     2              2   \n",
              "99                      5             5                     4              6   \n",
              "78                      5             3                     2              6   \n",
              "\n",
              "     Obesity  ...  Coughing of Blood  Fatigue  Weight Loss  \\\n",
              "742        3  ...                  3        4            5   \n",
              "676        7  ...                  7        5            3   \n",
              "571        2  ...                  3        1            3   \n",
              "99         7  ...                  8        8            7   \n",
              "78         2  ...                  2        3            3   \n",
              "\n",
              "     Shortness of Breath  Wheezing  Swallowing Difficulty  \\\n",
              "742                    6         5                      5   \n",
              "676                    2         7                      8   \n",
              "571                    7         8                      6   \n",
              "99                     9         2                      1   \n",
              "78                     7         7                      4   \n",
              "\n",
              "     Clubbing of Finger Nails  Frequent Cold  Dry Cough  Snoring  \n",
              "742                         4              6          5        4  \n",
              "676                         2              4          5        3  \n",
              "571                         2              1          7        2  \n",
              "99                          4              6          7        2  \n",
              "78                          8              7          7        5  \n",
              "\n",
              "[5 rows x 23 columns]"
            ],
            "text/html": [
              "\n",
              "  <div id=\"df-541052b8-8320-430b-a04a-cb47162d9190\">\n",
              "    <div class=\"colab-df-container\">\n",
              "      <div>\n",
              "<style scoped>\n",
              "    .dataframe tbody tr th:only-of-type {\n",
              "        vertical-align: middle;\n",
              "    }\n",
              "\n",
              "    .dataframe tbody tr th {\n",
              "        vertical-align: top;\n",
              "    }\n",
              "\n",
              "    .dataframe thead th {\n",
              "        text-align: right;\n",
              "    }\n",
              "</style>\n",
              "<table border=\"1\" class=\"dataframe\">\n",
              "  <thead>\n",
              "    <tr style=\"text-align: right;\">\n",
              "      <th></th>\n",
              "      <th>Age</th>\n",
              "      <th>Gender</th>\n",
              "      <th>Air Pollution</th>\n",
              "      <th>Alcohol use</th>\n",
              "      <th>Dust Allergy</th>\n",
              "      <th>OccuPational Hazards</th>\n",
              "      <th>Genetic Risk</th>\n",
              "      <th>chronic Lung Disease</th>\n",
              "      <th>Balanced Diet</th>\n",
              "      <th>Obesity</th>\n",
              "      <th>...</th>\n",
              "      <th>Coughing of Blood</th>\n",
              "      <th>Fatigue</th>\n",
              "      <th>Weight Loss</th>\n",
              "      <th>Shortness of Breath</th>\n",
              "      <th>Wheezing</th>\n",
              "      <th>Swallowing Difficulty</th>\n",
              "      <th>Clubbing of Finger Nails</th>\n",
              "      <th>Frequent Cold</th>\n",
              "      <th>Dry Cough</th>\n",
              "      <th>Snoring</th>\n",
              "    </tr>\n",
              "  </thead>\n",
              "  <tbody>\n",
              "    <tr>\n",
              "      <th>742</th>\n",
              "      <td>23</td>\n",
              "      <td>1</td>\n",
              "      <td>3</td>\n",
              "      <td>2</td>\n",
              "      <td>4</td>\n",
              "      <td>2</td>\n",
              "      <td>3</td>\n",
              "      <td>2</td>\n",
              "      <td>3</td>\n",
              "      <td>3</td>\n",
              "      <td>...</td>\n",
              "      <td>3</td>\n",
              "      <td>4</td>\n",
              "      <td>5</td>\n",
              "      <td>6</td>\n",
              "      <td>5</td>\n",
              "      <td>5</td>\n",
              "      <td>4</td>\n",
              "      <td>6</td>\n",
              "      <td>5</td>\n",
              "      <td>4</td>\n",
              "    </tr>\n",
              "    <tr>\n",
              "      <th>676</th>\n",
              "      <td>48</td>\n",
              "      <td>1</td>\n",
              "      <td>6</td>\n",
              "      <td>7</td>\n",
              "      <td>7</td>\n",
              "      <td>7</td>\n",
              "      <td>7</td>\n",
              "      <td>6</td>\n",
              "      <td>7</td>\n",
              "      <td>7</td>\n",
              "      <td>...</td>\n",
              "      <td>7</td>\n",
              "      <td>5</td>\n",
              "      <td>3</td>\n",
              "      <td>2</td>\n",
              "      <td>7</td>\n",
              "      <td>8</td>\n",
              "      <td>2</td>\n",
              "      <td>4</td>\n",
              "      <td>5</td>\n",
              "      <td>3</td>\n",
              "    </tr>\n",
              "    <tr>\n",
              "      <th>571</th>\n",
              "      <td>17</td>\n",
              "      <td>1</td>\n",
              "      <td>3</td>\n",
              "      <td>1</td>\n",
              "      <td>5</td>\n",
              "      <td>3</td>\n",
              "      <td>4</td>\n",
              "      <td>2</td>\n",
              "      <td>2</td>\n",
              "      <td>2</td>\n",
              "      <td>...</td>\n",
              "      <td>3</td>\n",
              "      <td>1</td>\n",
              "      <td>3</td>\n",
              "      <td>7</td>\n",
              "      <td>8</td>\n",
              "      <td>6</td>\n",
              "      <td>2</td>\n",
              "      <td>1</td>\n",
              "      <td>7</td>\n",
              "      <td>2</td>\n",
              "    </tr>\n",
              "    <tr>\n",
              "      <th>99</th>\n",
              "      <td>29</td>\n",
              "      <td>2</td>\n",
              "      <td>4</td>\n",
              "      <td>5</td>\n",
              "      <td>6</td>\n",
              "      <td>5</td>\n",
              "      <td>5</td>\n",
              "      <td>4</td>\n",
              "      <td>6</td>\n",
              "      <td>7</td>\n",
              "      <td>...</td>\n",
              "      <td>8</td>\n",
              "      <td>8</td>\n",
              "      <td>7</td>\n",
              "      <td>9</td>\n",
              "      <td>2</td>\n",
              "      <td>1</td>\n",
              "      <td>4</td>\n",
              "      <td>6</td>\n",
              "      <td>7</td>\n",
              "      <td>2</td>\n",
              "    </tr>\n",
              "    <tr>\n",
              "      <th>78</th>\n",
              "      <td>46</td>\n",
              "      <td>2</td>\n",
              "      <td>1</td>\n",
              "      <td>6</td>\n",
              "      <td>7</td>\n",
              "      <td>5</td>\n",
              "      <td>3</td>\n",
              "      <td>2</td>\n",
              "      <td>6</td>\n",
              "      <td>2</td>\n",
              "      <td>...</td>\n",
              "      <td>2</td>\n",
              "      <td>3</td>\n",
              "      <td>3</td>\n",
              "      <td>7</td>\n",
              "      <td>7</td>\n",
              "      <td>4</td>\n",
              "      <td>8</td>\n",
              "      <td>7</td>\n",
              "      <td>7</td>\n",
              "      <td>5</td>\n",
              "    </tr>\n",
              "  </tbody>\n",
              "</table>\n",
              "<p>5 rows × 23 columns</p>\n",
              "</div>\n",
              "      <button class=\"colab-df-convert\" onclick=\"convertToInteractive('df-541052b8-8320-430b-a04a-cb47162d9190')\"\n",
              "              title=\"Convert this dataframe to an interactive table.\"\n",
              "              style=\"display:none;\">\n",
              "        \n",
              "  <svg xmlns=\"http://www.w3.org/2000/svg\" height=\"24px\"viewBox=\"0 0 24 24\"\n",
              "       width=\"24px\">\n",
              "    <path d=\"M0 0h24v24H0V0z\" fill=\"none\"/>\n",
              "    <path d=\"M18.56 5.44l.94 2.06.94-2.06 2.06-.94-2.06-.94-.94-2.06-.94 2.06-2.06.94zm-11 1L8.5 8.5l.94-2.06 2.06-.94-2.06-.94L8.5 2.5l-.94 2.06-2.06.94zm10 10l.94 2.06.94-2.06 2.06-.94-2.06-.94-.94-2.06-.94 2.06-2.06.94z\"/><path d=\"M17.41 7.96l-1.37-1.37c-.4-.4-.92-.59-1.43-.59-.52 0-1.04.2-1.43.59L10.3 9.45l-7.72 7.72c-.78.78-.78 2.05 0 2.83L4 21.41c.39.39.9.59 1.41.59.51 0 1.02-.2 1.41-.59l7.78-7.78 2.81-2.81c.8-.78.8-2.07 0-2.86zM5.41 20L4 18.59l7.72-7.72 1.47 1.35L5.41 20z\"/>\n",
              "  </svg>\n",
              "      </button>\n",
              "      \n",
              "  <style>\n",
              "    .colab-df-container {\n",
              "      display:flex;\n",
              "      flex-wrap:wrap;\n",
              "      gap: 12px;\n",
              "    }\n",
              "\n",
              "    .colab-df-convert {\n",
              "      background-color: #E8F0FE;\n",
              "      border: none;\n",
              "      border-radius: 50%;\n",
              "      cursor: pointer;\n",
              "      display: none;\n",
              "      fill: #1967D2;\n",
              "      height: 32px;\n",
              "      padding: 0 0 0 0;\n",
              "      width: 32px;\n",
              "    }\n",
              "\n",
              "    .colab-df-convert:hover {\n",
              "      background-color: #E2EBFA;\n",
              "      box-shadow: 0px 1px 2px rgba(60, 64, 67, 0.3), 0px 1px 3px 1px rgba(60, 64, 67, 0.15);\n",
              "      fill: #174EA6;\n",
              "    }\n",
              "\n",
              "    [theme=dark] .colab-df-convert {\n",
              "      background-color: #3B4455;\n",
              "      fill: #D2E3FC;\n",
              "    }\n",
              "\n",
              "    [theme=dark] .colab-df-convert:hover {\n",
              "      background-color: #434B5C;\n",
              "      box-shadow: 0px 1px 3px 1px rgba(0, 0, 0, 0.15);\n",
              "      filter: drop-shadow(0px 1px 2px rgba(0, 0, 0, 0.3));\n",
              "      fill: #FFFFFF;\n",
              "    }\n",
              "  </style>\n",
              "\n",
              "      <script>\n",
              "        const buttonEl =\n",
              "          document.querySelector('#df-541052b8-8320-430b-a04a-cb47162d9190 button.colab-df-convert');\n",
              "        buttonEl.style.display =\n",
              "          google.colab.kernel.accessAllowed ? 'block' : 'none';\n",
              "\n",
              "        async function convertToInteractive(key) {\n",
              "          const element = document.querySelector('#df-541052b8-8320-430b-a04a-cb47162d9190');\n",
              "          const dataTable =\n",
              "            await google.colab.kernel.invokeFunction('convertToInteractive',\n",
              "                                                     [key], {});\n",
              "          if (!dataTable) return;\n",
              "\n",
              "          const docLinkHtml = 'Like what you see? Visit the ' +\n",
              "            '<a target=\"_blank\" href=https://colab.research.google.com/notebooks/data_table.ipynb>data table notebook</a>'\n",
              "            + ' to learn more about interactive tables.';\n",
              "          element.innerHTML = '';\n",
              "          dataTable['output_type'] = 'display_data';\n",
              "          await google.colab.output.renderOutput(dataTable, element);\n",
              "          const docLink = document.createElement('div');\n",
              "          docLink.innerHTML = docLinkHtml;\n",
              "          element.appendChild(docLink);\n",
              "        }\n",
              "      </script>\n",
              "    </div>\n",
              "  </div>\n",
              "  "
            ]
          },
          "metadata": {},
          "execution_count": 14
        }
      ]
    },
    {
      "cell_type": "code",
      "source": [
        "#save the scalers for prediction purposes\n",
        "scalers = {}\n",
        "train_x_normalized = pd.DataFrame()"
      ],
      "metadata": {
        "id": "cnrpaJ38lvTq"
      },
      "execution_count": null,
      "outputs": []
    },
    {
      "cell_type": "code",
      "source": [
        "from sklearn.preprocessing import MinMaxScaler\n",
        "data_normalizer = MinMaxScaler().fit(train_x)\n",
        "train_x_normalized = data_normalizer.transform(train_x)\n",
        "test_x_norm = data_normalizer.transform(test_x)"
      ],
      "metadata": {
        "id": "dzM5yEz1nDdq"
      },
      "execution_count": null,
      "outputs": []
    },
    {
      "cell_type": "code",
      "source": [
        "train_x_normalized"
      ],
      "metadata": {
        "colab": {
          "base_uri": "https://localhost:8080/"
        },
        "id": "lc6KjVT2pjfA",
        "outputId": "0c5739af-ae9a-4b71-ca9e-185d9f0ac33c"
      },
      "execution_count": null,
      "outputs": [
        {
          "output_type": "execute_result",
          "data": {
            "text/plain": [
              "array([[0.15254237, 0.        , 0.28571429, ..., 0.83333333, 0.66666667,\n",
              "        0.5       ],\n",
              "       [0.57627119, 0.        , 0.71428571, ..., 0.5       , 0.66666667,\n",
              "        0.33333333],\n",
              "       [0.05084746, 0.        , 0.28571429, ..., 0.        , 1.        ,\n",
              "        0.16666667],\n",
              "       ...,\n",
              "       [0.38983051, 1.        , 0.71428571, ..., 0.33333333, 0.        ,\n",
              "        0.5       ],\n",
              "       [0.22033898, 1.        , 0.28571429, ..., 0.16666667, 0.83333333,\n",
              "        0.16666667],\n",
              "       [0.05084746, 1.        , 0.        , ..., 0.16666667, 0.        ,\n",
              "        0.        ]])"
            ]
          },
          "metadata": {},
          "execution_count": 17
        }
      ]
    },
    {
      "cell_type": "markdown",
      "source": [
        "The y label should be vectorized. As there are 3 classes here, one hot encoding would be the perfect vectorizer to use"
      ],
      "metadata": {
        "id": "v2i5ubJqqmic"
      }
    },
    {
      "cell_type": "code",
      "source": [
        "train_y .head()"
      ],
      "metadata": {
        "colab": {
          "base_uri": "https://localhost:8080/"
        },
        "id": "cbPJDyx3qc8U",
        "outputId": "46cd883c-98fd-4c53-f8b1-0eb5f5089cd4"
      },
      "execution_count": null,
      "outputs": [
        {
          "output_type": "execute_result",
          "data": {
            "text/plain": [
              "742    Medium\n",
              "676      High\n",
              "571    Medium\n",
              "99       High\n",
              "78     Medium\n",
              "Name: Level, dtype: object"
            ]
          },
          "metadata": {},
          "execution_count": 18
        }
      ]
    },
    {
      "cell_type": "code",
      "source": [
        "from sklearn.preprocessing import OneHotEncoder"
      ],
      "metadata": {
        "id": "wQSo4CNQrCgn"
      },
      "execution_count": null,
      "outputs": []
    },
    {
      "cell_type": "code",
      "source": [
        "y_vectorizer = OneHotEncoder().fit(train_y.to_numpy().reshape(-1,1))"
      ],
      "metadata": {
        "id": "OIZlnjA2rpQL"
      },
      "execution_count": null,
      "outputs": []
    },
    {
      "cell_type": "code",
      "source": [
        "y_vectorizer"
      ],
      "metadata": {
        "colab": {
          "base_uri": "https://localhost:8080/",
          "height": 74
        },
        "id": "LCC2RuQlsOIq",
        "outputId": "7c1bd574-e5f2-4665-ba6f-83370250495c"
      },
      "execution_count": null,
      "outputs": [
        {
          "output_type": "execute_result",
          "data": {
            "text/plain": [
              "OneHotEncoder()"
            ],
            "text/html": [
              "<style>#sk-container-id-1 {color: black;background-color: white;}#sk-container-id-1 pre{padding: 0;}#sk-container-id-1 div.sk-toggleable {background-color: white;}#sk-container-id-1 label.sk-toggleable__label {cursor: pointer;display: block;width: 100%;margin-bottom: 0;padding: 0.3em;box-sizing: border-box;text-align: center;}#sk-container-id-1 label.sk-toggleable__label-arrow:before {content: \"▸\";float: left;margin-right: 0.25em;color: #696969;}#sk-container-id-1 label.sk-toggleable__label-arrow:hover:before {color: black;}#sk-container-id-1 div.sk-estimator:hover label.sk-toggleable__label-arrow:before {color: black;}#sk-container-id-1 div.sk-toggleable__content {max-height: 0;max-width: 0;overflow: hidden;text-align: left;background-color: #f0f8ff;}#sk-container-id-1 div.sk-toggleable__content pre {margin: 0.2em;color: black;border-radius: 0.25em;background-color: #f0f8ff;}#sk-container-id-1 input.sk-toggleable__control:checked~div.sk-toggleable__content {max-height: 200px;max-width: 100%;overflow: auto;}#sk-container-id-1 input.sk-toggleable__control:checked~label.sk-toggleable__label-arrow:before {content: \"▾\";}#sk-container-id-1 div.sk-estimator input.sk-toggleable__control:checked~label.sk-toggleable__label {background-color: #d4ebff;}#sk-container-id-1 div.sk-label input.sk-toggleable__control:checked~label.sk-toggleable__label {background-color: #d4ebff;}#sk-container-id-1 input.sk-hidden--visually {border: 0;clip: rect(1px 1px 1px 1px);clip: rect(1px, 1px, 1px, 1px);height: 1px;margin: -1px;overflow: hidden;padding: 0;position: absolute;width: 1px;}#sk-container-id-1 div.sk-estimator {font-family: monospace;background-color: #f0f8ff;border: 1px dotted black;border-radius: 0.25em;box-sizing: border-box;margin-bottom: 0.5em;}#sk-container-id-1 div.sk-estimator:hover {background-color: #d4ebff;}#sk-container-id-1 div.sk-parallel-item::after {content: \"\";width: 100%;border-bottom: 1px solid gray;flex-grow: 1;}#sk-container-id-1 div.sk-label:hover label.sk-toggleable__label {background-color: #d4ebff;}#sk-container-id-1 div.sk-serial::before {content: \"\";position: absolute;border-left: 1px solid gray;box-sizing: border-box;top: 0;bottom: 0;left: 50%;z-index: 0;}#sk-container-id-1 div.sk-serial {display: flex;flex-direction: column;align-items: center;background-color: white;padding-right: 0.2em;padding-left: 0.2em;position: relative;}#sk-container-id-1 div.sk-item {position: relative;z-index: 1;}#sk-container-id-1 div.sk-parallel {display: flex;align-items: stretch;justify-content: center;background-color: white;position: relative;}#sk-container-id-1 div.sk-item::before, #sk-container-id-1 div.sk-parallel-item::before {content: \"\";position: absolute;border-left: 1px solid gray;box-sizing: border-box;top: 0;bottom: 0;left: 50%;z-index: -1;}#sk-container-id-1 div.sk-parallel-item {display: flex;flex-direction: column;z-index: 1;position: relative;background-color: white;}#sk-container-id-1 div.sk-parallel-item:first-child::after {align-self: flex-end;width: 50%;}#sk-container-id-1 div.sk-parallel-item:last-child::after {align-self: flex-start;width: 50%;}#sk-container-id-1 div.sk-parallel-item:only-child::after {width: 0;}#sk-container-id-1 div.sk-dashed-wrapped {border: 1px dashed gray;margin: 0 0.4em 0.5em 0.4em;box-sizing: border-box;padding-bottom: 0.4em;background-color: white;}#sk-container-id-1 div.sk-label label {font-family: monospace;font-weight: bold;display: inline-block;line-height: 1.2em;}#sk-container-id-1 div.sk-label-container {text-align: center;}#sk-container-id-1 div.sk-container {/* jupyter's `normalize.less` sets `[hidden] { display: none; }` but bootstrap.min.css set `[hidden] { display: none !important; }` so we also need the `!important` here to be able to override the default hidden behavior on the sphinx rendered scikit-learn.org. See: https://github.com/scikit-learn/scikit-learn/issues/21755 */display: inline-block !important;position: relative;}#sk-container-id-1 div.sk-text-repr-fallback {display: none;}</style><div id=\"sk-container-id-1\" class=\"sk-top-container\"><div class=\"sk-text-repr-fallback\"><pre>OneHotEncoder()</pre><b>In a Jupyter environment, please rerun this cell to show the HTML representation or trust the notebook. <br />On GitHub, the HTML representation is unable to render, please try loading this page with nbviewer.org.</b></div><div class=\"sk-container\" hidden><div class=\"sk-item\"><div class=\"sk-estimator sk-toggleable\"><input class=\"sk-toggleable__control sk-hidden--visually\" id=\"sk-estimator-id-1\" type=\"checkbox\" checked><label for=\"sk-estimator-id-1\" class=\"sk-toggleable__label sk-toggleable__label-arrow\">OneHotEncoder</label><div class=\"sk-toggleable__content\"><pre>OneHotEncoder()</pre></div></div></div></div></div>"
            ]
          },
          "metadata": {},
          "execution_count": 21
        }
      ]
    },
    {
      "cell_type": "code",
      "source": [
        "y_vectorized = y_vectorizer.transform(train_y.to_numpy().reshape(-1,1))\n",
        "y_test_vect = y_vectorizer.transform(test_y.to_numpy().reshape(-1,1))"
      ],
      "metadata": {
        "id": "1hlUYQ5OsruM"
      },
      "execution_count": null,
      "outputs": []
    },
    {
      "cell_type": "code",
      "source": [
        "y_vectorizer.get_feature_names_out()"
      ],
      "metadata": {
        "colab": {
          "base_uri": "https://localhost:8080/"
        },
        "id": "En87aHRas8Uc",
        "outputId": "e4edb897-0048-4f4b-e1a4-bd765024e02d"
      },
      "execution_count": null,
      "outputs": [
        {
          "output_type": "execute_result",
          "data": {
            "text/plain": [
              "array(['x0_High', 'x0_Low', 'x0_Medium'], dtype=object)"
            ]
          },
          "metadata": {},
          "execution_count": 23
        }
      ]
    },
    {
      "cell_type": "code",
      "source": [
        "y_vectorized = y_vectorized.todense()\n",
        "y_test_vect = y_test_vect.todense()"
      ],
      "metadata": {
        "id": "uHmnObTss-Oo"
      },
      "execution_count": null,
      "outputs": []
    },
    {
      "cell_type": "code",
      "source": [
        "type(y_vectorized)"
      ],
      "metadata": {
        "id": "sb4X1dP8uTg8",
        "colab": {
          "base_uri": "https://localhost:8080/"
        },
        "outputId": "cf61aeed-5f22-4cb0-c05a-1a16e6a59697"
      },
      "execution_count": null,
      "outputs": [
        {
          "output_type": "execute_result",
          "data": {
            "text/plain": [
              "numpy.matrix"
            ]
          },
          "metadata": {},
          "execution_count": 25
        }
      ]
    },
    {
      "cell_type": "code",
      "source": [
        "train_x_normalized, y_vectorized = np.asarray(train_x_normalized), np.asarray(y_vectorized)"
      ],
      "metadata": {
        "id": "iELoGrptkPMS"
      },
      "execution_count": null,
      "outputs": []
    },
    {
      "cell_type": "code",
      "source": [
        "test_x_norm,y_test_vect = np.asarray(test_x_norm), np.asarray(y_test_vect)"
      ],
      "metadata": {
        "id": "DmpqvnOtlHQQ"
      },
      "execution_count": null,
      "outputs": []
    },
    {
      "cell_type": "markdown",
      "source": [
        "## Knn Classifier"
      ],
      "metadata": {
        "id": "t5BGebTvisBq"
      }
    },
    {
      "cell_type": "code",
      "source": [
        "from sklearn.neighbors import KNeighborsClassifier\n",
        "accs = []\n",
        "for n_neighbors in range(1,15):\n",
        "  knn = KNeighborsClassifier(n_neighbors = n_neighbors).fit(train_x_normalized, y_vectorized)\n",
        "  accuracy = knn.score(np.asarray(test_x_norm), np.asarray(y_test_vect))\n",
        "  accs.append(accuracy)"
      ],
      "metadata": {
        "id": "HzXQBPdNRDss"
      },
      "execution_count": null,
      "outputs": []
    },
    {
      "cell_type": "code",
      "source": [
        "plt.plot(range(len(accs)), accs)\n",
        "plt.xlabel(\"K Value\")\n",
        "plt.ylabel(\"Accuracy\")"
      ],
      "metadata": {
        "colab": {
          "base_uri": "https://localhost:8080/",
          "height": 466
        },
        "id": "WUfaEQMHT30H",
        "outputId": "d742aa53-ec9e-4ed7-8977-23e45feb972c"
      },
      "execution_count": null,
      "outputs": [
        {
          "output_type": "execute_result",
          "data": {
            "text/plain": [
              "Text(0, 0.5, 'Accuracy')"
            ]
          },
          "metadata": {},
          "execution_count": 29
        },
        {
          "output_type": "display_data",
          "data": {
            "text/plain": [
              "<Figure size 640x480 with 1 Axes>"
            ],
            "image/png": "[encoded data removed]"
          },
          "metadata": {}
        }
      ]
    },
    {
      "cell_type": "markdown",
      "source": [
        "We can see how accuracy increased until k is 3 and decreased after k is 7. Similar case was oserved with different proportions of testsets with different random states. So taking k as 5 which was the mean in many cases"
      ],
      "metadata": {
        "id": "H8v5zQ4Pg3ga"
      }
    },
    {
      "cell_type": "code",
      "source": [
        "knn = KNeighborsClassifier(n_neighbors = 5).fit(train_x_normalized, y_vectorized)"
      ],
      "metadata": {
        "id": "Sq10kAKDV_aG"
      },
      "execution_count": null,
      "outputs": []
    },
    {
      "cell_type": "code",
      "source": [
        "from sklearn.metrics import confusion_matrix\n",
        "y_pred = knn.predict(np.asarray(test_x_norm))\n",
        "for i in range(3):\n",
        "  print(confusion_matrix( np.asarray(y_test_vect[:,i]), y_pred[:,i]))\n",
        "  disp = metrics.ConfusionMatrixDisplay(confusion_matrix((y_test_vect[:,i]), y_pred[:,i]))\n",
        "  disp.plot()\n",
        "  plt.show()"
      ],
      "metadata": {
        "colab": {
          "base_uri": "https://localhost:8080/",
          "height": 1000
        },
        "id": "sCM8-ZaTi7E7",
        "outputId": "bbba7c7c-dfa5-43f0-9463-b6d7515d3f57"
      },
      "execution_count": null,
      "outputs": [
        {
          "output_type": "stream",
          "name": "stdout",
          "text": [
            "[[197   0]\n",
            " [  0 103]]\n"
          ]
        },
        {
          "output_type": "display_data",
          "data": {
            "text/plain": [
              "<Figure size 640x480 with 2 Axes>"
            ],
            "image/png": "[encoded data removed]"
          },
          "metadata": {}
        },
        {
          "output_type": "stream",
          "name": "stdout",
          "text": [
            "[[213   0]\n",
            " [  0  87]]\n"
          ]
        },
        {
          "output_type": "display_data",
          "data": {
            "text/plain": [
              "<Figure size 640x480 with 2 Axes>"
            ],
            "image/png": "[encoded data removed]"
          },
          "metadata": {}
        },
        {
          "output_type": "stream",
          "name": "stdout",
          "text": [
            "[[190   0]\n",
            " [  0 110]]\n"
          ]
        },
        {
          "output_type": "display_data",
          "data": {
            "text/plain": [
              "<Figure size 640x480 with 2 Axes>"
            ],
            "image/png": "[encoded data removed]"
          },
          "metadata": {}
        }
      ]
    },
    {
      "cell_type": "code",
      "source": [
        "print(classification_report(y_test_vect, y_pred, target_names=['x0_High', 'x0_Low', 'x0_Medium']))"
      ],
      "metadata": {
        "colab": {
          "base_uri": "https://localhost:8080/"
        },
        "id": "kiwoGBDWsuet",
        "outputId": "a80abe06-e2e3-4101-b6b1-2d56088cfe99"
      },
      "execution_count": null,
      "outputs": [
        {
          "output_type": "stream",
          "name": "stdout",
          "text": [
            "              precision    recall  f1-score   support\n",
            "\n",
            "     x0_High       1.00      1.00      1.00       103\n",
            "      x0_Low       1.00      1.00      1.00        87\n",
            "   x0_Medium       1.00      1.00      1.00       110\n",
            "\n",
            "   micro avg       1.00      1.00      1.00       300\n",
            "   macro avg       1.00      1.00      1.00       300\n",
            "weighted avg       1.00      1.00      1.00       300\n",
            " samples avg       1.00      1.00      1.00       300\n",
            "\n"
          ]
        }
      ]
    },
    {
      "cell_type": "markdown",
      "source": [
        "## Decision tree"
      ],
      "metadata": {
        "id": "U3vsIY0ejxYW"
      }
    },
    {
      "cell_type": "code",
      "source": [
        "from sklearn.tree import DecisionTreeClassifier\n",
        "tree_model = DecisionTreeClassifier(max_depth=3).fit(train_x_normalized, y_vectorized)\n",
        "y_pred = tree_model.predict(test_x_norm)"
      ],
      "metadata": {
        "id": "KClZLrVUjzZa"
      },
      "execution_count": null,
      "outputs": []
    },
    {
      "cell_type": "code",
      "source": [
        "for i in range(3):\n",
        "  print(confusion_matrix(y_test_vect[:,i], y_pred[:,i]))\n",
        "  disp = metrics.ConfusionMatrixDisplay(confusion_matrix(y_test_vect[:,i], y_pred[:,i]))\n",
        "  disp.plot()\n",
        "  plt.show()"
      ],
      "metadata": {
        "colab": {
          "base_uri": "https://localhost:8080/",
          "height": 1000
        },
        "id": "Y8O2XzjhkICD",
        "outputId": "01ee3a48-ba36-4433-d8ef-023b817b23fe"
      },
      "execution_count": null,
      "outputs": [
        {
          "output_type": "stream",
          "name": "stdout",
          "text": [
            "[[195   2]\n",
            " [  4  99]]\n"
          ]
        },
        {
          "output_type": "display_data",
          "data": {
            "text/plain": [
              "<Figure size 640x480 with 2 Axes>"
            ],
            "image/png": "[encoded data removed]"
          },
          "metadata": {}
        },
        {
          "output_type": "stream",
          "name": "stdout",
          "text": [
            "[[205   8]\n",
            " [  0  87]]\n"
          ]
        },
        {
          "output_type": "display_data",
          "data": {
            "text/plain": [
              "<Figure size 640x480 with 2 Axes>"
            ],
            "image/png": "[encoded data removed]"
          },
          "metadata": {}
        },
        {
          "output_type": "stream",
          "name": "stdout",
          "text": [
            "[[190   0]\n",
            " [  6 104]]\n"
          ]
        },
        {
          "output_type": "display_data",
          "data": {
            "text/plain": [
              "<Figure size 640x480 with 2 Axes>"
            ],
            "image/png": "[encoded data removed]"
          },
          "metadata": {}
        }
      ]
    },
    {
      "cell_type": "code",
      "source": [
        "from sklearn import tree\n",
        "tree.plot_tree(tree_model, feature_names=data.columns[2:-1],  \n",
        "                   class_names=['x0_High', 'x0_Low', 'x0_Medium'],\n",
        "                   filled=True)"
      ],
      "metadata": {
        "colab": {
          "base_uri": "https://localhost:8080/",
          "height": 597
        },
        "id": "Z1osiiwzlqsx",
        "outputId": "e7c41d1d-0ca4-409e-f9aa-5bac11ddcabe"
      },
      "execution_count": null,
      "outputs": [
        {
          "output_type": "execute_result",
          "data": {
            "text/plain": [
              "[Text(0.5555555555555556, 0.875, 'Coughing of Blood <= 0.562\\ngini = 0.443\\nsamples = 700\\nvalue = [[438, 262]\\n[484, 216]\\n[478, 222]]'),\n",
              " Text(0.3333333333333333, 0.625, 'Wheezing <= 0.5\\ngini = 0.343\\nsamples = 401\\nvalue = [[395, 6]\\n[197, 204]\\n[210, 191]]'),\n",
              " Text(0.2222222222222222, 0.375, 'Snoring <= 0.583\\ngini = 0.224\\nsamples = 257\\nvalue = [[251, 6]\\n[53, 204]\\n[210, 47]]'),\n",
              " Text(0.1111111111111111, 0.125, 'gini = 0.12\\nsamples = 226\\nvalue = [[220, 6]\\n[22, 204]\\n[210, 16]]'),\n",
              " Text(0.3333333333333333, 0.125, 'gini = 0.0\\nsamples = 31\\nvalue = [[31, 0]\\n[31, 0]\\n[0, 31]]'),\n",
              " Text(0.4444444444444444, 0.375, 'gini = 0.0\\nsamples = 144\\nvalue = [[144, 0]\\n[144, 0]\\n[0, 144]]'),\n",
              " Text(0.7777777777777778, 0.625, 'OccuPational Hazards <= 0.929\\ngini = 0.17\\nsamples = 299\\nvalue = [[43, 256]\\n[287, 12]\\n[268, 31]]'),\n",
              " Text(0.6666666666666666, 0.375, 'Obesity <= 0.25\\ngini = 0.091\\nsamples = 276\\nvalue = [[20, 256]\\n[264, 12]\\n[268, 8]]'),\n",
              " Text(0.5555555555555556, 0.125, 'gini = 0.0\\nsamples = 12\\nvalue = [[12, 0]\\n[0, 12]\\n[12, 0]]'),\n",
              " Text(0.7777777777777778, 0.125, 'gini = 0.039\\nsamples = 264\\nvalue = [[8, 256]\\n[264, 0]\\n[256, 8]]'),\n",
              " Text(0.8888888888888888, 0.375, 'gini = 0.0\\nsamples = 23\\nvalue = [[23, 0]\\n[23, 0]\\n[0, 23]]')]"
            ]
          },
          "metadata": {},
          "execution_count": 35
        },
        {
          "output_type": "display_data",
          "data": {
            "text/plain": [
              "<Figure size 640x480 with 1 Axes>"
            ],
            "image/png": "[encoded data removed]"
          },
          "metadata": {}
        }
      ]
    },
    {
      "cell_type": "code",
      "source": [
        "print(classification_report(y_test_vect, y_pred, target_names=['x0_High', 'x0_Low', 'x0_Medium']))"
      ],
      "metadata": {
        "colab": {
          "base_uri": "https://localhost:8080/"
        },
        "id": "Zv1sNqp_tHV-",
        "outputId": "9bdc7e2a-35b7-4711-8c59-e2bea497bdea"
      },
      "execution_count": null,
      "outputs": [
        {
          "output_type": "stream",
          "name": "stdout",
          "text": [
            "              precision    recall  f1-score   support\n",
            "\n",
            "     x0_High       0.98      0.96      0.97       103\n",
            "      x0_Low       0.92      1.00      0.96        87\n",
            "   x0_Medium       1.00      0.95      0.97       110\n",
            "\n",
            "   micro avg       0.97      0.97      0.97       300\n",
            "   macro avg       0.97      0.97      0.97       300\n",
            "weighted avg       0.97      0.97      0.97       300\n",
            " samples avg       0.97      0.97      0.97       300\n",
            "\n"
          ]
        }
      ]
    },
    {
      "cell_type": "markdown",
      "source": [
        "## Logistic Regression"
      ],
      "metadata": {
        "id": "1QyJaj0KipZM"
      }
    },
    {
      "cell_type": "code",
      "source": [
        "from tensorflow.keras.models import Sequential\n",
        "from tensorflow.keras.layers import Dense"
      ],
      "metadata": {
        "id": "ePlgDdX0pN6C"
      },
      "execution_count": null,
      "outputs": []
    },
    {
      "cell_type": "code",
      "source": [
        "def mk_model():\n",
        "  model = Sequential()\n",
        "  model.add(Dense(3,activation = 'sigmoid',input_dim = 23))\n",
        "  model.compile(optimizer='adam', loss='binary_crossentropy', metrics=['accuracy'])\n",
        "  return model"
      ],
      "metadata": {
        "id": "cpxRrZBKieSj"
      },
      "execution_count": null,
      "outputs": []
    },
    {
      "cell_type": "code",
      "source": [
        "model = mk_model()\n",
        "hist = model.fit(train_x_normalized, y_vectorized, epochs=300, validation_data=(test_x_norm, y_test_vect))"
      ],
      "metadata": {
        "colab": {
          "base_uri": "https://localhost:8080/"
        },
        "id": "lnkgjTAJpFy9",
        "outputId": "8351f48a-4a97-4294-da8e-75fd1b8bf3f6"
      },
      "execution_count": null,
      "outputs": [
        {
          "output_type": "stream",
          "name": "stdout",
          "text": [
            "Epoch 1/300\n",
            "22/22 [==============================] - 2s 38ms/step - loss: 0.7398 - accuracy: 0.2414 - val_loss: 0.7197 - val_accuracy: 0.2933\n",
            "Epoch 2/300\n",
            "22/22 [==============================] - 0s 13ms/step - loss: 0.7077 - accuracy: 0.2857 - val_loss: 0.6929 - val_accuracy: 0.3233\n",
            "Epoch 3/300\n",
            "22/22 [==============================] - 0s 14ms/step - loss: 0.6832 - accuracy: 0.3514 - val_loss: 0.6723 - val_accuracy: 0.4100\n",
            "Epoch 4/300\n",
            "22/22 [==============================] - 0s 13ms/step - loss: 0.6648 - accuracy: 0.4114 - val_loss: 0.6558 - val_accuracy: 0.4133\n",
            "Epoch 5/300\n",
            "22/22 [==============================] - 0s 9ms/step - loss: 0.6501 - accuracy: 0.4214 - val_loss: 0.6422 - val_accuracy: 0.4100\n",
            "Epoch 6/300\n",
            "22/22 [==============================] - 0s 20ms/step - loss: 0.6372 - accuracy: 0.4057 - val_loss: 0.6302 - val_accuracy: 0.4100\n",
            "Epoch 7/300\n",
            "22/22 [==============================] - 0s 14ms/step - loss: 0.6264 - accuracy: 0.4229 - val_loss: 0.6197 - val_accuracy: 0.4200\n",
            "Epoch 8/300\n",
            "22/22 [==============================] - 0s 11ms/step - loss: 0.6163 - accuracy: 0.4286 - val_loss: 0.6099 - val_accuracy: 0.4200\n",
            "Epoch 9/300\n",
            "22/22 [==============================] - 0s 10ms/step - loss: 0.6071 - accuracy: 0.4286 - val_loss: 0.6012 - val_accuracy: 0.4200\n",
            "Epoch 10/300\n",
            "22/22 [==============================] - 0s 20ms/step - loss: 0.5983 - accuracy: 0.4286 - val_loss: 0.5926 - val_accuracy: 0.4200\n",
            "Epoch 11/300\n",
            "22/22 [==============================] - 0s 20ms/step - loss: 0.5901 - accuracy: 0.4343 - val_loss: 0.5843 - val_accuracy: 0.4367\n",
            "Epoch 12/300\n",
            "22/22 [==============================] - 0s 17ms/step - loss: 0.5822 - accuracy: 0.4414 - val_loss: 0.5763 - val_accuracy: 0.4500\n",
            "Epoch 13/300\n",
            "22/22 [==============================] - 0s 13ms/step - loss: 0.5743 - accuracy: 0.4400 - val_loss: 0.5691 - val_accuracy: 0.4667\n",
            "Epoch 14/300\n",
            "22/22 [==============================] - 0s 13ms/step - loss: 0.5670 - accuracy: 0.4529 - val_loss: 0.5620 - val_accuracy: 0.4933\n",
            "Epoch 15/300\n",
            "22/22 [==============================] - 0s 17ms/step - loss: 0.5601 - accuracy: 0.4800 - val_loss: 0.5546 - val_accuracy: 0.5133\n",
            "Epoch 16/300\n",
            "22/22 [==============================] - 1s 24ms/step - loss: 0.5530 - accuracy: 0.4929 - val_loss: 0.5481 - val_accuracy: 0.5200\n",
            "Epoch 17/300\n",
            "22/22 [==============================] - 0s 11ms/step - loss: 0.5463 - accuracy: 0.5229 - val_loss: 0.5414 - val_accuracy: 0.5900\n",
            "Epoch 18/300\n",
            "22/22 [==============================] - 0s 20ms/step - loss: 0.5398 - accuracy: 0.5486 - val_loss: 0.5349 - val_accuracy: 0.6100\n",
            "Epoch 19/300\n",
            "22/22 [==============================] - 0s 14ms/step - loss: 0.5333 - accuracy: 0.5629 - val_loss: 0.5287 - val_accuracy: 0.6233\n",
            "Epoch 20/300\n",
            "22/22 [==============================] - 0s 18ms/step - loss: 0.5272 - accuracy: 0.5786 - val_loss: 0.5227 - val_accuracy: 0.6300\n",
            "Epoch 21/300\n",
            "22/22 [==============================] - 0s 22ms/step - loss: 0.5214 - accuracy: 0.5829 - val_loss: 0.5171 - val_accuracy: 0.6433\n",
            "Epoch 22/300\n",
            "22/22 [==============================] - 0s 21ms/step - loss: 0.5155 - accuracy: 0.6129 - val_loss: 0.5112 - val_accuracy: 0.6867\n",
            "Epoch 23/300\n",
            "22/22 [==============================] - 0s 12ms/step - loss: 0.5098 - accuracy: 0.6457 - val_loss: 0.5057 - val_accuracy: 0.7000\n",
            "Epoch 24/300\n",
            "22/22 [==============================] - 0s 15ms/step - loss: 0.5044 - accuracy: 0.6657 - val_loss: 0.5003 - val_accuracy: 0.7200\n",
            "Epoch 25/300\n",
            "22/22 [==============================] - 0s 16ms/step - loss: 0.4989 - accuracy: 0.6700 - val_loss: 0.4951 - val_accuracy: 0.7233\n",
            "Epoch 26/300\n",
            "22/22 [==============================] - 0s 6ms/step - loss: 0.4938 - accuracy: 0.6729 - val_loss: 0.4903 - val_accuracy: 0.7233\n",
            "Epoch 27/300\n",
            "22/22 [==============================] - 0s 10ms/step - loss: 0.4888 - accuracy: 0.6729 - val_loss: 0.4854 - val_accuracy: 0.7233\n",
            "Epoch 28/300\n",
            "22/22 [==============================] - 0s 11ms/step - loss: 0.4839 - accuracy: 0.6743 - val_loss: 0.4805 - val_accuracy: 0.7233\n",
            "Epoch 29/300\n",
            "22/22 [==============================] - 0s 13ms/step - loss: 0.4793 - accuracy: 0.6800 - val_loss: 0.4759 - val_accuracy: 0.7367\n",
            "Epoch 30/300\n",
            "22/22 [==============================] - 0s 9ms/step - loss: 0.4745 - accuracy: 0.6829 - val_loss: 0.4713 - val_accuracy: 0.7367\n",
            "Epoch 31/300\n",
            "22/22 [==============================] - 0s 9ms/step - loss: 0.4700 - accuracy: 0.6829 - val_loss: 0.4670 - val_accuracy: 0.7367\n",
            "Epoch 32/300\n",
            "22/22 [==============================] - 0s 10ms/step - loss: 0.4656 - accuracy: 0.6829 - val_loss: 0.4627 - val_accuracy: 0.7367\n",
            "Epoch 33/300\n",
            "22/22 [==============================] - 0s 5ms/step - loss: 0.4613 - accuracy: 0.6871 - val_loss: 0.4586 - val_accuracy: 0.7733\n",
            "Epoch 34/300\n",
            "22/22 [==============================] - 0s 11ms/step - loss: 0.4572 - accuracy: 0.7329 - val_loss: 0.4547 - val_accuracy: 0.7833\n",
            "Epoch 35/300\n",
            "22/22 [==============================] - 0s 11ms/step - loss: 0.4530 - accuracy: 0.7386 - val_loss: 0.4507 - val_accuracy: 0.7833\n",
            "Epoch 36/300\n",
            "22/22 [==============================] - 0s 4ms/step - loss: 0.4492 - accuracy: 0.7471 - val_loss: 0.4467 - val_accuracy: 0.7900\n",
            "Epoch 37/300\n",
            "22/22 [==============================] - 0s 4ms/step - loss: 0.4451 - accuracy: 0.7614 - val_loss: 0.4430 - val_accuracy: 0.7967\n",
            "Epoch 38/300\n",
            "22/22 [==============================] - 0s 4ms/step - loss: 0.4413 - accuracy: 0.7614 - val_loss: 0.4392 - val_accuracy: 0.7967\n",
            "Epoch 39/300\n",
            "22/22 [==============================] - 0s 4ms/step - loss: 0.4377 - accuracy: 0.7786 - val_loss: 0.4356 - val_accuracy: 0.8033\n",
            "Epoch 40/300\n",
            "22/22 [==============================] - 0s 4ms/step - loss: 0.4340 - accuracy: 0.7871 - val_loss: 0.4321 - val_accuracy: 0.8033\n",
            "Epoch 41/300\n",
            "22/22 [==============================] - 0s 6ms/step - loss: 0.4305 - accuracy: 0.7871 - val_loss: 0.4288 - val_accuracy: 0.8033\n",
            "Epoch 42/300\n",
            "22/22 [==============================] - 0s 4ms/step - loss: 0.4270 - accuracy: 0.7886 - val_loss: 0.4253 - val_accuracy: 0.8100\n",
            "Epoch 43/300\n",
            "22/22 [==============================] - 0s 4ms/step - loss: 0.4235 - accuracy: 0.8057 - val_loss: 0.4221 - val_accuracy: 0.8133\n",
            "Epoch 44/300\n",
            "22/22 [==============================] - 0s 3ms/step - loss: 0.4203 - accuracy: 0.8186 - val_loss: 0.4188 - val_accuracy: 0.8433\n",
            "Epoch 45/300\n",
            "22/22 [==============================] - 0s 4ms/step - loss: 0.4170 - accuracy: 0.8329 - val_loss: 0.4156 - val_accuracy: 0.8500\n",
            "Epoch 46/300\n",
            "22/22 [==============================] - 0s 5ms/step - loss: 0.4138 - accuracy: 0.8371 - val_loss: 0.4125 - val_accuracy: 0.8500\n",
            "Epoch 47/300\n",
            "22/22 [==============================] - 0s 4ms/step - loss: 0.4107 - accuracy: 0.8371 - val_loss: 0.4094 - val_accuracy: 0.8500\n",
            "Epoch 48/300\n",
            "22/22 [==============================] - 0s 3ms/step - loss: 0.4077 - accuracy: 0.8371 - val_loss: 0.4065 - val_accuracy: 0.8500\n",
            "Epoch 49/300\n",
            "22/22 [==============================] - 0s 4ms/step - loss: 0.4046 - accuracy: 0.8400 - val_loss: 0.4035 - val_accuracy: 0.8600\n",
            "Epoch 50/300\n",
            "22/22 [==============================] - 0s 3ms/step - loss: 0.4017 - accuracy: 0.8471 - val_loss: 0.4006 - val_accuracy: 0.8600\n",
            "Epoch 51/300\n",
            "22/22 [==============================] - 0s 5ms/step - loss: 0.3989 - accuracy: 0.8543 - val_loss: 0.3978 - val_accuracy: 0.8600\n",
            "Epoch 52/300\n",
            "22/22 [==============================] - 0s 4ms/step - loss: 0.3960 - accuracy: 0.8557 - val_loss: 0.3950 - val_accuracy: 0.8667\n",
            "Epoch 53/300\n",
            "22/22 [==============================] - 0s 4ms/step - loss: 0.3932 - accuracy: 0.8486 - val_loss: 0.3924 - val_accuracy: 0.8600\n",
            "Epoch 54/300\n",
            "22/22 [==============================] - 0s 4ms/step - loss: 0.3905 - accuracy: 0.8471 - val_loss: 0.3897 - val_accuracy: 0.8600\n",
            "Epoch 55/300\n",
            "22/22 [==============================] - 0s 4ms/step - loss: 0.3879 - accuracy: 0.8571 - val_loss: 0.3871 - val_accuracy: 0.8667\n",
            "Epoch 56/300\n",
            "22/22 [==============================] - 0s 3ms/step - loss: 0.3852 - accuracy: 0.8571 - val_loss: 0.3845 - val_accuracy: 0.8667\n",
            "Epoch 57/300\n",
            "22/22 [==============================] - 0s 4ms/step - loss: 0.3826 - accuracy: 0.8571 - val_loss: 0.3820 - val_accuracy: 0.8667\n",
            "Epoch 58/300\n",
            "22/22 [==============================] - 0s 4ms/step - loss: 0.3802 - accuracy: 0.8571 - val_loss: 0.3795 - val_accuracy: 0.8667\n",
            "Epoch 59/300\n",
            "22/22 [==============================] - 0s 4ms/step - loss: 0.3776 - accuracy: 0.8571 - val_loss: 0.3771 - val_accuracy: 0.8667\n",
            "Epoch 60/300\n",
            "22/22 [==============================] - 0s 4ms/step - loss: 0.3752 - accuracy: 0.8571 - val_loss: 0.3748 - val_accuracy: 0.8667\n",
            "Epoch 61/300\n",
            "22/22 [==============================] - 0s 4ms/step - loss: 0.3728 - accuracy: 0.8571 - val_loss: 0.3724 - val_accuracy: 0.8667\n",
            "Epoch 62/300\n",
            "22/22 [==============================] - 0s 4ms/step - loss: 0.3705 - accuracy: 0.8571 - val_loss: 0.3701 - val_accuracy: 0.8667\n",
            "Epoch 63/300\n",
            "22/22 [==============================] - 0s 3ms/step - loss: 0.3682 - accuracy: 0.8571 - val_loss: 0.3677 - val_accuracy: 0.8667\n",
            "Epoch 64/300\n",
            "22/22 [==============================] - 0s 4ms/step - loss: 0.3659 - accuracy: 0.8571 - val_loss: 0.3655 - val_accuracy: 0.8667\n",
            "Epoch 65/300\n",
            "22/22 [==============================] - 0s 4ms/step - loss: 0.3638 - accuracy: 0.8571 - val_loss: 0.3633 - val_accuracy: 0.8667\n",
            "Epoch 66/300\n",
            "22/22 [==============================] - 0s 4ms/step - loss: 0.3616 - accuracy: 0.8586 - val_loss: 0.3612 - val_accuracy: 0.8667\n",
            "Epoch 67/300\n",
            "22/22 [==============================] - 0s 4ms/step - loss: 0.3594 - accuracy: 0.8586 - val_loss: 0.3591 - val_accuracy: 0.8667\n",
            "Epoch 68/300\n",
            "22/22 [==============================] - 0s 4ms/step - loss: 0.3573 - accuracy: 0.8600 - val_loss: 0.3569 - val_accuracy: 0.8667\n",
            "Epoch 69/300\n",
            "22/22 [==============================] - 0s 4ms/step - loss: 0.3552 - accuracy: 0.8600 - val_loss: 0.3549 - val_accuracy: 0.8667\n",
            "Epoch 70/300\n",
            "22/22 [==============================] - 0s 4ms/step - loss: 0.3532 - accuracy: 0.8600 - val_loss: 0.3529 - val_accuracy: 0.8667\n",
            "Epoch 71/300\n",
            "22/22 [==============================] - 0s 4ms/step - loss: 0.3511 - accuracy: 0.8600 - val_loss: 0.3508 - val_accuracy: 0.8667\n",
            "Epoch 72/300\n",
            "22/22 [==============================] - 0s 4ms/step - loss: 0.3491 - accuracy: 0.8600 - val_loss: 0.3488 - val_accuracy: 0.8667\n",
            "Epoch 73/300\n",
            "22/22 [==============================] - 0s 5ms/step - loss: 0.3474 - accuracy: 0.8600 - val_loss: 0.3468 - val_accuracy: 0.8667\n",
            "Epoch 74/300\n",
            "22/22 [==============================] - 0s 4ms/step - loss: 0.3454 - accuracy: 0.8600 - val_loss: 0.3451 - val_accuracy: 0.8667\n",
            "Epoch 75/300\n",
            "22/22 [==============================] - 0s 4ms/step - loss: 0.3434 - accuracy: 0.8600 - val_loss: 0.3431 - val_accuracy: 0.8667\n",
            "Epoch 76/300\n",
            "22/22 [==============================] - 0s 3ms/step - loss: 0.3415 - accuracy: 0.8600 - val_loss: 0.3412 - val_accuracy: 0.8667\n",
            "Epoch 77/300\n",
            "22/22 [==============================] - 0s 4ms/step - loss: 0.3398 - accuracy: 0.8614 - val_loss: 0.3395 - val_accuracy: 0.8733\n",
            "Epoch 78/300\n",
            "22/22 [==============================] - 0s 4ms/step - loss: 0.3379 - accuracy: 0.8614 - val_loss: 0.3376 - val_accuracy: 0.8667\n",
            "Epoch 79/300\n",
            "22/22 [==============================] - 0s 4ms/step - loss: 0.3361 - accuracy: 0.8600 - val_loss: 0.3358 - val_accuracy: 0.8667\n",
            "Epoch 80/300\n",
            "22/22 [==============================] - 0s 4ms/step - loss: 0.3344 - accuracy: 0.8614 - val_loss: 0.3341 - val_accuracy: 0.8733\n",
            "Epoch 81/300\n",
            "22/22 [==============================] - 0s 4ms/step - loss: 0.3326 - accuracy: 0.8643 - val_loss: 0.3324 - val_accuracy: 0.8667\n",
            "Epoch 82/300\n",
            "22/22 [==============================] - 0s 4ms/step - loss: 0.3309 - accuracy: 0.8629 - val_loss: 0.3307 - val_accuracy: 0.8667\n",
            "Epoch 83/300\n",
            "22/22 [==============================] - 0s 4ms/step - loss: 0.3293 - accuracy: 0.8600 - val_loss: 0.3289 - val_accuracy: 0.8667\n",
            "Epoch 84/300\n",
            "22/22 [==============================] - 0s 4ms/step - loss: 0.3276 - accuracy: 0.8600 - val_loss: 0.3273 - val_accuracy: 0.8667\n",
            "Epoch 85/300\n",
            "22/22 [==============================] - 0s 4ms/step - loss: 0.3260 - accuracy: 0.8686 - val_loss: 0.3257 - val_accuracy: 0.8733\n",
            "Epoch 86/300\n",
            "22/22 [==============================] - 0s 5ms/step - loss: 0.3244 - accuracy: 0.8700 - val_loss: 0.3240 - val_accuracy: 0.8733\n",
            "Epoch 87/300\n",
            "22/22 [==============================] - 0s 4ms/step - loss: 0.3228 - accuracy: 0.8700 - val_loss: 0.3225 - val_accuracy: 0.8733\n",
            "Epoch 88/300\n",
            "22/22 [==============================] - 0s 4ms/step - loss: 0.3212 - accuracy: 0.8700 - val_loss: 0.3208 - val_accuracy: 0.8733\n",
            "Epoch 89/300\n",
            "22/22 [==============================] - 0s 3ms/step - loss: 0.3197 - accuracy: 0.8700 - val_loss: 0.3193 - val_accuracy: 0.8733\n",
            "Epoch 90/300\n",
            "22/22 [==============================] - 0s 4ms/step - loss: 0.3183 - accuracy: 0.8729 - val_loss: 0.3177 - val_accuracy: 0.8733\n",
            "Epoch 91/300\n",
            "22/22 [==============================] - 0s 4ms/step - loss: 0.3167 - accuracy: 0.8700 - val_loss: 0.3162 - val_accuracy: 0.8733\n",
            "Epoch 92/300\n",
            "22/22 [==============================] - 0s 4ms/step - loss: 0.3152 - accuracy: 0.8700 - val_loss: 0.3147 - val_accuracy: 0.8733\n",
            "Epoch 93/300\n",
            "22/22 [==============================] - 0s 4ms/step - loss: 0.3137 - accuracy: 0.8700 - val_loss: 0.3133 - val_accuracy: 0.8733\n",
            "Epoch 94/300\n",
            "22/22 [==============================] - 0s 4ms/step - loss: 0.3123 - accuracy: 0.8700 - val_loss: 0.3118 - val_accuracy: 0.8733\n",
            "Epoch 95/300\n",
            "22/22 [==============================] - 0s 4ms/step - loss: 0.3109 - accuracy: 0.8700 - val_loss: 0.3104 - val_accuracy: 0.8733\n",
            "Epoch 96/300\n",
            "22/22 [==============================] - 0s 4ms/step - loss: 0.3096 - accuracy: 0.8700 - val_loss: 0.3090 - val_accuracy: 0.8733\n",
            "Epoch 97/300\n",
            "22/22 [==============================] - 0s 4ms/step - loss: 0.3081 - accuracy: 0.8700 - val_loss: 0.3075 - val_accuracy: 0.8733\n",
            "Epoch 98/300\n",
            "22/22 [==============================] - 0s 4ms/step - loss: 0.3068 - accuracy: 0.8729 - val_loss: 0.3061 - val_accuracy: 0.9033\n",
            "Epoch 99/300\n",
            "22/22 [==============================] - 0s 4ms/step - loss: 0.3054 - accuracy: 0.8771 - val_loss: 0.3048 - val_accuracy: 0.8867\n",
            "Epoch 100/300\n",
            "22/22 [==============================] - 0s 6ms/step - loss: 0.3041 - accuracy: 0.8771 - val_loss: 0.3034 - val_accuracy: 0.9033\n",
            "Epoch 101/300\n",
            "22/22 [==============================] - 0s 4ms/step - loss: 0.3028 - accuracy: 0.8786 - val_loss: 0.3021 - val_accuracy: 0.8867\n",
            "Epoch 102/300\n",
            "22/22 [==============================] - 0s 4ms/step - loss: 0.3015 - accuracy: 0.8771 - val_loss: 0.3007 - val_accuracy: 0.8867\n",
            "Epoch 103/300\n",
            "22/22 [==============================] - 0s 4ms/step - loss: 0.3002 - accuracy: 0.8829 - val_loss: 0.2995 - val_accuracy: 0.9033\n",
            "Epoch 104/300\n",
            "22/22 [==============================] - 0s 4ms/step - loss: 0.2989 - accuracy: 0.8800 - val_loss: 0.2982 - val_accuracy: 0.8867\n",
            "Epoch 105/300\n",
            "22/22 [==============================] - 0s 3ms/step - loss: 0.2977 - accuracy: 0.8800 - val_loss: 0.2969 - val_accuracy: 0.9033\n",
            "Epoch 106/300\n",
            "22/22 [==============================] - 0s 5ms/step - loss: 0.2965 - accuracy: 0.8829 - val_loss: 0.2956 - val_accuracy: 0.9033\n",
            "Epoch 107/300\n",
            "22/22 [==============================] - 0s 4ms/step - loss: 0.2953 - accuracy: 0.8786 - val_loss: 0.2945 - val_accuracy: 0.8867\n",
            "Epoch 108/300\n",
            "22/22 [==============================] - 0s 4ms/step - loss: 0.2942 - accuracy: 0.8843 - val_loss: 0.2931 - val_accuracy: 0.9033\n",
            "Epoch 109/300\n",
            "22/22 [==============================] - 0s 4ms/step - loss: 0.2930 - accuracy: 0.8786 - val_loss: 0.2920 - val_accuracy: 0.8867\n",
            "Epoch 110/300\n",
            "22/22 [==============================] - 0s 4ms/step - loss: 0.2917 - accuracy: 0.8786 - val_loss: 0.2907 - val_accuracy: 0.8867\n",
            "Epoch 111/300\n",
            "22/22 [==============================] - 0s 4ms/step - loss: 0.2907 - accuracy: 0.8786 - val_loss: 0.2896 - val_accuracy: 0.8867\n",
            "Epoch 112/300\n",
            "22/22 [==============================] - 0s 5ms/step - loss: 0.2894 - accuracy: 0.8814 - val_loss: 0.2882 - val_accuracy: 0.8867\n",
            "Epoch 113/300\n",
            "22/22 [==============================] - 0s 8ms/step - loss: 0.2882 - accuracy: 0.8829 - val_loss: 0.2871 - val_accuracy: 0.9167\n",
            "Epoch 114/300\n",
            "22/22 [==============================] - 0s 6ms/step - loss: 0.2871 - accuracy: 0.8929 - val_loss: 0.2861 - val_accuracy: 0.9167\n",
            "Epoch 115/300\n",
            "22/22 [==============================] - 0s 5ms/step - loss: 0.2860 - accuracy: 0.8929 - val_loss: 0.2849 - val_accuracy: 0.9167\n",
            "Epoch 116/300\n",
            "22/22 [==============================] - 0s 5ms/step - loss: 0.2850 - accuracy: 0.8929 - val_loss: 0.2836 - val_accuracy: 0.9167\n",
            "Epoch 117/300\n",
            "22/22 [==============================] - 0s 5ms/step - loss: 0.2840 - accuracy: 0.8929 - val_loss: 0.2826 - val_accuracy: 0.9167\n",
            "Epoch 118/300\n",
            "22/22 [==============================] - 0s 5ms/step - loss: 0.2828 - accuracy: 0.9014 - val_loss: 0.2816 - val_accuracy: 0.9233\n",
            "Epoch 119/300\n",
            "22/22 [==============================] - 0s 8ms/step - loss: 0.2818 - accuracy: 0.8986 - val_loss: 0.2804 - val_accuracy: 0.9000\n",
            "Epoch 120/300\n",
            "22/22 [==============================] - 0s 6ms/step - loss: 0.2807 - accuracy: 0.8943 - val_loss: 0.2793 - val_accuracy: 0.9167\n",
            "Epoch 121/300\n",
            "22/22 [==============================] - 0s 8ms/step - loss: 0.2796 - accuracy: 0.9029 - val_loss: 0.2782 - val_accuracy: 0.9233\n",
            "Epoch 122/300\n",
            "22/22 [==============================] - 0s 6ms/step - loss: 0.2787 - accuracy: 0.9057 - val_loss: 0.2772 - val_accuracy: 0.9233\n",
            "Epoch 123/300\n",
            "22/22 [==============================] - 0s 6ms/step - loss: 0.2777 - accuracy: 0.9057 - val_loss: 0.2761 - val_accuracy: 0.9233\n",
            "Epoch 124/300\n",
            "22/22 [==============================] - 0s 5ms/step - loss: 0.2767 - accuracy: 0.9014 - val_loss: 0.2751 - val_accuracy: 0.9067\n",
            "Epoch 125/300\n",
            "22/22 [==============================] - 0s 6ms/step - loss: 0.2756 - accuracy: 0.9000 - val_loss: 0.2741 - val_accuracy: 0.9067\n",
            "Epoch 126/300\n",
            "22/22 [==============================] - 0s 5ms/step - loss: 0.2746 - accuracy: 0.9029 - val_loss: 0.2731 - val_accuracy: 0.9233\n",
            "Epoch 127/300\n",
            "22/22 [==============================] - 0s 6ms/step - loss: 0.2737 - accuracy: 0.9057 - val_loss: 0.2720 - val_accuracy: 0.9233\n",
            "Epoch 128/300\n",
            "22/22 [==============================] - 0s 5ms/step - loss: 0.2728 - accuracy: 0.9057 - val_loss: 0.2710 - val_accuracy: 0.9233\n",
            "Epoch 129/300\n",
            "22/22 [==============================] - 0s 5ms/step - loss: 0.2718 - accuracy: 0.9057 - val_loss: 0.2700 - val_accuracy: 0.9233\n",
            "Epoch 130/300\n",
            "22/22 [==============================] - 0s 5ms/step - loss: 0.2708 - accuracy: 0.9057 - val_loss: 0.2690 - val_accuracy: 0.9233\n",
            "Epoch 131/300\n",
            "22/22 [==============================] - 0s 7ms/step - loss: 0.2699 - accuracy: 0.9129 - val_loss: 0.2681 - val_accuracy: 0.9267\n",
            "Epoch 132/300\n",
            "22/22 [==============================] - 0s 8ms/step - loss: 0.2690 - accuracy: 0.9171 - val_loss: 0.2670 - val_accuracy: 0.9267\n",
            "Epoch 133/300\n",
            "22/22 [==============================] - 0s 6ms/step - loss: 0.2681 - accuracy: 0.9143 - val_loss: 0.2662 - val_accuracy: 0.9100\n",
            "Epoch 134/300\n",
            "22/22 [==============================] - 0s 7ms/step - loss: 0.2672 - accuracy: 0.9157 - val_loss: 0.2651 - val_accuracy: 0.9267\n",
            "Epoch 135/300\n",
            "22/22 [==============================] - 0s 5ms/step - loss: 0.2663 - accuracy: 0.9171 - val_loss: 0.2642 - val_accuracy: 0.9267\n",
            "Epoch 136/300\n",
            "22/22 [==============================] - 0s 4ms/step - loss: 0.2654 - accuracy: 0.9171 - val_loss: 0.2633 - val_accuracy: 0.9267\n",
            "Epoch 137/300\n",
            "22/22 [==============================] - 0s 4ms/step - loss: 0.2646 - accuracy: 0.9171 - val_loss: 0.2623 - val_accuracy: 0.9267\n",
            "Epoch 138/300\n",
            "22/22 [==============================] - 0s 4ms/step - loss: 0.2636 - accuracy: 0.9143 - val_loss: 0.2615 - val_accuracy: 0.9100\n",
            "Epoch 139/300\n",
            "22/22 [==============================] - 0s 4ms/step - loss: 0.2628 - accuracy: 0.9171 - val_loss: 0.2606 - val_accuracy: 0.9267\n",
            "Epoch 140/300\n",
            "22/22 [==============================] - 0s 5ms/step - loss: 0.2619 - accuracy: 0.9171 - val_loss: 0.2596 - val_accuracy: 0.9267\n",
            "Epoch 141/300\n",
            "22/22 [==============================] - 0s 4ms/step - loss: 0.2611 - accuracy: 0.9171 - val_loss: 0.2587 - val_accuracy: 0.9267\n",
            "Epoch 142/300\n",
            "22/22 [==============================] - 0s 4ms/step - loss: 0.2602 - accuracy: 0.9171 - val_loss: 0.2578 - val_accuracy: 0.9267\n",
            "Epoch 143/300\n",
            "22/22 [==============================] - 0s 4ms/step - loss: 0.2593 - accuracy: 0.9171 - val_loss: 0.2570 - val_accuracy: 0.9267\n",
            "Epoch 144/300\n",
            "22/22 [==============================] - 0s 4ms/step - loss: 0.2586 - accuracy: 0.9171 - val_loss: 0.2562 - val_accuracy: 0.9267\n",
            "Epoch 145/300\n",
            "22/22 [==============================] - 0s 4ms/step - loss: 0.2577 - accuracy: 0.9171 - val_loss: 0.2552 - val_accuracy: 0.9267\n",
            "Epoch 146/300\n",
            "22/22 [==============================] - 0s 4ms/step - loss: 0.2569 - accuracy: 0.9171 - val_loss: 0.2544 - val_accuracy: 0.9267\n",
            "Epoch 147/300\n",
            "22/22 [==============================] - 0s 5ms/step - loss: 0.2561 - accuracy: 0.9171 - val_loss: 0.2535 - val_accuracy: 0.9267\n",
            "Epoch 148/300\n",
            "22/22 [==============================] - 0s 4ms/step - loss: 0.2553 - accuracy: 0.9171 - val_loss: 0.2526 - val_accuracy: 0.9267\n",
            "Epoch 149/300\n",
            "22/22 [==============================] - 0s 4ms/step - loss: 0.2545 - accuracy: 0.9171 - val_loss: 0.2520 - val_accuracy: 0.9267\n",
            "Epoch 150/300\n",
            "22/22 [==============================] - 0s 4ms/step - loss: 0.2538 - accuracy: 0.9171 - val_loss: 0.2510 - val_accuracy: 0.9267\n",
            "Epoch 151/300\n",
            "22/22 [==============================] - 0s 5ms/step - loss: 0.2530 - accuracy: 0.9129 - val_loss: 0.2503 - val_accuracy: 0.9267\n",
            "Epoch 152/300\n",
            "22/22 [==============================] - 0s 5ms/step - loss: 0.2522 - accuracy: 0.9171 - val_loss: 0.2494 - val_accuracy: 0.9267\n",
            "Epoch 153/300\n",
            "22/22 [==============================] - 0s 4ms/step - loss: 0.2514 - accuracy: 0.9171 - val_loss: 0.2487 - val_accuracy: 0.9267\n",
            "Epoch 154/300\n",
            "22/22 [==============================] - 0s 4ms/step - loss: 0.2506 - accuracy: 0.9157 - val_loss: 0.2478 - val_accuracy: 0.9267\n",
            "Epoch 155/300\n",
            "22/22 [==============================] - 0s 4ms/step - loss: 0.2499 - accuracy: 0.9171 - val_loss: 0.2470 - val_accuracy: 0.9267\n",
            "Epoch 156/300\n",
            "22/22 [==============================] - 0s 4ms/step - loss: 0.2492 - accuracy: 0.9171 - val_loss: 0.2462 - val_accuracy: 0.9267\n",
            "Epoch 157/300\n",
            "22/22 [==============================] - 0s 4ms/step - loss: 0.2485 - accuracy: 0.9171 - val_loss: 0.2454 - val_accuracy: 0.9267\n",
            "Epoch 158/300\n",
            "22/22 [==============================] - 0s 4ms/step - loss: 0.2476 - accuracy: 0.9171 - val_loss: 0.2447 - val_accuracy: 0.9267\n",
            "Epoch 159/300\n",
            "22/22 [==============================] - 0s 4ms/step - loss: 0.2469 - accuracy: 0.9129 - val_loss: 0.2439 - val_accuracy: 0.9100\n",
            "Epoch 160/300\n",
            "22/22 [==============================] - 0s 4ms/step - loss: 0.2463 - accuracy: 0.9171 - val_loss: 0.2431 - val_accuracy: 0.9267\n",
            "Epoch 161/300\n",
            "22/22 [==============================] - 0s 4ms/step - loss: 0.2455 - accuracy: 0.9114 - val_loss: 0.2424 - val_accuracy: 0.9100\n",
            "Epoch 162/300\n",
            "22/22 [==============================] - 0s 3ms/step - loss: 0.2448 - accuracy: 0.9114 - val_loss: 0.2416 - val_accuracy: 0.9100\n",
            "Epoch 163/300\n",
            "22/22 [==============================] - 0s 4ms/step - loss: 0.2441 - accuracy: 0.9157 - val_loss: 0.2407 - val_accuracy: 0.9267\n",
            "Epoch 164/300\n",
            "22/22 [==============================] - 0s 4ms/step - loss: 0.2434 - accuracy: 0.9171 - val_loss: 0.2400 - val_accuracy: 0.9267\n",
            "Epoch 165/300\n",
            "22/22 [==============================] - 0s 4ms/step - loss: 0.2427 - accuracy: 0.9143 - val_loss: 0.2394 - val_accuracy: 0.9100\n",
            "Epoch 166/300\n",
            "22/22 [==============================] - 0s 3ms/step - loss: 0.2419 - accuracy: 0.9143 - val_loss: 0.2386 - val_accuracy: 0.9267\n",
            "Epoch 167/300\n",
            "22/22 [==============================] - 0s 4ms/step - loss: 0.2413 - accuracy: 0.9143 - val_loss: 0.2379 - val_accuracy: 0.9100\n",
            "Epoch 168/300\n",
            "22/22 [==============================] - 0s 4ms/step - loss: 0.2406 - accuracy: 0.9114 - val_loss: 0.2372 - val_accuracy: 0.9100\n",
            "Epoch 169/300\n",
            "22/22 [==============================] - 0s 4ms/step - loss: 0.2399 - accuracy: 0.9171 - val_loss: 0.2364 - val_accuracy: 0.9267\n",
            "Epoch 170/300\n",
            "22/22 [==============================] - 0s 4ms/step - loss: 0.2393 - accuracy: 0.9171 - val_loss: 0.2356 - val_accuracy: 0.9267\n",
            "Epoch 171/300\n",
            "22/22 [==============================] - 0s 4ms/step - loss: 0.2386 - accuracy: 0.9171 - val_loss: 0.2350 - val_accuracy: 0.9267\n",
            "Epoch 172/300\n",
            "22/22 [==============================] - 0s 5ms/step - loss: 0.2380 - accuracy: 0.9171 - val_loss: 0.2343 - val_accuracy: 0.9267\n",
            "Epoch 173/300\n",
            "22/22 [==============================] - 0s 4ms/step - loss: 0.2373 - accuracy: 0.9171 - val_loss: 0.2337 - val_accuracy: 0.9100\n",
            "Epoch 174/300\n",
            "22/22 [==============================] - 0s 4ms/step - loss: 0.2366 - accuracy: 0.9157 - val_loss: 0.2329 - val_accuracy: 0.9267\n",
            "Epoch 175/300\n",
            "22/22 [==============================] - 0s 5ms/step - loss: 0.2360 - accuracy: 0.9171 - val_loss: 0.2323 - val_accuracy: 0.9267\n",
            "Epoch 176/300\n",
            "22/22 [==============================] - 0s 4ms/step - loss: 0.2353 - accuracy: 0.9171 - val_loss: 0.2316 - val_accuracy: 0.9100\n",
            "Epoch 177/300\n",
            "22/22 [==============================] - 0s 4ms/step - loss: 0.2347 - accuracy: 0.9114 - val_loss: 0.2310 - val_accuracy: 0.9100\n",
            "Epoch 178/300\n",
            "22/22 [==============================] - 0s 4ms/step - loss: 0.2341 - accuracy: 0.9129 - val_loss: 0.2301 - val_accuracy: 0.9267\n",
            "Epoch 179/300\n",
            "22/22 [==============================] - 0s 4ms/step - loss: 0.2334 - accuracy: 0.9171 - val_loss: 0.2296 - val_accuracy: 0.9100\n",
            "Epoch 180/300\n",
            "22/22 [==============================] - 0s 4ms/step - loss: 0.2328 - accuracy: 0.9114 - val_loss: 0.2289 - val_accuracy: 0.9100\n",
            "Epoch 181/300\n",
            "22/22 [==============================] - 0s 4ms/step - loss: 0.2322 - accuracy: 0.9114 - val_loss: 0.2282 - val_accuracy: 0.9100\n",
            "Epoch 182/300\n",
            "22/22 [==============================] - 0s 4ms/step - loss: 0.2316 - accuracy: 0.9143 - val_loss: 0.2276 - val_accuracy: 0.9267\n",
            "Epoch 183/300\n",
            "22/22 [==============================] - 0s 4ms/step - loss: 0.2310 - accuracy: 0.9143 - val_loss: 0.2268 - val_accuracy: 0.9267\n",
            "Epoch 184/300\n",
            "22/22 [==============================] - 0s 4ms/step - loss: 0.2303 - accuracy: 0.9129 - val_loss: 0.2263 - val_accuracy: 0.9267\n",
            "Epoch 185/300\n",
            "22/22 [==============================] - 0s 4ms/step - loss: 0.2297 - accuracy: 0.9157 - val_loss: 0.2256 - val_accuracy: 0.9267\n",
            "Epoch 186/300\n",
            "22/22 [==============================] - 0s 4ms/step - loss: 0.2292 - accuracy: 0.9129 - val_loss: 0.2250 - val_accuracy: 0.9100\n",
            "Epoch 187/300\n",
            "22/22 [==============================] - 0s 4ms/step - loss: 0.2286 - accuracy: 0.9114 - val_loss: 0.2244 - val_accuracy: 0.9100\n",
            "Epoch 188/300\n",
            "22/22 [==============================] - 0s 4ms/step - loss: 0.2281 - accuracy: 0.9186 - val_loss: 0.2236 - val_accuracy: 0.9367\n",
            "Epoch 189/300\n",
            "22/22 [==============================] - 0s 4ms/step - loss: 0.2273 - accuracy: 0.9271 - val_loss: 0.2231 - val_accuracy: 0.9367\n",
            "Epoch 190/300\n",
            "22/22 [==============================] - 0s 4ms/step - loss: 0.2269 - accuracy: 0.9257 - val_loss: 0.2225 - val_accuracy: 0.9367\n",
            "Epoch 191/300\n",
            "22/22 [==============================] - 0s 4ms/step - loss: 0.2263 - accuracy: 0.9214 - val_loss: 0.2219 - val_accuracy: 0.9200\n",
            "Epoch 192/300\n",
            "22/22 [==============================] - 0s 4ms/step - loss: 0.2257 - accuracy: 0.9171 - val_loss: 0.2214 - val_accuracy: 0.9100\n",
            "Epoch 193/300\n",
            "22/22 [==============================] - 0s 5ms/step - loss: 0.2251 - accuracy: 0.9186 - val_loss: 0.2207 - val_accuracy: 0.9200\n",
            "Epoch 194/300\n",
            "22/22 [==============================] - 0s 4ms/step - loss: 0.2245 - accuracy: 0.9214 - val_loss: 0.2201 - val_accuracy: 0.9200\n",
            "Epoch 195/300\n",
            "22/22 [==============================] - 0s 4ms/step - loss: 0.2240 - accuracy: 0.9229 - val_loss: 0.2195 - val_accuracy: 0.9367\n",
            "Epoch 196/300\n",
            "22/22 [==============================] - 0s 4ms/step - loss: 0.2234 - accuracy: 0.9229 - val_loss: 0.2189 - val_accuracy: 0.9200\n",
            "Epoch 197/300\n",
            "22/22 [==============================] - 0s 4ms/step - loss: 0.2229 - accuracy: 0.9229 - val_loss: 0.2183 - val_accuracy: 0.9200\n",
            "Epoch 198/300\n",
            "22/22 [==============================] - 0s 4ms/step - loss: 0.2223 - accuracy: 0.9214 - val_loss: 0.2178 - val_accuracy: 0.9200\n",
            "Epoch 199/300\n",
            "22/22 [==============================] - 0s 4ms/step - loss: 0.2218 - accuracy: 0.9214 - val_loss: 0.2172 - val_accuracy: 0.9200\n",
            "Epoch 200/300\n",
            "22/22 [==============================] - 0s 4ms/step - loss: 0.2213 - accuracy: 0.9214 - val_loss: 0.2166 - val_accuracy: 0.9200\n",
            "Epoch 201/300\n",
            "22/22 [==============================] - 0s 4ms/step - loss: 0.2208 - accuracy: 0.9214 - val_loss: 0.2161 - val_accuracy: 0.9200\n",
            "Epoch 202/300\n",
            "22/22 [==============================] - 0s 5ms/step - loss: 0.2202 - accuracy: 0.9214 - val_loss: 0.2155 - val_accuracy: 0.9200\n",
            "Epoch 203/300\n",
            "22/22 [==============================] - 0s 4ms/step - loss: 0.2196 - accuracy: 0.9214 - val_loss: 0.2150 - val_accuracy: 0.9200\n",
            "Epoch 204/300\n",
            "22/22 [==============================] - 0s 4ms/step - loss: 0.2192 - accuracy: 0.9214 - val_loss: 0.2144 - val_accuracy: 0.9200\n",
            "Epoch 205/300\n",
            "22/22 [==============================] - 0s 4ms/step - loss: 0.2188 - accuracy: 0.9243 - val_loss: 0.2138 - val_accuracy: 0.9367\n",
            "Epoch 206/300\n",
            "22/22 [==============================] - 0s 4ms/step - loss: 0.2181 - accuracy: 0.9214 - val_loss: 0.2133 - val_accuracy: 0.9200\n",
            "Epoch 207/300\n",
            "22/22 [==============================] - 0s 4ms/step - loss: 0.2176 - accuracy: 0.9214 - val_loss: 0.2126 - val_accuracy: 0.9200\n",
            "Epoch 208/300\n",
            "22/22 [==============================] - 0s 4ms/step - loss: 0.2171 - accuracy: 0.9214 - val_loss: 0.2123 - val_accuracy: 0.9200\n",
            "Epoch 209/300\n",
            "22/22 [==============================] - 0s 4ms/step - loss: 0.2165 - accuracy: 0.9214 - val_loss: 0.2116 - val_accuracy: 0.9200\n",
            "Epoch 210/300\n",
            "22/22 [==============================] - 0s 4ms/step - loss: 0.2161 - accuracy: 0.9214 - val_loss: 0.2110 - val_accuracy: 0.9200\n",
            "Epoch 211/300\n",
            "22/22 [==============================] - 0s 4ms/step - loss: 0.2156 - accuracy: 0.9214 - val_loss: 0.2106 - val_accuracy: 0.9200\n",
            "Epoch 212/300\n",
            "22/22 [==============================] - 0s 4ms/step - loss: 0.2151 - accuracy: 0.9214 - val_loss: 0.2100 - val_accuracy: 0.9200\n",
            "Epoch 213/300\n",
            "22/22 [==============================] - 0s 4ms/step - loss: 0.2146 - accuracy: 0.9214 - val_loss: 0.2094 - val_accuracy: 0.9200\n",
            "Epoch 214/300\n",
            "22/22 [==============================] - 0s 6ms/step - loss: 0.2141 - accuracy: 0.9214 - val_loss: 0.2090 - val_accuracy: 0.9200\n",
            "Epoch 215/300\n",
            "22/22 [==============================] - 0s 4ms/step - loss: 0.2137 - accuracy: 0.9214 - val_loss: 0.2085 - val_accuracy: 0.9200\n",
            "Epoch 216/300\n",
            "22/22 [==============================] - 0s 4ms/step - loss: 0.2131 - accuracy: 0.9214 - val_loss: 0.2080 - val_accuracy: 0.9200\n",
            "Epoch 217/300\n",
            "22/22 [==============================] - 0s 4ms/step - loss: 0.2126 - accuracy: 0.9229 - val_loss: 0.2073 - val_accuracy: 0.9200\n",
            "Epoch 218/300\n",
            "22/22 [==============================] - 0s 4ms/step - loss: 0.2121 - accuracy: 0.9214 - val_loss: 0.2069 - val_accuracy: 0.9200\n",
            "Epoch 219/300\n",
            "22/22 [==============================] - 0s 4ms/step - loss: 0.2116 - accuracy: 0.9214 - val_loss: 0.2065 - val_accuracy: 0.9200\n",
            "Epoch 220/300\n",
            "22/22 [==============================] - 0s 4ms/step - loss: 0.2112 - accuracy: 0.9214 - val_loss: 0.2059 - val_accuracy: 0.9200\n",
            "Epoch 221/300\n",
            "22/22 [==============================] - 0s 4ms/step - loss: 0.2107 - accuracy: 0.9214 - val_loss: 0.2055 - val_accuracy: 0.9200\n",
            "Epoch 222/300\n",
            "22/22 [==============================] - 0s 4ms/step - loss: 0.2103 - accuracy: 0.9214 - val_loss: 0.2050 - val_accuracy: 0.9200\n",
            "Epoch 223/300\n",
            "22/22 [==============================] - 0s 4ms/step - loss: 0.2098 - accuracy: 0.9214 - val_loss: 0.2044 - val_accuracy: 0.9200\n",
            "Epoch 224/300\n",
            "22/22 [==============================] - 0s 5ms/step - loss: 0.2093 - accuracy: 0.9214 - val_loss: 0.2039 - val_accuracy: 0.9200\n",
            "Epoch 225/300\n",
            "22/22 [==============================] - 0s 4ms/step - loss: 0.2088 - accuracy: 0.9214 - val_loss: 0.2035 - val_accuracy: 0.9200\n",
            "Epoch 226/300\n",
            "22/22 [==============================] - 0s 4ms/step - loss: 0.2084 - accuracy: 0.9214 - val_loss: 0.2029 - val_accuracy: 0.9200\n",
            "Epoch 227/300\n",
            "22/22 [==============================] - 0s 4ms/step - loss: 0.2079 - accuracy: 0.9214 - val_loss: 0.2026 - val_accuracy: 0.9200\n",
            "Epoch 228/300\n",
            "22/22 [==============================] - 0s 3ms/step - loss: 0.2075 - accuracy: 0.9214 - val_loss: 0.2021 - val_accuracy: 0.9200\n",
            "Epoch 229/300\n",
            "22/22 [==============================] - 0s 4ms/step - loss: 0.2070 - accuracy: 0.9214 - val_loss: 0.2014 - val_accuracy: 0.9200\n",
            "Epoch 230/300\n",
            "22/22 [==============================] - 0s 4ms/step - loss: 0.2066 - accuracy: 0.9214 - val_loss: 0.2010 - val_accuracy: 0.9200\n",
            "Epoch 231/300\n",
            "22/22 [==============================] - 0s 4ms/step - loss: 0.2062 - accuracy: 0.9214 - val_loss: 0.2005 - val_accuracy: 0.9200\n",
            "Epoch 232/300\n",
            "22/22 [==============================] - 0s 4ms/step - loss: 0.2057 - accuracy: 0.9214 - val_loss: 0.2002 - val_accuracy: 0.9200\n",
            "Epoch 233/300\n",
            "22/22 [==============================] - 0s 4ms/step - loss: 0.2052 - accuracy: 0.9214 - val_loss: 0.1997 - val_accuracy: 0.9200\n",
            "Epoch 234/300\n",
            "22/22 [==============================] - 0s 6ms/step - loss: 0.2048 - accuracy: 0.9214 - val_loss: 0.1993 - val_accuracy: 0.9200\n",
            "Epoch 235/300\n",
            "22/22 [==============================] - 0s 5ms/step - loss: 0.2045 - accuracy: 0.9214 - val_loss: 0.1986 - val_accuracy: 0.9200\n",
            "Epoch 236/300\n",
            "22/22 [==============================] - 0s 4ms/step - loss: 0.2039 - accuracy: 0.9214 - val_loss: 0.1983 - val_accuracy: 0.9200\n",
            "Epoch 237/300\n",
            "22/22 [==============================] - 0s 6ms/step - loss: 0.2035 - accuracy: 0.9214 - val_loss: 0.1978 - val_accuracy: 0.9200\n",
            "Epoch 238/300\n",
            "22/22 [==============================] - 0s 7ms/step - loss: 0.2031 - accuracy: 0.9214 - val_loss: 0.1973 - val_accuracy: 0.9200\n",
            "Epoch 239/300\n",
            "22/22 [==============================] - 0s 6ms/step - loss: 0.2026 - accuracy: 0.9214 - val_loss: 0.1969 - val_accuracy: 0.9200\n",
            "Epoch 240/300\n",
            "22/22 [==============================] - 0s 5ms/step - loss: 0.2024 - accuracy: 0.9214 - val_loss: 0.1966 - val_accuracy: 0.9200\n",
            "Epoch 241/300\n",
            "22/22 [==============================] - 0s 5ms/step - loss: 0.2017 - accuracy: 0.9214 - val_loss: 0.1959 - val_accuracy: 0.9200\n",
            "Epoch 242/300\n",
            "22/22 [==============================] - 0s 8ms/step - loss: 0.2015 - accuracy: 0.9214 - val_loss: 0.1955 - val_accuracy: 0.9200\n",
            "Epoch 243/300\n",
            "22/22 [==============================] - 0s 7ms/step - loss: 0.2010 - accuracy: 0.9214 - val_loss: 0.1950 - val_accuracy: 0.9200\n",
            "Epoch 244/300\n",
            "22/22 [==============================] - 0s 6ms/step - loss: 0.2005 - accuracy: 0.9214 - val_loss: 0.1947 - val_accuracy: 0.9200\n",
            "Epoch 245/300\n",
            "22/22 [==============================] - 0s 5ms/step - loss: 0.2001 - accuracy: 0.9214 - val_loss: 0.1943 - val_accuracy: 0.9200\n",
            "Epoch 246/300\n",
            "22/22 [==============================] - 0s 6ms/step - loss: 0.1998 - accuracy: 0.9214 - val_loss: 0.1938 - val_accuracy: 0.9200\n",
            "Epoch 247/300\n",
            "22/22 [==============================] - 0s 5ms/step - loss: 0.1993 - accuracy: 0.9214 - val_loss: 0.1934 - val_accuracy: 0.9200\n",
            "Epoch 248/300\n",
            "22/22 [==============================] - 0s 7ms/step - loss: 0.1989 - accuracy: 0.9214 - val_loss: 0.1931 - val_accuracy: 0.9200\n",
            "Epoch 249/300\n",
            "22/22 [==============================] - 0s 7ms/step - loss: 0.1985 - accuracy: 0.9214 - val_loss: 0.1925 - val_accuracy: 0.9200\n",
            "Epoch 250/300\n",
            "22/22 [==============================] - 0s 8ms/step - loss: 0.1982 - accuracy: 0.9214 - val_loss: 0.1920 - val_accuracy: 0.9200\n",
            "Epoch 251/300\n",
            "22/22 [==============================] - 0s 6ms/step - loss: 0.1977 - accuracy: 0.9214 - val_loss: 0.1918 - val_accuracy: 0.9200\n",
            "Epoch 252/300\n",
            "22/22 [==============================] - 0s 6ms/step - loss: 0.1973 - accuracy: 0.9214 - val_loss: 0.1914 - val_accuracy: 0.9200\n",
            "Epoch 253/300\n",
            "22/22 [==============================] - 0s 6ms/step - loss: 0.1970 - accuracy: 0.9214 - val_loss: 0.1909 - val_accuracy: 0.9200\n",
            "Epoch 254/300\n",
            "22/22 [==============================] - 0s 9ms/step - loss: 0.1966 - accuracy: 0.9214 - val_loss: 0.1903 - val_accuracy: 0.9200\n",
            "Epoch 255/300\n",
            "22/22 [==============================] - 0s 6ms/step - loss: 0.1962 - accuracy: 0.9214 - val_loss: 0.1901 - val_accuracy: 0.9200\n",
            "Epoch 256/300\n",
            "22/22 [==============================] - 0s 9ms/step - loss: 0.1957 - accuracy: 0.9229 - val_loss: 0.1896 - val_accuracy: 0.9200\n",
            "Epoch 257/300\n",
            "22/22 [==============================] - 0s 8ms/step - loss: 0.1953 - accuracy: 0.9243 - val_loss: 0.1893 - val_accuracy: 0.9200\n",
            "Epoch 258/300\n",
            "22/22 [==============================] - 0s 4ms/step - loss: 0.1951 - accuracy: 0.9286 - val_loss: 0.1887 - val_accuracy: 0.9300\n",
            "Epoch 259/300\n",
            "22/22 [==============================] - 0s 4ms/step - loss: 0.1945 - accuracy: 0.9300 - val_loss: 0.1884 - val_accuracy: 0.9300\n",
            "Epoch 260/300\n",
            "22/22 [==============================] - 0s 4ms/step - loss: 0.1943 - accuracy: 0.9214 - val_loss: 0.1882 - val_accuracy: 0.9200\n",
            "Epoch 261/300\n",
            "22/22 [==============================] - 0s 4ms/step - loss: 0.1939 - accuracy: 0.9214 - val_loss: 0.1877 - val_accuracy: 0.9300\n",
            "Epoch 262/300\n",
            "22/22 [==============================] - 0s 4ms/step - loss: 0.1934 - accuracy: 0.9300 - val_loss: 0.1873 - val_accuracy: 0.9300\n",
            "Epoch 263/300\n",
            "22/22 [==============================] - 0s 4ms/step - loss: 0.1931 - accuracy: 0.9300 - val_loss: 0.1868 - val_accuracy: 0.9300\n",
            "Epoch 264/300\n",
            "22/22 [==============================] - 0s 4ms/step - loss: 0.1928 - accuracy: 0.9300 - val_loss: 0.1867 - val_accuracy: 0.9300\n",
            "Epoch 265/300\n",
            "22/22 [==============================] - 0s 4ms/step - loss: 0.1923 - accuracy: 0.9300 - val_loss: 0.1861 - val_accuracy: 0.9300\n",
            "Epoch 266/300\n",
            "22/22 [==============================] - 0s 4ms/step - loss: 0.1919 - accuracy: 0.9300 - val_loss: 0.1857 - val_accuracy: 0.9300\n",
            "Epoch 267/300\n",
            "22/22 [==============================] - 0s 5ms/step - loss: 0.1916 - accuracy: 0.9300 - val_loss: 0.1854 - val_accuracy: 0.9300\n",
            "Epoch 268/300\n",
            "22/22 [==============================] - 0s 4ms/step - loss: 0.1912 - accuracy: 0.9300 - val_loss: 0.1849 - val_accuracy: 0.9300\n",
            "Epoch 269/300\n",
            "22/22 [==============================] - 0s 4ms/step - loss: 0.1908 - accuracy: 0.9300 - val_loss: 0.1847 - val_accuracy: 0.9300\n",
            "Epoch 270/300\n",
            "22/22 [==============================] - 0s 4ms/step - loss: 0.1905 - accuracy: 0.9300 - val_loss: 0.1842 - val_accuracy: 0.9300\n",
            "Epoch 271/300\n",
            "22/22 [==============================] - 0s 4ms/step - loss: 0.1901 - accuracy: 0.9300 - val_loss: 0.1839 - val_accuracy: 0.9300\n",
            "Epoch 272/300\n",
            "22/22 [==============================] - 0s 4ms/step - loss: 0.1897 - accuracy: 0.9300 - val_loss: 0.1835 - val_accuracy: 0.9300\n",
            "Epoch 273/300\n",
            "22/22 [==============================] - 0s 4ms/step - loss: 0.1895 - accuracy: 0.9300 - val_loss: 0.1830 - val_accuracy: 0.9300\n",
            "Epoch 274/300\n",
            "22/22 [==============================] - 0s 4ms/step - loss: 0.1891 - accuracy: 0.9300 - val_loss: 0.1828 - val_accuracy: 0.9300\n",
            "Epoch 275/300\n",
            "22/22 [==============================] - 0s 4ms/step - loss: 0.1888 - accuracy: 0.9300 - val_loss: 0.1823 - val_accuracy: 0.9300\n",
            "Epoch 276/300\n",
            "22/22 [==============================] - 0s 5ms/step - loss: 0.1883 - accuracy: 0.9300 - val_loss: 0.1821 - val_accuracy: 0.9300\n",
            "Epoch 277/300\n",
            "22/22 [==============================] - 0s 4ms/step - loss: 0.1880 - accuracy: 0.9300 - val_loss: 0.1817 - val_accuracy: 0.9300\n",
            "Epoch 278/300\n",
            "22/22 [==============================] - 0s 5ms/step - loss: 0.1877 - accuracy: 0.9300 - val_loss: 0.1814 - val_accuracy: 0.9300\n",
            "Epoch 279/300\n",
            "22/22 [==============================] - 0s 4ms/step - loss: 0.1873 - accuracy: 0.9300 - val_loss: 0.1809 - val_accuracy: 0.9300\n",
            "Epoch 280/300\n",
            "22/22 [==============================] - 0s 4ms/step - loss: 0.1870 - accuracy: 0.9300 - val_loss: 0.1806 - val_accuracy: 0.9300\n",
            "Epoch 281/300\n",
            "22/22 [==============================] - 0s 4ms/step - loss: 0.1868 - accuracy: 0.9300 - val_loss: 0.1803 - val_accuracy: 0.9300\n",
            "Epoch 282/300\n",
            "22/22 [==============================] - 0s 4ms/step - loss: 0.1863 - accuracy: 0.9300 - val_loss: 0.1798 - val_accuracy: 0.9300\n",
            "Epoch 283/300\n",
            "22/22 [==============================] - 0s 4ms/step - loss: 0.1860 - accuracy: 0.9300 - val_loss: 0.1795 - val_accuracy: 0.9300\n",
            "Epoch 284/300\n",
            "22/22 [==============================] - 0s 4ms/step - loss: 0.1857 - accuracy: 0.9300 - val_loss: 0.1791 - val_accuracy: 0.9300\n",
            "Epoch 285/300\n",
            "22/22 [==============================] - 0s 4ms/step - loss: 0.1854 - accuracy: 0.9300 - val_loss: 0.1789 - val_accuracy: 0.9300\n",
            "Epoch 286/300\n",
            "22/22 [==============================] - 0s 5ms/step - loss: 0.1849 - accuracy: 0.9300 - val_loss: 0.1785 - val_accuracy: 0.9300\n",
            "Epoch 287/300\n",
            "22/22 [==============================] - 0s 5ms/step - loss: 0.1847 - accuracy: 0.9300 - val_loss: 0.1780 - val_accuracy: 0.9300\n",
            "Epoch 288/300\n",
            "22/22 [==============================] - 0s 4ms/step - loss: 0.1843 - accuracy: 0.9300 - val_loss: 0.1778 - val_accuracy: 0.9300\n",
            "Epoch 289/300\n",
            "22/22 [==============================] - 0s 4ms/step - loss: 0.1840 - accuracy: 0.9300 - val_loss: 0.1776 - val_accuracy: 0.9300\n",
            "Epoch 290/300\n",
            "22/22 [==============================] - 0s 4ms/step - loss: 0.1837 - accuracy: 0.9300 - val_loss: 0.1771 - val_accuracy: 0.9300\n",
            "Epoch 291/300\n",
            "22/22 [==============================] - 0s 4ms/step - loss: 0.1834 - accuracy: 0.9300 - val_loss: 0.1769 - val_accuracy: 0.9300\n",
            "Epoch 292/300\n",
            "22/22 [==============================] - 0s 4ms/step - loss: 0.1830 - accuracy: 0.9300 - val_loss: 0.1765 - val_accuracy: 0.9300\n",
            "Epoch 293/300\n",
            "22/22 [==============================] - 0s 4ms/step - loss: 0.1827 - accuracy: 0.9300 - val_loss: 0.1760 - val_accuracy: 0.9300\n",
            "Epoch 294/300\n",
            "22/22 [==============================] - 0s 5ms/step - loss: 0.1824 - accuracy: 0.9300 - val_loss: 0.1757 - val_accuracy: 0.9300\n",
            "Epoch 295/300\n",
            "22/22 [==============================] - 0s 4ms/step - loss: 0.1821 - accuracy: 0.9300 - val_loss: 0.1754 - val_accuracy: 0.9300\n",
            "Epoch 296/300\n",
            "22/22 [==============================] - 0s 5ms/step - loss: 0.1818 - accuracy: 0.9300 - val_loss: 0.1752 - val_accuracy: 0.9300\n",
            "Epoch 297/300\n",
            "22/22 [==============================] - 0s 4ms/step - loss: 0.1814 - accuracy: 0.9300 - val_loss: 0.1748 - val_accuracy: 0.9300\n",
            "Epoch 298/300\n",
            "22/22 [==============================] - 0s 4ms/step - loss: 0.1811 - accuracy: 0.9300 - val_loss: 0.1744 - val_accuracy: 0.9300\n",
            "Epoch 299/300\n",
            "22/22 [==============================] - 0s 4ms/step - loss: 0.1808 - accuracy: 0.9300 - val_loss: 0.1741 - val_accuracy: 0.9300\n",
            "Epoch 300/300\n",
            "22/22 [==============================] - 0s 4ms/step - loss: 0.1805 - accuracy: 0.9300 - val_loss: 0.1738 - val_accuracy: 0.9300\n"
          ]
        }
      ]
    },
    {
      "cell_type": "code",
      "source": [
        "for k in hist.history.keys():\n",
        "  plt.plot(range(len(hist.history[k])),hist.history[k])\n",
        "plt.legend(hist.history.keys())"
      ],
      "metadata": {
        "colab": {
          "base_uri": "https://localhost:8080/",
          "height": 447
        },
        "id": "9nC27HJ8pk8c",
        "outputId": "c94402bf-06d1-471f-b7ae-4878e99e874a"
      },
      "execution_count": null,
      "outputs": [
        {
          "output_type": "execute_result",
          "data": {
            "text/plain": [
              "<matplotlib.legend.Legend at 0x7fc36ecd00a0>"
            ]
          },
          "metadata": {},
          "execution_count": 40
        },
        {
          "output_type": "display_data",
          "data": {
            "text/plain": [
              "<Figure size 640x480 with 1 Axes>"
            ],
            "image/png": "[encoded data removed]"
          },
          "metadata": {}
        }
      ]
    },
    {
      "cell_type": "code",
      "source": [
        "hist.history.keys()"
      ],
      "metadata": {
        "colab": {
          "base_uri": "https://localhost:8080/"
        },
        "id": "cHSkWAq0qksZ",
        "outputId": "8fc7b3df-a899-405e-e6dc-1a854ac02792"
      },
      "execution_count": null,
      "outputs": [
        {
          "output_type": "execute_result",
          "data": {
            "text/plain": [
              "dict_keys(['loss', 'accuracy', 'val_loss', 'val_accuracy'])"
            ]
          },
          "metadata": {},
          "execution_count": 41
        }
      ]
    },
    {
      "cell_type": "code",
      "source": [
        "y_pred = model.predict(test_x_norm) > 0.5"
      ],
      "metadata": {
        "colab": {
          "base_uri": "https://localhost:8080/"
        },
        "id": "rngLsCL0rxot",
        "outputId": "713d88ce-d611-4d98-d6ac-9e095a8d10c8"
      },
      "execution_count": null,
      "outputs": [
        {
          "output_type": "stream",
          "name": "stdout",
          "text": [
            "10/10 [==============================] - 0s 2ms/step\n"
          ]
        }
      ]
    },
    {
      "cell_type": "code",
      "source": [
        "y_pred"
      ],
      "metadata": {
        "colab": {
          "base_uri": "https://localhost:8080/"
        },
        "id": "TO6eWdCcsEU-",
        "outputId": "a8c79f64-634f-43f8-f834-93c2642f19a2"
      },
      "execution_count": null,
      "outputs": [
        {
          "output_type": "execute_result",
          "data": {
            "text/plain": [
              "array([[False, False,  True],\n",
              "       [ True, False, False],\n",
              "       [ True, False, False],\n",
              "       [False,  True, False],\n",
              "       [ True, False, False],\n",
              "       [False, False,  True],\n",
              "       [ True, False, False],\n",
              "       [False, False, False],\n",
              "       [ True, False, False],\n",
              "       [False, False,  True],\n",
              "       [ True, False, False],\n",
              "       [False, False,  True],\n",
              "       [False, False,  True],\n",
              "       [False,  True, False],\n",
              "       [False,  True, False],\n",
              "       [False, False,  True],\n",
              "       [ True, False, False],\n",
              "       [False, False, False],\n",
              "       [ True, False, False],\n",
              "       [False,  True, False],\n",
              "       [ True, False, False],\n",
              "       [False,  True, False],\n",
              "       [ True, False, False],\n",
              "       [ True, False, False],\n",
              "       [ True, False, False],\n",
              "       [False, False,  True],\n",
              "       [False, False, False],\n",
              "       [False,  True, False],\n",
              "       [False,  True, False],\n",
              "       [False, False,  True],\n",
              "       [False,  True, False],\n",
              "       [False, False,  True],\n",
              "       [ True, False, False],\n",
              "       [False,  True, False],\n",
              "       [False, False,  True],\n",
              "       [ True, False, False],\n",
              "       [False, False,  True],\n",
              "       [ True, False, False],\n",
              "       [False, False,  True],\n",
              "       [False,  True, False],\n",
              "       [False, False,  True],\n",
              "       [False, False,  True],\n",
              "       [ True, False, False],\n",
              "       [False, False,  True],\n",
              "       [ True, False, False],\n",
              "       [ True, False, False],\n",
              "       [False, False,  True],\n",
              "       [ True, False, False],\n",
              "       [ True, False, False],\n",
              "       [False, False,  True],\n",
              "       [False, False,  True],\n",
              "       [False, False,  True],\n",
              "       [False, False,  True],\n",
              "       [ True, False, False],\n",
              "       [False, False,  True],\n",
              "       [ True, False, False],\n",
              "       [ True, False, False],\n",
              "       [ True, False, False],\n",
              "       [False,  True, False],\n",
              "       [ True, False, False],\n",
              "       [ True, False, False],\n",
              "       [False,  True, False],\n",
              "       [ True, False, False],\n",
              "       [False,  True,  True],\n",
              "       [ True, False, False],\n",
              "       [False,  True, False],\n",
              "       [False, False,  True],\n",
              "       [ True, False, False],\n",
              "       [ True, False, False],\n",
              "       [False, False,  True],\n",
              "       [False,  True, False],\n",
              "       [False,  True, False],\n",
              "       [False,  True, False],\n",
              "       [False, False,  True],\n",
              "       [False, False,  True],\n",
              "       [False, False,  True],\n",
              "       [False, False,  True],\n",
              "       [False, False,  True],\n",
              "       [ True, False, False],\n",
              "       [False,  True, False],\n",
              "       [ True, False, False],\n",
              "       [False,  True, False],\n",
              "       [ True, False, False],\n",
              "       [False, False,  True],\n",
              "       [ True, False, False],\n",
              "       [ True, False, False],\n",
              "       [ True, False, False],\n",
              "       [False, False,  True],\n",
              "       [False,  True, False],\n",
              "       [ True, False, False],\n",
              "       [False, False,  True],\n",
              "       [False, False,  True],\n",
              "       [False,  True,  True],\n",
              "       [False, False,  True],\n",
              "       [False, False,  True],\n",
              "       [False, False,  True],\n",
              "       [False, False,  True],\n",
              "       [False, False,  True],\n",
              "       [False, False,  True],\n",
              "       [False,  True, False],\n",
              "       [ True, False, False],\n",
              "       [False, False,  True],\n",
              "       [False,  True, False],\n",
              "       [ True, False, False],\n",
              "       [False,  True, False],\n",
              "       [False,  True, False],\n",
              "       [False, False,  True],\n",
              "       [False, False,  True],\n",
              "       [ True, False, False],\n",
              "       [ True, False, False],\n",
              "       [False,  True, False],\n",
              "       [ True, False, False],\n",
              "       [False, False,  True],\n",
              "       [False, False, False],\n",
              "       [False,  True, False],\n",
              "       [ True, False, False],\n",
              "       [False, False,  True],\n",
              "       [False, False,  True],\n",
              "       [False,  True, False],\n",
              "       [False,  True, False],\n",
              "       [ True, False, False],\n",
              "       [ True, False, False],\n",
              "       [ True, False, False],\n",
              "       [False, False,  True],\n",
              "       [False,  True, False],\n",
              "       [ True, False, False],\n",
              "       [ True, False, False],\n",
              "       [False,  True, False],\n",
              "       [False,  True, False],\n",
              "       [False, False,  True],\n",
              "       [False, False,  True],\n",
              "       [ True, False, False],\n",
              "       [False,  True, False],\n",
              "       [ True, False, False],\n",
              "       [False,  True, False],\n",
              "       [False,  True,  True],\n",
              "       [False,  True, False],\n",
              "       [ True, False, False],\n",
              "       [False,  True, False],\n",
              "       [ True, False, False],\n",
              "       [False, False,  True],\n",
              "       [False,  True, False],\n",
              "       [False, False,  True],\n",
              "       [False, False,  True],\n",
              "       [False,  True, False],\n",
              "       [False,  True, False],\n",
              "       [False, False,  True],\n",
              "       [ True, False, False],\n",
              "       [False,  True, False],\n",
              "       [False,  True, False],\n",
              "       [ True, False, False],\n",
              "       [False,  True, False],\n",
              "       [False, False,  True],\n",
              "       [False, False,  True],\n",
              "       [False, False,  True],\n",
              "       [ True, False, False],\n",
              "       [False,  True,  True],\n",
              "       [ True, False, False],\n",
              "       [ True, False, False],\n",
              "       [False,  True, False],\n",
              "       [False, False, False],\n",
              "       [False, False,  True],\n",
              "       [False,  True, False],\n",
              "       [False, False,  True],\n",
              "       [False,  True, False],\n",
              "       [ True, False, False],\n",
              "       [False, False,  True],\n",
              "       [False,  True, False],\n",
              "       [False, False,  True],\n",
              "       [False,  True, False],\n",
              "       [ True, False, False],\n",
              "       [False, False,  True],\n",
              "       [ True, False, False],\n",
              "       [False,  True, False],\n",
              "       [ True, False, False],\n",
              "       [False, False, False],\n",
              "       [False, False,  True],\n",
              "       [False, False,  True],\n",
              "       [False, False,  True],\n",
              "       [False, False,  True],\n",
              "       [False, False,  True],\n",
              "       [False,  True, False],\n",
              "       [False,  True,  True],\n",
              "       [False, False,  True],\n",
              "       [False, False,  True],\n",
              "       [ True, False, False],\n",
              "       [ True, False, False],\n",
              "       [ True, False, False],\n",
              "       [ True, False, False],\n",
              "       [False, False,  True],\n",
              "       [False, False,  True],\n",
              "       [False,  True, False],\n",
              "       [False,  True,  True],\n",
              "       [ True, False, False],\n",
              "       [ True, False, False],\n",
              "       [False,  True, False],\n",
              "       [False, False,  True],\n",
              "       [False, False,  True],\n",
              "       [False, False,  True],\n",
              "       [False, False,  True],\n",
              "       [False, False,  True],\n",
              "       [False, False,  True],\n",
              "       [ True, False, False],\n",
              "       [False, False,  True],\n",
              "       [ True, False, False],\n",
              "       [ True, False, False],\n",
              "       [False, False,  True],\n",
              "       [False, False,  True],\n",
              "       [False, False,  True],\n",
              "       [ True, False, False],\n",
              "       [ True, False, False],\n",
              "       [False,  True, False],\n",
              "       [ True, False, False],\n",
              "       [ True, False, False],\n",
              "       [False, False, False],\n",
              "       [False,  True, False],\n",
              "       [False, False,  True],\n",
              "       [ True, False, False],\n",
              "       [False, False, False],\n",
              "       [False,  True, False],\n",
              "       [False,  True, False],\n",
              "       [False, False,  True],\n",
              "       [False, False, False],\n",
              "       [ True, False, False],\n",
              "       [False, False,  True],\n",
              "       [False, False,  True],\n",
              "       [False, False,  True],\n",
              "       [False,  True, False],\n",
              "       [ True, False, False],\n",
              "       [False, False,  True],\n",
              "       [ True, False, False],\n",
              "       [False,  True, False],\n",
              "       [False, False,  True],\n",
              "       [False, False,  True],\n",
              "       [ True, False, False],\n",
              "       [False, False,  True],\n",
              "       [ True, False, False],\n",
              "       [False,  True, False],\n",
              "       [False, False, False],\n",
              "       [ True, False, False],\n",
              "       [False, False, False],\n",
              "       [False, False,  True],\n",
              "       [ True, False, False],\n",
              "       [False, False,  True],\n",
              "       [ True, False, False],\n",
              "       [ True, False, False],\n",
              "       [ True, False, False],\n",
              "       [ True, False, False],\n",
              "       [False,  True, False],\n",
              "       [False, False,  True],\n",
              "       [False,  True, False],\n",
              "       [ True, False, False],\n",
              "       [False, False,  True],\n",
              "       [False,  True, False],\n",
              "       [ True, False, False],\n",
              "       [False, False,  True],\n",
              "       [False,  True, False],\n",
              "       [False, False,  True],\n",
              "       [ True, False, False],\n",
              "       [ True, False, False],\n",
              "       [ True, False, False],\n",
              "       [False, False,  True],\n",
              "       [False,  True, False],\n",
              "       [ True, False, False],\n",
              "       [ True, False, False],\n",
              "       [False, False,  True],\n",
              "       [False, False,  True],\n",
              "       [False,  True, False],\n",
              "       [False,  True, False],\n",
              "       [ True, False, False],\n",
              "       [ True, False, False],\n",
              "       [ True, False, False],\n",
              "       [ True, False, False],\n",
              "       [False, False, False],\n",
              "       [ True, False, False],\n",
              "       [False, False,  True],\n",
              "       [ True, False, False],\n",
              "       [False, False,  True],\n",
              "       [False, False,  True],\n",
              "       [False, False,  True],\n",
              "       [False, False,  True],\n",
              "       [ True, False, False],\n",
              "       [False,  True, False],\n",
              "       [ True, False, False],\n",
              "       [ True, False, False],\n",
              "       [False, False,  True],\n",
              "       [ True, False, False],\n",
              "       [False, False,  True],\n",
              "       [False, False,  True],\n",
              "       [False, False,  True],\n",
              "       [ True, False, False],\n",
              "       [False, False,  True],\n",
              "       [ True, False, False],\n",
              "       [False,  True,  True],\n",
              "       [False, False,  True],\n",
              "       [False,  True, False],\n",
              "       [False, False,  True],\n",
              "       [False, False,  True],\n",
              "       [False, False,  True],\n",
              "       [False,  True, False]])"
            ]
          },
          "metadata": {},
          "execution_count": 43
        }
      ]
    },
    {
      "cell_type": "code",
      "source": [
        "for i in range(3):\n",
        "  cm=confusion_matrix(y_test_vect[:,i], y_pred[:,i])\n",
        "  print(cm)\n",
        "  disp = metrics.ConfusionMatrixDisplay(cm)\n",
        "  disp.plot()\n",
        "  plt.show()"
      ],
      "metadata": {
        "colab": {
          "base_uri": "https://localhost:8080/",
          "height": 1000
        },
        "id": "DBiYIxsWq65l",
        "outputId": "88160867-e854-4fac-fdff-1ff93a474bf2"
      },
      "execution_count": null,
      "outputs": [
        {
          "output_type": "stream",
          "name": "stdout",
          "text": [
            "[[195   2]\n",
            " [  0 103]]\n"
          ]
        },
        {
          "output_type": "display_data",
          "data": {
            "text/plain": [
              "<Figure size 640x480 with 2 Axes>"
            ],
            "image/png": "[encoded data removed]"
          },
          "metadata": {}
        },
        {
          "output_type": "stream",
          "name": "stdout",
          "text": [
            "[[212   1]\n",
            " [ 15  72]]\n"
          ]
        },
        {
          "output_type": "display_data",
          "data": {
            "text/plain": [
              "<Figure size 640x480 with 2 Axes>"
            ],
            "image/png": "[encoded data removed]"
          },
          "metadata": {}
        },
        {
          "output_type": "stream",
          "name": "stdout",
          "text": [
            "[[177  13]\n",
            " [  6 104]]\n"
          ]
        },
        {
          "output_type": "display_data",
          "data": {
            "text/plain": [
              "<Figure size 640x480 with 2 Axes>"
            ],
            "image/png": "[encoded data removed]"
          },
          "metadata": {}
        }
      ]
    },
    {
      "cell_type": "code",
      "source": [
        "print(classification_report(y_test_vect, y_pred, target_names=['x0_High', 'x0_Low', 'x0_Medium']))"
      ],
      "metadata": {
        "colab": {
          "base_uri": "https://localhost:8080/"
        },
        "id": "XwkhByuzsAst",
        "outputId": "21b56b71-14d0-4bae-bf6e-e72d2eb018cd"
      },
      "execution_count": null,
      "outputs": [
        {
          "output_type": "stream",
          "name": "stdout",
          "text": [
            "              precision    recall  f1-score   support\n",
            "\n",
            "     x0_High       0.98      1.00      0.99       103\n",
            "      x0_Low       0.99      0.83      0.90        87\n",
            "   x0_Medium       0.89      0.95      0.92       110\n",
            "\n",
            "   micro avg       0.95      0.93      0.94       300\n",
            "   macro avg       0.95      0.92      0.94       300\n",
            "weighted avg       0.95      0.93      0.94       300\n",
            " samples avg       0.92      0.93      0.92       300\n",
            "\n"
          ]
        },
        {
          "output_type": "stream",
          "name": "stderr",
          "text": [
            "/usr/local/lib/python3.10/dist-packages/sklearn/metrics/_classification.py:1344: UndefinedMetricWarning: Precision and F-score are ill-defined and being set to 0.0 in samples with no predicted labels. Use `zero_division` parameter to control this behavior.\n",
            "  _warn_prf(average, modifier, msg_start, len(result))\n"
          ]
        }
      ]
    },
    {
      "cell_type": "markdown",
      "source": [
        "**Conclusion** : We observed the best results with KNN. So we will use KNN for our future predictions"
      ],
      "metadata": {
        "id": "o4F3gCMztiga"
      }
    },
    {
      "cell_type": "code",
      "source": [
        "def predict(x):\n",
        "  x = data_normalizer.transform([x])\n",
        "  y = tree_model.predict(x)\n",
        "  level = y_vectorizer.inverse_transform(y)\n",
        "  return level[0][0] \n"
      ],
      "metadata": {
        "id": "B9ifTasRt2bt"
      },
      "execution_count": null,
      "outputs": []
    },
    {
      "cell_type": "code",
      "source": [
        "predicted_level = predict(data.iloc[0,2:-1])\n",
        "predicted_level"
      ],
      "metadata": {
        "colab": {
          "base_uri": "https://localhost:8080/",
          "height": 71
        },
        "id": "bxZ-rEa3uX6H",
        "outputId": "7486750e-7b55-413c-c1dd-3ed0c6294722"
      },
      "execution_count": null,
      "outputs": [
        {
          "output_type": "stream",
          "name": "stderr",
          "text": [
            "/usr/local/lib/python3.10/dist-packages/sklearn/base.py:439: UserWarning: X does not have valid feature names, but MinMaxScaler was fitted with feature names\n",
            "  warnings.warn(\n"
          ]
        },
        {
          "output_type": "execute_result",
          "data": {
            "text/plain": [
              "'Low'"
            ],
            "application/vnd.google.colaboratory.intrinsic+json": {
              "type": "string"
            }
          },
          "metadata": {},
          "execution_count": 47
        }
      ]
    },
    {
      "cell_type": "code",
      "source": [
        "print(f'The patient has {predicted_level} level chances to have Lung cancer')"
      ],
      "metadata": {
        "colab": {
          "base_uri": "https://localhost:8080/"
        },
        "id": "qKZxLngXud0-",
        "outputId": "1a04029b-9f6c-4575-9077-cb49e203e44a"
      },
      "execution_count": null,
      "outputs": [
        {
          "output_type": "stream",
          "name": "stdout",
          "text": [
            "The patient has Low level chances to have Lung cancer\n"
          ]
        }
      ]
    }
  ]
}